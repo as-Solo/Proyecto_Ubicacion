{
 "cells": [
  {
   "cell_type": "code",
   "execution_count": 1,
   "id": "9e936b7b",
   "metadata": {},
   "outputs": [],
   "source": [
    "import sys\n",
    "sys.path.append(\"../\")"
   ]
  },
  {
   "cell_type": "code",
   "execution_count": 2,
   "id": "loving-trader",
   "metadata": {
    "scrolled": true
   },
   "outputs": [],
   "source": [
    "import pandas as pd\n",
    "import src.tratamiento_datos as td"
   ]
  },
  {
   "cell_type": "markdown",
   "id": "5caa9924",
   "metadata": {},
   "source": [
    "Como voy a priorizar las peticiones teniendo en cuenta el gasto hecho por la empresa a los distintos departamentos, me voy a hacer un pequeño diccionario para poder obserrvar los datos mejor y calcular el requirement_value. Los datos del sueldo son brutos anuales y están sacados de la media que me da google para cada cargo."
   ]
  },
  {
   "cell_type": "code",
   "execution_count": 27,
   "id": "gorgeous-sustainability",
   "metadata": {},
   "outputs": [],
   "source": [
    "#mi_empresa['Designers']['numero'] * mi_empresa['Designers']['sueldo']\n",
    "\n",
    "mi_empresa = {\n",
    "    'Designers' : {\n",
    "    'numero' : 20,\n",
    "    'sueldo' : 21000,\n",
    "    'coste' : 0,\n",
    "    'requirement' : 'Design Companies',\n",
    "    'requirement_value' : 0},\n",
    "    \n",
    "    'UI/UX Engineers' : {\n",
    "    'numero' : 5,\n",
    "    'sueldo' : 28000,\n",
    "    'coste' : 0,\n",
    "    'requirement' : 'ninguna',\n",
    "    'requirement_value' : 0},\n",
    "    \n",
    "    'Frontend Developers' : {\n",
    "    'numero' : 10,\n",
    "    'sueldo' : 23000,\n",
    "    'coste' : 0,\n",
    "    'requirement' : '1M companies',\n",
    "    'requirement_value' : 0},\n",
    "    \n",
    "    'Data Engineers' : {\n",
    "    'numero' : 15,\n",
    "    'sueldo' : 34000,\n",
    "    'coste' : 0,\n",
    "    'requirement' : 'ninguna',\n",
    "    'requirement_value' : 0},\n",
    "    \n",
    "    'Backend Developers' : {\n",
    "    'numero' : 5,\n",
    "    'sueldo' : 23000,\n",
    "    'coste' : 0,\n",
    "    'requirement' : '1M companies',\n",
    "    'requirement_value' : 0},\n",
    "    \n",
    "    'Account Managers' : {\n",
    "    'numero' : 20,\n",
    "    'sueldo' : 20000,\n",
    "    'coste' : 0,\n",
    "    'requirement' : 'Airport-Train',\n",
    "    'requirement_value' : 0},\n",
    "    \n",
    "    'Maintenance' : {\n",
    "    'numero' : 1,\n",
    "    'sueldo' : 19000,\n",
    "    'coste' : 0,\n",
    "    'requirement' : 'Basket Stadium',\n",
    "    'requirement_value' : 0},\n",
    "    \n",
    "    'Executives' : {\n",
    "    'numero' : 10,\n",
    "    'sueldo' : 32000,\n",
    "    'coste' : 0,\n",
    "    'requirement' : 'Starbuck',\n",
    "    'requirement_value' : 0},\n",
    "    \n",
    "    'President' : {\n",
    "    'numero' : 1,\n",
    "    'sueldo' : 100000,\n",
    "    'coste' : 0,\n",
    "    'requirement' : 'Vegan',\n",
    "    'requirement_value' : 0}\n",
    "}"
   ]
  },
  {
   "cell_type": "code",
   "execution_count": 8,
   "id": "leading-marketing",
   "metadata": {},
   "outputs": [],
   "source": [
    "td.calcular_coste_value(mi_empresa)"
   ]
  },
  {
   "cell_type": "code",
   "execution_count": 9,
   "id": "palestinian-steam",
   "metadata": {},
   "outputs": [],
   "source": [
    "empresa = pd.DataFrame(mi_empresa)"
   ]
  },
  {
   "cell_type": "code",
   "execution_count": 10,
   "id": "introductory-nashville",
   "metadata": {},
   "outputs": [],
   "source": [
    "empresa = empresa.transpose().sort_values('requirement_value', ascending = False)"
   ]
  },
  {
   "cell_type": "code",
   "execution_count": 11,
   "id": "rolled-breathing",
   "metadata": {},
   "outputs": [],
   "source": [
    "empresa = empresa.rename_axis('departamentos').reset_index()"
   ]
  },
  {
   "cell_type": "code",
   "execution_count": 12,
   "id": "industrial-dover",
   "metadata": {
    "scrolled": true
   },
   "outputs": [
    {
     "data": {
      "text/html": [
       "<div>\n",
       "<style scoped>\n",
       "    .dataframe tbody tr th:only-of-type {\n",
       "        vertical-align: middle;\n",
       "    }\n",
       "\n",
       "    .dataframe tbody tr th {\n",
       "        vertical-align: top;\n",
       "    }\n",
       "\n",
       "    .dataframe thead th {\n",
       "        text-align: right;\n",
       "    }\n",
       "</style>\n",
       "<table border=\"1\" class=\"dataframe\">\n",
       "  <thead>\n",
       "    <tr style=\"text-align: right;\">\n",
       "      <th></th>\n",
       "      <th>departamentos</th>\n",
       "      <th>numero</th>\n",
       "      <th>sueldo</th>\n",
       "      <th>coste</th>\n",
       "      <th>requirement</th>\n",
       "      <th>requirement_value</th>\n",
       "    </tr>\n",
       "  </thead>\n",
       "  <tbody>\n",
       "    <tr>\n",
       "      <th>0</th>\n",
       "      <td>Data Engineers</td>\n",
       "      <td>15</td>\n",
       "      <td>34000</td>\n",
       "      <td>510000</td>\n",
       "      <td>ninguna</td>\n",
       "      <td>10.0</td>\n",
       "    </tr>\n",
       "    <tr>\n",
       "      <th>1</th>\n",
       "      <td>Designers</td>\n",
       "      <td>20</td>\n",
       "      <td>21000</td>\n",
       "      <td>420000</td>\n",
       "      <td>Design Companies</td>\n",
       "      <td>8.24</td>\n",
       "    </tr>\n",
       "    <tr>\n",
       "      <th>2</th>\n",
       "      <td>Account Managers</td>\n",
       "      <td>20</td>\n",
       "      <td>20000</td>\n",
       "      <td>400000</td>\n",
       "      <td>Airport-Train</td>\n",
       "      <td>7.84</td>\n",
       "    </tr>\n",
       "    <tr>\n",
       "      <th>3</th>\n",
       "      <td>Executives</td>\n",
       "      <td>10</td>\n",
       "      <td>32000</td>\n",
       "      <td>320000</td>\n",
       "      <td>Starbuck</td>\n",
       "      <td>6.27</td>\n",
       "    </tr>\n",
       "    <tr>\n",
       "      <th>4</th>\n",
       "      <td>Frontend Developers</td>\n",
       "      <td>10</td>\n",
       "      <td>23000</td>\n",
       "      <td>230000</td>\n",
       "      <td>1M companies</td>\n",
       "      <td>4.51</td>\n",
       "    </tr>\n",
       "    <tr>\n",
       "      <th>5</th>\n",
       "      <td>UI/UX Engineers</td>\n",
       "      <td>5</td>\n",
       "      <td>28000</td>\n",
       "      <td>140000</td>\n",
       "      <td>ninguna</td>\n",
       "      <td>2.75</td>\n",
       "    </tr>\n",
       "    <tr>\n",
       "      <th>6</th>\n",
       "      <td>Backend Developers</td>\n",
       "      <td>5</td>\n",
       "      <td>23000</td>\n",
       "      <td>115000</td>\n",
       "      <td>1M companies</td>\n",
       "      <td>2.25</td>\n",
       "    </tr>\n",
       "    <tr>\n",
       "      <th>7</th>\n",
       "      <td>President</td>\n",
       "      <td>1</td>\n",
       "      <td>100000</td>\n",
       "      <td>100000</td>\n",
       "      <td>Vegan</td>\n",
       "      <td>1.96</td>\n",
       "    </tr>\n",
       "    <tr>\n",
       "      <th>8</th>\n",
       "      <td>Maintenance</td>\n",
       "      <td>1</td>\n",
       "      <td>19000</td>\n",
       "      <td>19000</td>\n",
       "      <td>Basket Stadium</td>\n",
       "      <td>0.37</td>\n",
       "    </tr>\n",
       "  </tbody>\n",
       "</table>\n",
       "</div>"
      ],
      "text/plain": [
       "         departamentos numero  sueldo   coste       requirement  \\\n",
       "0       Data Engineers     15   34000  510000           ninguna   \n",
       "1            Designers     20   21000  420000  Design Companies   \n",
       "2     Account Managers     20   20000  400000     Airport-Train   \n",
       "3           Executives     10   32000  320000          Starbuck   \n",
       "4  Frontend Developers     10   23000  230000      1M companies   \n",
       "5      UI/UX Engineers      5   28000  140000           ninguna   \n",
       "6   Backend Developers      5   23000  115000      1M companies   \n",
       "7            President      1  100000  100000             Vegan   \n",
       "8          Maintenance      1   19000   19000    Basket Stadium   \n",
       "\n",
       "  requirement_value  \n",
       "0              10.0  \n",
       "1              8.24  \n",
       "2              7.84  \n",
       "3              6.27  \n",
       "4              4.51  \n",
       "5              2.75  \n",
       "6              2.25  \n",
       "7              1.96  \n",
       "8              0.37  "
      ]
     },
     "execution_count": 12,
     "metadata": {},
     "output_type": "execute_result"
    }
   ],
   "source": [
    "empresa"
   ]
  },
  {
   "cell_type": "code",
   "execution_count": 13,
   "id": "driving-registrar",
   "metadata": {},
   "outputs": [],
   "source": [
    "requirements =empresa.requirement_value.groupby(empresa.requirement).sum()\n",
    "ranking = pd.DataFrame(requirements)\n",
    "ranking = ranking.reset_index()"
   ]
  },
  {
   "cell_type": "markdown",
   "id": "ffd4b67d",
   "metadata": {},
   "source": [
    "Vamos a introducir un requirement que no se ha podido añadir hasta ahora porque depende de toda la plantilla que es el de los colegios. calcularemos el coste total que genera el 30% de la plantilla y con eso calcularemos su requirement_value"
   ]
  },
  {
   "cell_type": "code",
   "execution_count": 15,
   "id": "6b952583",
   "metadata": {},
   "outputs": [],
   "source": [
    "coste_30_plantilla = empresa.coste.sum()*0.3"
   ]
  },
  {
   "cell_type": "code",
   "execution_count": 16,
   "id": "7f51bd28",
   "metadata": {},
   "outputs": [],
   "source": [
    "valor_referencia = empresa.coste.max()"
   ]
  },
  {
   "cell_type": "code",
   "execution_count": 20,
   "id": "91c6e16b",
   "metadata": {},
   "outputs": [
    {
     "data": {
      "text/plain": [
       "13.26"
      ]
     },
     "execution_count": 20,
     "metadata": {},
     "output_type": "execute_result"
    }
   ],
   "source": [
    "td.calc_requirement_value(coste_30_plantilla, valor_referencia)"
   ]
  },
  {
   "cell_type": "code",
   "execution_count": 25,
   "id": "08d99f9e",
   "metadata": {
    "scrolled": true
   },
   "outputs": [],
   "source": [
    "ranking = ranking.append({'requirement':'colegio', 'requirement_value' : td.calc_requirement_value(coste_30_plantilla, valor_referencia)}, ignore_index = True)"
   ]
  },
  {
   "cell_type": "markdown",
   "id": "6af379dd",
   "metadata": {},
   "source": [
    "calculemos el requirement_value de cerca de zonas de ocio (bares, discotecas, ¿karaokes?)"
   ]
  },
  {
   "cell_type": "code",
   "execution_count": 30,
   "id": "69221f59",
   "metadata": {},
   "outputs": [],
   "source": [
    "coste_plantilla = empresa.coste.sum()"
   ]
  },
  {
   "cell_type": "code",
   "execution_count": 51,
   "id": "85f9643f",
   "metadata": {},
   "outputs": [],
   "source": [
    "ranking = ranking.append({'requirement' : 'ocio', 'requirement_value' : td.calc_requirement_value(coste_plantilla, valor_referencia)}, ignore_index = True)"
   ]
  },
  {
   "cell_type": "markdown",
   "id": "921a341d",
   "metadata": {},
   "source": [
    "Ya por último añadamos las necesidades de Dobby. Como el amor de un perro no tiene precio, le vamos a poner un 5 teniendo en cuenta que hemos valorado de 0 a 10 los gastos en los departamentos"
   ]
  },
  {
   "cell_type": "code",
   "execution_count": 32,
   "id": "fb290c28",
   "metadata": {},
   "outputs": [],
   "source": [
    "ranking = ranking.append({'requirement' : 'peluqueria_canina', 'requirement_value' : 5}, ignore_index = True)"
   ]
  },
  {
   "cell_type": "code",
   "execution_count": 53,
   "id": "1da33818",
   "metadata": {},
   "outputs": [],
   "source": [
    "ranking = ranking.sort_values('requirement_value', ascending = False)"
   ]
  },
  {
   "cell_type": "markdown",
   "id": "604368df",
   "metadata": {},
   "source": [
    "eliminamos la fila donde aparece el requirement ninguna porque no lo vamos a necesitar"
   ]
  },
  {
   "cell_type": "code",
   "execution_count": 59,
   "id": "1b071129",
   "metadata": {},
   "outputs": [],
   "source": [
    "ranking = ranking.drop(ranking[ranking['requirement'] == 'ninguna'].index)"
   ]
  },
  {
   "cell_type": "code",
   "execution_count": 60,
   "id": "95404434",
   "metadata": {},
   "outputs": [
    {
     "data": {
      "text/html": [
       "<div>\n",
       "<style scoped>\n",
       "    .dataframe tbody tr th:only-of-type {\n",
       "        vertical-align: middle;\n",
       "    }\n",
       "\n",
       "    .dataframe tbody tr th {\n",
       "        vertical-align: top;\n",
       "    }\n",
       "\n",
       "    .dataframe thead th {\n",
       "        text-align: right;\n",
       "    }\n",
       "</style>\n",
       "<table border=\"1\" class=\"dataframe\">\n",
       "  <thead>\n",
       "    <tr style=\"text-align: right;\">\n",
       "      <th></th>\n",
       "      <th>requirement</th>\n",
       "      <th>requirement_value</th>\n",
       "    </tr>\n",
       "  </thead>\n",
       "  <tbody>\n",
       "    <tr>\n",
       "      <th>8</th>\n",
       "      <td>ocio</td>\n",
       "      <td>44.20</td>\n",
       "    </tr>\n",
       "    <tr>\n",
       "      <th>0</th>\n",
       "      <td>colegio</td>\n",
       "      <td>13.26</td>\n",
       "    </tr>\n",
       "    <tr>\n",
       "      <th>1</th>\n",
       "      <td>Design Companies</td>\n",
       "      <td>8.24</td>\n",
       "    </tr>\n",
       "    <tr>\n",
       "      <th>2</th>\n",
       "      <td>Airport-Train</td>\n",
       "      <td>7.84</td>\n",
       "    </tr>\n",
       "    <tr>\n",
       "      <th>3</th>\n",
       "      <td>1M companies</td>\n",
       "      <td>6.76</td>\n",
       "    </tr>\n",
       "    <tr>\n",
       "      <th>4</th>\n",
       "      <td>Starbuck</td>\n",
       "      <td>6.27</td>\n",
       "    </tr>\n",
       "    <tr>\n",
       "      <th>5</th>\n",
       "      <td>peluqueria_canina</td>\n",
       "      <td>5.00</td>\n",
       "    </tr>\n",
       "    <tr>\n",
       "      <th>6</th>\n",
       "      <td>Vegan</td>\n",
       "      <td>1.96</td>\n",
       "    </tr>\n",
       "    <tr>\n",
       "      <th>7</th>\n",
       "      <td>Basket Stadium</td>\n",
       "      <td>0.37</td>\n",
       "    </tr>\n",
       "  </tbody>\n",
       "</table>\n",
       "</div>"
      ],
      "text/plain": [
       "         requirement  requirement_value\n",
       "8               ocio              44.20\n",
       "0            colegio              13.26\n",
       "1   Design Companies               8.24\n",
       "2      Airport-Train               7.84\n",
       "3       1M companies               6.76\n",
       "4           Starbuck               6.27\n",
       "5  peluqueria_canina               5.00\n",
       "6              Vegan               1.96\n",
       "7     Basket Stadium               0.37"
      ]
     },
     "execution_count": 60,
     "metadata": {},
     "output_type": "execute_result"
    }
   ],
   "source": [
    "ranking"
   ]
  },
  {
   "cell_type": "code",
   "execution_count": null,
   "id": "f133a21d",
   "metadata": {},
   "outputs": [],
   "source": []
  },
  {
   "cell_type": "code",
   "execution_count": null,
   "id": "90d6ee9c",
   "metadata": {},
   "outputs": [],
   "source": []
  },
  {
   "cell_type": "code",
   "execution_count": null,
   "id": "fac8e935",
   "metadata": {},
   "outputs": [],
   "source": []
  },
  {
   "cell_type": "code",
   "execution_count": null,
   "id": "bbb5ca94",
   "metadata": {},
   "outputs": [],
   "source": []
  },
  {
   "cell_type": "code",
   "execution_count": 39,
   "id": "5db356e6",
   "metadata": {},
   "outputs": [],
   "source": [
    "coste_vida_NY = [2000, 117, 72, 120, 70]"
   ]
  },
  {
   "cell_type": "code",
   "execution_count": 40,
   "id": "e41f6dd8",
   "metadata": {},
   "outputs": [
    {
     "data": {
      "text/plain": [
       "2379"
      ]
     },
     "execution_count": 40,
     "metadata": {},
     "output_type": "execute_result"
    }
   ],
   "source": [
    "sum(coste_vida_NY)"
   ]
  },
  {
   "cell_type": "markdown",
   "id": "6beae86e",
   "metadata": {},
   "source": [
    "dejo esto aquí por ahora por si en algún momento se me olvida la única idea buena que he tenido hasta ahora."
   ]
  },
  {
   "cell_type": "code",
   "execution_count": 23,
   "id": "3baf3d69",
   "metadata": {},
   "outputs": [],
   "source": [
    "long_lat = [[40.398565135112996, -3.722716399596196], [40.39749477883896, -3.71566755457216], [40.39265753675685, -3.725066014604207]]"
   ]
  },
  {
   "cell_type": "code",
   "execution_count": 28,
   "id": "15faefdc",
   "metadata": {},
   "outputs": [
    {
     "name": "stdout",
     "output_type": "stream",
     "text": [
      "40.39623915023626\n",
      "-3.721149989590854\n"
     ]
    }
   ],
   "source": [
    "long_media = 0\n",
    "lat_media = 0\n",
    "for elem in long_lat:\n",
    "    long_media += elem[0]\n",
    "    lat_media += elem[1]\n",
    "    \n",
    "print(long_media/3)\n",
    "print(lat_media/3)"
   ]
  }
 ],
 "metadata": {
  "kernelspec": {
   "display_name": "Python 3",
   "language": "python",
   "name": "python3"
  },
  "language_info": {
   "codemirror_mode": {
    "name": "ipython",
    "version": 3
   },
   "file_extension": ".py",
   "mimetype": "text/x-python",
   "name": "python",
   "nbconvert_exporter": "python",
   "pygments_lexer": "ipython3",
   "version": "3.8.8"
  }
 },
 "nbformat": 4,
 "nbformat_minor": 5
}
