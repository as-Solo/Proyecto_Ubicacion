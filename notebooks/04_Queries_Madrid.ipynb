{
 "cells": [
  {
   "cell_type": "code",
   "execution_count": 3,
   "id": "cd796ec9",
   "metadata": {},
   "outputs": [],
   "source": [
    "import sys\n",
    "sys.path.append(\"../\")"
   ]
  },
  {
   "cell_type": "code",
   "execution_count": 4,
   "id": "308e2d0a",
   "metadata": {},
   "outputs": [],
   "source": [
    "import src.tratamiento_datos as td"
   ]
  },
  {
   "cell_type": "code",
   "execution_count": 5,
   "id": "bb4335cf",
   "metadata": {},
   "outputs": [
    {
     "data": {
      "text/plain": [
       "MongoClient(host=['localhost:27017'], document_class=dict, tz_aware=False, connect=True)"
      ]
     },
     "execution_count": 5,
     "metadata": {},
     "output_type": "execute_result"
    }
   ],
   "source": [
    "from pymongo import MongoClient\n",
    "client = MongoClient(\"localhost:27017\")\n",
    "client"
   ]
  },
  {
   "cell_type": "code",
   "execution_count": 6,
   "id": "ea2943f6",
   "metadata": {},
   "outputs": [],
   "source": [
    "db = client.get_database(\"ironhack\")"
   ]
  },
  {
   "cell_type": "code",
   "execution_count": 8,
   "id": "fe5f4ddf",
   "metadata": {},
   "outputs": [],
   "source": [
    "from pymongo import GEOSPHERE"
   ]
  },
  {
   "cell_type": "code",
   "execution_count": 9,
   "id": "c968c490",
   "metadata": {},
   "outputs": [
    {
     "data": {
      "text/plain": [
       "True"
      ]
     },
     "execution_count": 9,
     "metadata": {},
     "output_type": "execute_result"
    }
   ],
   "source": [
    "import requests\n",
    "import json\n",
    "from dotenv import load_dotenv\n",
    "import os\n",
    "import pandas as pd\n",
    "from functools import reduce\n",
    "import operator\n",
    "load_dotenv()"
   ]
  },
  {
   "cell_type": "markdown",
   "id": "ac87a11f",
   "metadata": {},
   "source": [
    "fruterias = db.get_collection(\"misfruterias\")\n",
    "fruterias.create_index([(\"geometry\", GEOSPHERE)])"
   ]
  },
  {
   "cell_type": "markdown",
   "id": "f5b8849f",
   "metadata": {},
   "source": [
    "lavapi = [40.408808, -3.7034796]\n",
    "lavapi_point = {\"type\": \"Point\",  \"coordinates\": lavapi}"
   ]
  },
  {
   "cell_type": "markdown",
   "id": "95b17609",
   "metadata": {},
   "source": [
    "lavapi_point"
   ]
  },
  {
   "cell_type": "markdown",
   "id": "9464172d",
   "metadata": {},
   "source": [
    "consulta = {\"location\": {\"$near\": {\"$geometry\": lavapi_point, \"$maxDistance\": 2000}}}"
   ]
  },
  {
   "cell_type": "markdown",
   "id": "e75d4307",
   "metadata": {},
   "source": [
    "fru = list(fruterias.find(consulta))"
   ]
  },
  {
   "cell_type": "markdown",
   "id": "79d9e1a9",
   "metadata": {},
   "source": [
    "df = pd.DataFrame(fru)\n",
    "df.head()"
   ]
  },
  {
   "cell_type": "code",
   "execution_count": null,
   "id": "8b3e2a91",
   "metadata": {},
   "outputs": [],
   "source": []
  },
  {
   "cell_type": "code",
   "execution_count": null,
   "id": "2a3d1d06",
   "metadata": {},
   "outputs": [],
   "source": []
  },
  {
   "cell_type": "code",
   "execution_count": null,
   "id": "eb227801",
   "metadata": {},
   "outputs": [],
   "source": []
  },
  {
   "cell_type": "code",
   "execution_count": null,
   "id": "7468a862",
   "metadata": {},
   "outputs": [],
   "source": []
  }
 ],
 "metadata": {
  "kernelspec": {
   "display_name": "Python 3",
   "language": "python",
   "name": "python3"
  },
  "language_info": {
   "codemirror_mode": {
    "name": "ipython",
    "version": 3
   },
   "file_extension": ".py",
   "mimetype": "text/x-python",
   "name": "python",
   "nbconvert_exporter": "python",
   "pygments_lexer": "ipython3",
   "version": "3.8.8"
  }
 },
 "nbformat": 4,
 "nbformat_minor": 5
}
