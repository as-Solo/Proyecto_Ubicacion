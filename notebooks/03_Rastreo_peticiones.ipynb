{
 "cells": [
  {
   "cell_type": "code",
   "execution_count": 448,
   "id": "550f09d8",
   "metadata": {},
   "outputs": [],
   "source": [
    "import sys\n",
    "sys.path.append(\"../\")"
   ]
  },
  {
   "cell_type": "code",
   "execution_count": null,
   "id": "b89130fe",
   "metadata": {},
   "outputs": [],
   "source": [
    "import src.tratamiento_datos as td"
   ]
  },
  {
   "cell_type": "code",
   "execution_count": 14,
   "id": "93420f98",
   "metadata": {},
   "outputs": [
    {
     "data": {
      "text/plain": [
       "MongoClient(host=['localhost:27017'], document_class=dict, tz_aware=False, connect=True)"
      ]
     },
     "execution_count": 14,
     "metadata": {},
     "output_type": "execute_result"
    }
   ],
   "source": [
    "from pymongo import MongoClient\n",
    "client = MongoClient(\"localhost:27017\")\n",
    "client"
   ]
  },
  {
   "cell_type": "code",
   "execution_count": 15,
   "id": "25b4058e",
   "metadata": {},
   "outputs": [],
   "source": [
    "db = client.get_database(\"ironhack\")"
   ]
  },
  {
   "cell_type": "code",
   "execution_count": 16,
   "id": "5d019ef2",
   "metadata": {},
   "outputs": [],
   "source": [
    "from pymongo import GEOSPHERE"
   ]
  },
  {
   "cell_type": "code",
   "execution_count": 44,
   "id": "441da948",
   "metadata": {},
   "outputs": [
    {
     "data": {
      "text/plain": [
       "True"
      ]
     },
     "execution_count": 44,
     "metadata": {},
     "output_type": "execute_result"
    }
   ],
   "source": [
    "import requests\n",
    "import json\n",
    "from dotenv import load_dotenv\n",
    "import os\n",
    "import pandas as pd\n",
    "load_dotenv()"
   ]
  },
  {
   "cell_type": "code",
   "execution_count": 59,
   "id": "a7568d23",
   "metadata": {},
   "outputs": [],
   "source": [
    "tok1= 'YSS3V41QKFXVDXT4GTN4Z5SJE4VP3O4ADYABQN4OQ5LWAPNM'\n",
    "tok2= 'WMQKJO1F3X2L0ZVLWJOD4YVBTXU0FRVCXWXLE5OLRXAX2C1W'"
   ]
  },
  {
   "cell_type": "code",
   "execution_count": 5,
   "id": "4504832d",
   "metadata": {},
   "outputs": [],
   "source": [
    "ranking = pd.read_csv('../data/ranking', index_col = 0)"
   ]
  },
  {
   "cell_type": "code",
   "execution_count": 8,
   "id": "8a2cc594",
   "metadata": {},
   "outputs": [
    {
     "data": {
      "text/html": [
       "<div>\n",
       "<style scoped>\n",
       "    .dataframe tbody tr th:only-of-type {\n",
       "        vertical-align: middle;\n",
       "    }\n",
       "\n",
       "    .dataframe tbody tr th {\n",
       "        vertical-align: top;\n",
       "    }\n",
       "\n",
       "    .dataframe thead th {\n",
       "        text-align: right;\n",
       "    }\n",
       "</style>\n",
       "<table border=\"1\" class=\"dataframe\">\n",
       "  <thead>\n",
       "    <tr style=\"text-align: right;\">\n",
       "      <th></th>\n",
       "      <th>requirement</th>\n",
       "      <th>requirement_value</th>\n",
       "    </tr>\n",
       "  </thead>\n",
       "  <tbody>\n",
       "    <tr>\n",
       "      <th>8</th>\n",
       "      <td>ocio</td>\n",
       "      <td>44.20</td>\n",
       "    </tr>\n",
       "    <tr>\n",
       "      <th>0</th>\n",
       "      <td>colegio</td>\n",
       "      <td>13.26</td>\n",
       "    </tr>\n",
       "    <tr>\n",
       "      <th>1</th>\n",
       "      <td>Design Companies</td>\n",
       "      <td>8.24</td>\n",
       "    </tr>\n",
       "    <tr>\n",
       "      <th>2</th>\n",
       "      <td>Airport-Train</td>\n",
       "      <td>7.84</td>\n",
       "    </tr>\n",
       "    <tr>\n",
       "      <th>3</th>\n",
       "      <td>1M companies</td>\n",
       "      <td>6.76</td>\n",
       "    </tr>\n",
       "    <tr>\n",
       "      <th>4</th>\n",
       "      <td>Starbuck</td>\n",
       "      <td>6.27</td>\n",
       "    </tr>\n",
       "    <tr>\n",
       "      <th>5</th>\n",
       "      <td>peluqueria_canina</td>\n",
       "      <td>5.00</td>\n",
       "    </tr>\n",
       "    <tr>\n",
       "      <th>6</th>\n",
       "      <td>Vegan</td>\n",
       "      <td>1.96</td>\n",
       "    </tr>\n",
       "    <tr>\n",
       "      <th>7</th>\n",
       "      <td>Basket Stadium</td>\n",
       "      <td>0.37</td>\n",
       "    </tr>\n",
       "  </tbody>\n",
       "</table>\n",
       "</div>"
      ],
      "text/plain": [
       "         requirement  requirement_value\n",
       "8               ocio              44.20\n",
       "0            colegio              13.26\n",
       "1   Design Companies               8.24\n",
       "2      Airport-Train               7.84\n",
       "3       1M companies               6.76\n",
       "4           Starbuck               6.27\n",
       "5  peluqueria_canina               5.00\n",
       "6              Vegan               1.96\n",
       "7     Basket Stadium               0.37"
      ]
     },
     "execution_count": 8,
     "metadata": {},
     "output_type": "execute_result"
    }
   ],
   "source": [
    "ranking"
   ]
  },
  {
   "cell_type": "code",
   "execution_count": 11,
   "id": "68fc7d49",
   "metadata": {},
   "outputs": [],
   "source": [
    "empresas_ciudad = pd.read_csv('../data/empresas_ciudad', index_col = 0)"
   ]
  },
  {
   "cell_type": "code",
   "execution_count": 12,
   "id": "ef5f61f9",
   "metadata": {},
   "outputs": [
    {
     "data": {
      "text/html": [
       "<div>\n",
       "<style scoped>\n",
       "    .dataframe tbody tr th:only-of-type {\n",
       "        vertical-align: middle;\n",
       "    }\n",
       "\n",
       "    .dataframe tbody tr th {\n",
       "        vertical-align: top;\n",
       "    }\n",
       "\n",
       "    .dataframe thead th {\n",
       "        text-align: right;\n",
       "    }\n",
       "</style>\n",
       "<table border=\"1\" class=\"dataframe\">\n",
       "  <thead>\n",
       "    <tr style=\"text-align: right;\">\n",
       "      <th></th>\n",
       "      <th>Madrid</th>\n",
       "      <th>Barcelona</th>\n",
       "      <th>Montreal</th>\n",
       "      <th>Lisboa</th>\n",
       "    </tr>\n",
       "  </thead>\n",
       "  <tbody>\n",
       "    <tr>\n",
       "      <th>0</th>\n",
       "      <td>Fon</td>\n",
       "      <td>Splendia</td>\n",
       "      <td>Airborne Mobile</td>\n",
       "      <td>Nexway</td>\n",
       "    </tr>\n",
       "    <tr>\n",
       "      <th>1</th>\n",
       "      <td>eRepublik</td>\n",
       "      <td>Futurlink</td>\n",
       "      <td>Mobivox</td>\n",
       "      <td>NaN</td>\n",
       "    </tr>\n",
       "    <tr>\n",
       "      <th>2</th>\n",
       "      <td>Busuu</td>\n",
       "      <td>Openbravo</td>\n",
       "      <td>Radialpoint</td>\n",
       "      <td>NaN</td>\n",
       "    </tr>\n",
       "    <tr>\n",
       "      <th>3</th>\n",
       "      <td>Unkasoft Advergaming</td>\n",
       "      <td>UserZoom</td>\n",
       "      <td>Akoha</td>\n",
       "      <td>NaN</td>\n",
       "    </tr>\n",
       "    <tr>\n",
       "      <th>4</th>\n",
       "      <td>Nexway</td>\n",
       "      <td>Veeva</td>\n",
       "      <td>MediaScrape</td>\n",
       "      <td>NaN</td>\n",
       "    </tr>\n",
       "    <tr>\n",
       "      <th>5</th>\n",
       "      <td>Tuenti Technologies</td>\n",
       "      <td>Teambox</td>\n",
       "      <td>StatusNet</td>\n",
       "      <td>NaN</td>\n",
       "    </tr>\n",
       "    <tr>\n",
       "      <th>6</th>\n",
       "      <td>Virgin Play</td>\n",
       "      <td>International Sportsbook</td>\n",
       "      <td>Trellia Networks</td>\n",
       "      <td>NaN</td>\n",
       "    </tr>\n",
       "    <tr>\n",
       "      <th>7</th>\n",
       "      <td>ticketea</td>\n",
       "      <td>NaN</td>\n",
       "      <td>NaN</td>\n",
       "      <td>NaN</td>\n",
       "    </tr>\n",
       "    <tr>\n",
       "      <th>8</th>\n",
       "      <td>Genasys</td>\n",
       "      <td>NaN</td>\n",
       "      <td>NaN</td>\n",
       "      <td>NaN</td>\n",
       "    </tr>\n",
       "    <tr>\n",
       "      <th>9</th>\n",
       "      <td>BuyVIP</td>\n",
       "      <td>NaN</td>\n",
       "      <td>NaN</td>\n",
       "      <td>NaN</td>\n",
       "    </tr>\n",
       "  </tbody>\n",
       "</table>\n",
       "</div>"
      ],
      "text/plain": [
       "                 Madrid                 Barcelona          Montreal  Lisboa\n",
       "0                   Fon                  Splendia   Airborne Mobile  Nexway\n",
       "1             eRepublik                 Futurlink           Mobivox     NaN\n",
       "2                 Busuu                 Openbravo       Radialpoint     NaN\n",
       "3  Unkasoft Advergaming                  UserZoom             Akoha     NaN\n",
       "4                Nexway                     Veeva       MediaScrape     NaN\n",
       "5   Tuenti Technologies                   Teambox         StatusNet     NaN\n",
       "6           Virgin Play  International Sportsbook  Trellia Networks     NaN\n",
       "7              ticketea                       NaN               NaN     NaN\n",
       "8               Genasys                       NaN               NaN     NaN\n",
       "9                BuyVIP                       NaN               NaN     NaN"
      ]
     },
     "execution_count": 12,
     "metadata": {},
     "output_type": "execute_result"
    }
   ],
   "source": [
    "empresas_ciudad"
   ]
  },
  {
   "cell_type": "code",
   "execution_count": 17,
   "id": "4ed41b10",
   "metadata": {},
   "outputs": [],
   "source": [
    "coordenadas_ciudades = {'madrid' : [40.42741669687324, -3.7042628540907128],\n",
    "                        'barcelona' : [41.38673290105267, 2.1734030691967905],\n",
    "                        'lisboa' : [38.72287648728543, -9.139444396944034],\n",
    "                        'montreal' : [45.51073484608754, -73.56393413888645]}"
   ]
  },
  {
   "cell_type": "code",
   "execution_count": 60,
   "id": "ba1c19f2",
   "metadata": {},
   "outputs": [],
   "source": [
    "\n",
    "url = 'https://api.foursquare.com/v2/venues/explore'\n",
    "\n",
    "params = dict(\n",
    "client_id= tok1,\n",
    "client_secret= tok2,\n",
    "v='20180323',\n",
    "ll='40.42741669687324,-3.7042628540907128',\n",
    "query='Starbucks',\n",
    "limit=10\n",
    ")"
   ]
  },
  {
   "cell_type": "code",
   "execution_count": 61,
   "id": "e999b838",
   "metadata": {},
   "outputs": [],
   "source": [
    "resp = requests.get(url= url, params = params).json()"
   ]
  },
  {
   "cell_type": "code",
   "execution_count": 62,
   "id": "43d693de",
   "metadata": {},
   "outputs": [],
   "source": [
    "data = resp.get(\"response\").get(\"groups\")[0].get(\"items\")"
   ]
  },
  {
   "cell_type": "code",
   "execution_count": 93,
   "id": "d273c003",
   "metadata": {},
   "outputs": [],
   "source": [
    "#resp"
   ]
  },
  {
   "cell_type": "code",
   "execution_count": 75,
   "id": "327bb9c0",
   "metadata": {
    "scrolled": true
   },
   "outputs": [
    {
     "data": {
      "text/plain": [
       "40.423319643246955"
      ]
     },
     "execution_count": 75,
     "metadata": {},
     "output_type": "execute_result"
    }
   ],
   "source": [
    "data[0]['venue']['location']['lat']"
   ]
  },
  {
   "cell_type": "code",
   "execution_count": 77,
   "id": "0739f931",
   "metadata": {},
   "outputs": [
    {
     "data": {
      "text/plain": [
       "-3.710882844657412"
      ]
     },
     "execution_count": 77,
     "metadata": {},
     "output_type": "execute_result"
    }
   ],
   "source": [
    "data[0]['venue']['location']['lng']"
   ]
  },
  {
   "cell_type": "code",
   "execution_count": 88,
   "id": "a01f2141",
   "metadata": {},
   "outputs": [
    {
     "data": {
      "text/plain": [
       "'Starbucks Plaza de España'"
      ]
     },
     "execution_count": 88,
     "metadata": {},
     "output_type": "execute_result"
    }
   ],
   "source": [
    "data[0]['venue']['name']"
   ]
  },
  {
   "cell_type": "code",
   "execution_count": 90,
   "id": "ec2fbf50",
   "metadata": {},
   "outputs": [],
   "source": [
    "from functools import reduce\n",
    "import operator\n",
    "\n",
    "def getFromDict(diccionario,mapa):\n",
    "    return reduce(operator.getitem,mapa,diccionario)\n",
    "\n",
    "mapa_nombre =  [\"venue\", \"name\"]\n",
    "mapa_latitud = [\"venue\", \"location\", \"lat\"]\n",
    "mapa_longitud = [\"venue\", \"location\", \"lng\"]\n",
    "\n",
    "starbucks_madrid = []\n",
    "for dic in data:\n",
    "    paralista = {}\n",
    "    paralista[\"name\"] = getFromDict(dic, mapa_nombre)\n",
    "    paralista[\"latitud\"]= getFromDict(dic, mapa_latitud)\n",
    "    paralista[\"longitud\"] = getFromDict(dic,mapa_longitud)\n",
    "    starbucks_madrid.append(paralista)"
   ]
  },
  {
   "cell_type": "code",
   "execution_count": 91,
   "id": "f23b802b",
   "metadata": {},
   "outputs": [
    {
     "data": {
      "text/html": [
       "<div>\n",
       "<style scoped>\n",
       "    .dataframe tbody tr th:only-of-type {\n",
       "        vertical-align: middle;\n",
       "    }\n",
       "\n",
       "    .dataframe tbody tr th {\n",
       "        vertical-align: top;\n",
       "    }\n",
       "\n",
       "    .dataframe thead th {\n",
       "        text-align: right;\n",
       "    }\n",
       "</style>\n",
       "<table border=\"1\" class=\"dataframe\">\n",
       "  <thead>\n",
       "    <tr style=\"text-align: right;\">\n",
       "      <th></th>\n",
       "      <th>name</th>\n",
       "      <th>latitud</th>\n",
       "      <th>longitud</th>\n",
       "    </tr>\n",
       "  </thead>\n",
       "  <tbody>\n",
       "    <tr>\n",
       "      <th>0</th>\n",
       "      <td>Starbucks Plaza de España</td>\n",
       "      <td>40.423320</td>\n",
       "      <td>-3.710883</td>\n",
       "    </tr>\n",
       "    <tr>\n",
       "      <th>1</th>\n",
       "      <td>Starbucks Room Mate Oscar</td>\n",
       "      <td>40.420752</td>\n",
       "      <td>-3.699315</td>\n",
       "    </tr>\n",
       "    <tr>\n",
       "      <th>2</th>\n",
       "      <td>Starbucks Fuencarral 43</td>\n",
       "      <td>40.423113</td>\n",
       "      <td>-3.700798</td>\n",
       "    </tr>\n",
       "    <tr>\n",
       "      <th>3</th>\n",
       "      <td>Starbucks Gran Vía 30</td>\n",
       "      <td>40.420140</td>\n",
       "      <td>-3.702886</td>\n",
       "    </tr>\n",
       "    <tr>\n",
       "      <th>4</th>\n",
       "      <td>Starbucks Princesa 40</td>\n",
       "      <td>40.429069</td>\n",
       "      <td>-3.715079</td>\n",
       "    </tr>\n",
       "  </tbody>\n",
       "</table>\n",
       "</div>"
      ],
      "text/plain": [
       "                        name    latitud  longitud\n",
       "0  Starbucks Plaza de España  40.423320 -3.710883\n",
       "1  Starbucks Room Mate Oscar  40.420752 -3.699315\n",
       "2    Starbucks Fuencarral 43  40.423113 -3.700798\n",
       "3      Starbucks Gran Vía 30  40.420140 -3.702886\n",
       "4      Starbucks Princesa 40  40.429069 -3.715079"
      ]
     },
     "execution_count": 91,
     "metadata": {},
     "output_type": "execute_result"
    }
   ],
   "source": [
    "df = pd.DataFrame(starbucks_madrid)\n",
    "df.head()"
   ]
  },
  {
   "cell_type": "code",
   "execution_count": 92,
   "id": "c087c481",
   "metadata": {},
   "outputs": [
    {
     "data": {
      "text/plain": [
       "[{'name': 'Starbucks Plaza de España',\n",
       "  'latitud': 40.423319643246955,\n",
       "  'longitud': -3.710882844657412},\n",
       " {'name': 'Starbucks Room Mate Oscar',\n",
       "  'latitud': 40.42075183549848,\n",
       "  'longitud': -3.6993145297210788},\n",
       " {'name': 'Starbucks Fuencarral 43',\n",
       "  'latitud': 40.423112989750564,\n",
       "  'longitud': -3.700798408458431},\n",
       " {'name': 'Starbucks Gran Vía 30',\n",
       "  'latitud': 40.42014039388448,\n",
       "  'longitud': -3.702886033408268},\n",
       " {'name': 'Starbucks Princesa 40',\n",
       "  'latitud': 40.42906874005007,\n",
       "  'longitud': -3.7150786671568476},\n",
       " {'name': 'Starbucks Gran Vía 58',\n",
       "  'latitud': 40.421751918201934,\n",
       "  'longitud': -3.7083782102926905},\n",
       " {'name': 'Starbucks Preciados 27',\n",
       "  'latitud': 40.419667845686355,\n",
       "  'longitud': -3.7061354223688325},\n",
       " {'name': 'Starbucks Quevedo', 'latitud': 40.433353, 'longitud': -3.703958},\n",
       " {'name': 'Starbucks Alcalá 21',\n",
       "  'latitud': 40.418038185194774,\n",
       "  'longitud': -3.699371513099982},\n",
       " {'name': 'Starbucks Génova 27',\n",
       "  'latitud': 40.425760357264515,\n",
       "  'longitud': -3.691781759262085}]"
      ]
     },
     "execution_count": 92,
     "metadata": {},
     "output_type": "execute_result"
    }
   ],
   "source": [
    "starbucks_madrid"
   ]
  },
  {
   "cell_type": "code",
   "execution_count": 104,
   "id": "469e1278",
   "metadata": {},
   "outputs": [],
   "source": [
    "coord_inicio = [coordenadas_ciudades['madrid']]"
   ]
  },
  {
   "cell_type": "code",
   "execution_count": 118,
   "id": "45623b0e",
   "metadata": {
    "scrolled": true
   },
   "outputs": [],
   "source": [
    "coord_busqueda = []"
   ]
  },
  {
   "cell_type": "code",
   "execution_count": 102,
   "id": "d8218885",
   "metadata": {},
   "outputs": [],
   "source": [
    "lista_starbucks = []\n",
    "for elem in starbucks_madrid:\n",
    "    lat_lng = [elem['latitud'], elem['longitud']]\n",
    "    lista_starbucks.append(lat_lng)\n",
    "    "
   ]
  },
  {
   "cell_type": "code",
   "execution_count": 447,
   "id": "3eed272a",
   "metadata": {},
   "outputs": [
    {
     "data": {
      "text/plain": [
       "[[40.423319643246955, -3.710882844657412],\n",
       " [40.42075183549848, -3.6993145297210788],\n",
       " [40.423112989750564, -3.700798408458431],\n",
       " [40.42014039388448, -3.702886033408268],\n",
       " [40.42906874005007, -3.7150786671568476],\n",
       " [40.421751918201934, -3.7083782102926905],\n",
       " [40.419667845686355, -3.7061354223688325],\n",
       " [40.433353, -3.703958],\n",
       " [40.418038185194774, -3.699371513099982],\n",
       " [40.425760357264515, -3.691781759262085]]"
      ]
     },
     "execution_count": 447,
     "metadata": {},
     "output_type": "execute_result"
    }
   ],
   "source": [
    "lista_starbucks"
   ]
  },
  {
   "cell_type": "code",
   "execution_count": null,
   "id": "e0e5f8d0",
   "metadata": {},
   "outputs": [],
   "source": []
  },
  {
   "cell_type": "code",
   "execution_count": null,
   "id": "eb0d14cc",
   "metadata": {},
   "outputs": [],
   "source": []
  },
  {
   "cell_type": "code",
   "execution_count": null,
   "id": "a471e9aa",
   "metadata": {},
   "outputs": [],
   "source": []
  },
  {
   "cell_type": "code",
   "execution_count": null,
   "id": "4ee7a2c2",
   "metadata": {},
   "outputs": [],
   "source": []
  },
  {
   "cell_type": "code",
   "execution_count": null,
   "id": "e61dbdc9",
   "metadata": {},
   "outputs": [],
   "source": []
  },
  {
   "cell_type": "code",
   "execution_count": null,
   "id": "4ad868f2",
   "metadata": {},
   "outputs": [],
   "source": []
  },
  {
   "cell_type": "code",
   "execution_count": null,
   "id": "18f9b7e2",
   "metadata": {},
   "outputs": [],
   "source": []
  },
  {
   "cell_type": "code",
   "execution_count": null,
   "id": "61855862",
   "metadata": {},
   "outputs": [],
   "source": []
  },
  {
   "cell_type": "code",
   "execution_count": null,
   "id": "41741016",
   "metadata": {},
   "outputs": [],
   "source": []
  },
  {
   "cell_type": "code",
   "execution_count": null,
   "id": "1645e2b9",
   "metadata": {},
   "outputs": [],
   "source": []
  },
  {
   "cell_type": "markdown",
   "id": "5cdb517d",
   "metadata": {},
   "source": [
    "#### ESTO SE QUEDA POR AHORA AQUÍ PARA RECORDARME CIERTAS COSAS"
   ]
  },
  {
   "cell_type": "code",
   "execution_count": null,
   "id": "c157d7d0",
   "metadata": {},
   "outputs": [],
   "source": [
    "###ESTO ES LO QUE NECESITO PARA IR ALMACENANDO TODAS LAS POSIBLES COINCIDENCIAS\n",
    "# EL HISTÓRICO SIEMPRE SE TIENE QUE DECLARAR CON LAS COORDENADAS DE INICIO\n",
    "\n",
    "historico = [[1, 2]]\n",
    "\n",
    "datos_02 = [[3, 4], [5, 6]]\n",
    "\n",
    "datos_03 = [[[7, 8], [9, 10]] , [[88, 88], [77, 77]]]\n",
    "\n",
    "datos_04 = [[[22, 11], [31, 10]], [[0, 0], [55, 54], [1, 1]], [[33, 33], [45, 46]], [[13, 1], [0, 110]]]\n",
    "\n",
    "# LE IREMOS PASANDO LOS RESULTADOS DE LAS CONSULTAS\n",
    "\n",
    "# HAY QUE DECIRLE EL NÚMERO DE BÚSQUEDA QUE HA SIDO PARA QUE SEPA COMO DIBUJAR EL ARBOL\n",
    "\n",
    "historico = td.guardar_historico(historico, datos_02)\n",
    "\n",
    "historico = td.guardar_historico(historico, datos_03)\n",
    "\n",
    "historico = td.guardar_historico(historico, datos_04)\n",
    "\n",
    "# TIENES QUE GENERAR UNA FUNCIÓN QUE LIMPIE EL HISTÓRICO Y DEVUELVA LA MEDIA DE LAS COORDENADAS DE CADA FILA PARA\n",
    "#LA SIGUIENTE BÚSQUEDA.\n",
    "\n",
    "#ACUERDATE DE QUE TIENES QUE ALMACENAR LOS RESULTADOS EN UNA LISTA MAYOR"
   ]
  },
  {
   "cell_type": "markdown",
   "id": "db77c7bc",
   "metadata": {},
   "source": [
    "hay que hacerlo por elementos"
   ]
  }
 ],
 "metadata": {
  "kernelspec": {
   "display_name": "Python 3",
   "language": "python",
   "name": "python3"
  },
  "language_info": {
   "codemirror_mode": {
    "name": "ipython",
    "version": 3
   },
   "file_extension": ".py",
   "mimetype": "text/x-python",
   "name": "python",
   "nbconvert_exporter": "python",
   "pygments_lexer": "ipython3",
   "version": "3.8.8"
  }
 },
 "nbformat": 4,
 "nbformat_minor": 5
}
