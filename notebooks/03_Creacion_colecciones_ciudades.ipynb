{
 "cells": [
  {
   "cell_type": "code",
   "execution_count": 448,
   "id": "d86890a5",
   "metadata": {},
   "outputs": [],
   "source": [
    "import sys\n",
    "sys.path.append(\"../\")"
   ]
  },
  {
   "cell_type": "code",
   "execution_count": 492,
   "id": "4d68e9bd",
   "metadata": {},
   "outputs": [],
   "source": [
    "import src.tratamiento_datos as td"
   ]
  },
  {
   "cell_type": "code",
   "execution_count": 14,
   "id": "b6d768f9",
   "metadata": {},
   "outputs": [
    {
     "data": {
      "text/plain": [
       "MongoClient(host=['localhost:27017'], document_class=dict, tz_aware=False, connect=True)"
      ]
     },
     "execution_count": 14,
     "metadata": {},
     "output_type": "execute_result"
    }
   ],
   "source": [
    "from pymongo import MongoClient\n",
    "client = MongoClient(\"localhost:27017\")\n",
    "client"
   ]
  },
  {
   "cell_type": "code",
   "execution_count": 15,
   "id": "544905e8",
   "metadata": {},
   "outputs": [],
   "source": [
    "db = client.get_database(\"ironhack\")"
   ]
  },
  {
   "cell_type": "code",
   "execution_count": 16,
   "id": "3253b887",
   "metadata": {},
   "outputs": [],
   "source": [
    "from pymongo import GEOSPHERE"
   ]
  },
  {
   "cell_type": "code",
   "execution_count": 454,
   "id": "56c5c981",
   "metadata": {},
   "outputs": [
    {
     "data": {
      "text/plain": [
       "True"
      ]
     },
     "execution_count": 454,
     "metadata": {},
     "output_type": "execute_result"
    }
   ],
   "source": [
    "import requests\n",
    "import json\n",
    "from dotenv import load_dotenv\n",
    "import os\n",
    "import pandas as pd\n",
    "from functools import reduce\n",
    "import operator\n",
    "load_dotenv()"
   ]
  },
  {
   "cell_type": "code",
   "execution_count": 450,
   "id": "7b6ed164",
   "metadata": {},
   "outputs": [],
   "source": [
    "tok1=\n",
    "tok2="
   ]
  },
  {
   "cell_type": "code",
   "execution_count": 5,
   "id": "e6c8f45e",
   "metadata": {},
   "outputs": [],
   "source": [
    "ranking = pd.read_csv('../data/ranking', index_col = 0)"
   ]
  },
  {
   "cell_type": "code",
   "execution_count": 449,
   "id": "d40b0a8c",
   "metadata": {},
   "outputs": [
    {
     "data": {
      "text/html": [
       "<div>\n",
       "<style scoped>\n",
       "    .dataframe tbody tr th:only-of-type {\n",
       "        vertical-align: middle;\n",
       "    }\n",
       "\n",
       "    .dataframe tbody tr th {\n",
       "        vertical-align: top;\n",
       "    }\n",
       "\n",
       "    .dataframe thead th {\n",
       "        text-align: right;\n",
       "    }\n",
       "</style>\n",
       "<table border=\"1\" class=\"dataframe\">\n",
       "  <thead>\n",
       "    <tr style=\"text-align: right;\">\n",
       "      <th></th>\n",
       "      <th>requirement</th>\n",
       "      <th>requirement_value</th>\n",
       "    </tr>\n",
       "  </thead>\n",
       "  <tbody>\n",
       "    <tr>\n",
       "      <th>8</th>\n",
       "      <td>ocio</td>\n",
       "      <td>44.20</td>\n",
       "    </tr>\n",
       "    <tr>\n",
       "      <th>0</th>\n",
       "      <td>colegio</td>\n",
       "      <td>13.26</td>\n",
       "    </tr>\n",
       "    <tr>\n",
       "      <th>1</th>\n",
       "      <td>Design Companies</td>\n",
       "      <td>8.24</td>\n",
       "    </tr>\n",
       "    <tr>\n",
       "      <th>2</th>\n",
       "      <td>Airport-Train</td>\n",
       "      <td>7.84</td>\n",
       "    </tr>\n",
       "    <tr>\n",
       "      <th>3</th>\n",
       "      <td>1M companies</td>\n",
       "      <td>6.76</td>\n",
       "    </tr>\n",
       "    <tr>\n",
       "      <th>4</th>\n",
       "      <td>Starbuck</td>\n",
       "      <td>6.27</td>\n",
       "    </tr>\n",
       "    <tr>\n",
       "      <th>5</th>\n",
       "      <td>peluqueria_canina</td>\n",
       "      <td>5.00</td>\n",
       "    </tr>\n",
       "    <tr>\n",
       "      <th>6</th>\n",
       "      <td>Vegan</td>\n",
       "      <td>1.96</td>\n",
       "    </tr>\n",
       "    <tr>\n",
       "      <th>7</th>\n",
       "      <td>Basket Stadium</td>\n",
       "      <td>0.37</td>\n",
       "    </tr>\n",
       "  </tbody>\n",
       "</table>\n",
       "</div>"
      ],
      "text/plain": [
       "         requirement  requirement_value\n",
       "8               ocio              44.20\n",
       "0            colegio              13.26\n",
       "1   Design Companies               8.24\n",
       "2      Airport-Train               7.84\n",
       "3       1M companies               6.76\n",
       "4           Starbuck               6.27\n",
       "5  peluqueria_canina               5.00\n",
       "6              Vegan               1.96\n",
       "7     Basket Stadium               0.37"
      ]
     },
     "execution_count": 449,
     "metadata": {},
     "output_type": "execute_result"
    }
   ],
   "source": [
    "ranking"
   ]
  },
  {
   "cell_type": "code",
   "execution_count": 11,
   "id": "0d0cb39e",
   "metadata": {},
   "outputs": [],
   "source": [
    "empresas_ciudad = pd.read_csv('../data/empresas_ciudad', index_col = 0)"
   ]
  },
  {
   "cell_type": "code",
   "execution_count": 12,
   "id": "ce619453",
   "metadata": {},
   "outputs": [
    {
     "data": {
      "text/html": [
       "<div>\n",
       "<style scoped>\n",
       "    .dataframe tbody tr th:only-of-type {\n",
       "        vertical-align: middle;\n",
       "    }\n",
       "\n",
       "    .dataframe tbody tr th {\n",
       "        vertical-align: top;\n",
       "    }\n",
       "\n",
       "    .dataframe thead th {\n",
       "        text-align: right;\n",
       "    }\n",
       "</style>\n",
       "<table border=\"1\" class=\"dataframe\">\n",
       "  <thead>\n",
       "    <tr style=\"text-align: right;\">\n",
       "      <th></th>\n",
       "      <th>Madrid</th>\n",
       "      <th>Barcelona</th>\n",
       "      <th>Montreal</th>\n",
       "      <th>Lisboa</th>\n",
       "    </tr>\n",
       "  </thead>\n",
       "  <tbody>\n",
       "    <tr>\n",
       "      <th>0</th>\n",
       "      <td>Fon</td>\n",
       "      <td>Splendia</td>\n",
       "      <td>Airborne Mobile</td>\n",
       "      <td>Nexway</td>\n",
       "    </tr>\n",
       "    <tr>\n",
       "      <th>1</th>\n",
       "      <td>eRepublik</td>\n",
       "      <td>Futurlink</td>\n",
       "      <td>Mobivox</td>\n",
       "      <td>NaN</td>\n",
       "    </tr>\n",
       "    <tr>\n",
       "      <th>2</th>\n",
       "      <td>Busuu</td>\n",
       "      <td>Openbravo</td>\n",
       "      <td>Radialpoint</td>\n",
       "      <td>NaN</td>\n",
       "    </tr>\n",
       "    <tr>\n",
       "      <th>3</th>\n",
       "      <td>Unkasoft Advergaming</td>\n",
       "      <td>UserZoom</td>\n",
       "      <td>Akoha</td>\n",
       "      <td>NaN</td>\n",
       "    </tr>\n",
       "    <tr>\n",
       "      <th>4</th>\n",
       "      <td>Nexway</td>\n",
       "      <td>Veeva</td>\n",
       "      <td>MediaScrape</td>\n",
       "      <td>NaN</td>\n",
       "    </tr>\n",
       "    <tr>\n",
       "      <th>5</th>\n",
       "      <td>Tuenti Technologies</td>\n",
       "      <td>Teambox</td>\n",
       "      <td>StatusNet</td>\n",
       "      <td>NaN</td>\n",
       "    </tr>\n",
       "    <tr>\n",
       "      <th>6</th>\n",
       "      <td>Virgin Play</td>\n",
       "      <td>International Sportsbook</td>\n",
       "      <td>Trellia Networks</td>\n",
       "      <td>NaN</td>\n",
       "    </tr>\n",
       "    <tr>\n",
       "      <th>7</th>\n",
       "      <td>ticketea</td>\n",
       "      <td>NaN</td>\n",
       "      <td>NaN</td>\n",
       "      <td>NaN</td>\n",
       "    </tr>\n",
       "    <tr>\n",
       "      <th>8</th>\n",
       "      <td>Genasys</td>\n",
       "      <td>NaN</td>\n",
       "      <td>NaN</td>\n",
       "      <td>NaN</td>\n",
       "    </tr>\n",
       "    <tr>\n",
       "      <th>9</th>\n",
       "      <td>BuyVIP</td>\n",
       "      <td>NaN</td>\n",
       "      <td>NaN</td>\n",
       "      <td>NaN</td>\n",
       "    </tr>\n",
       "  </tbody>\n",
       "</table>\n",
       "</div>"
      ],
      "text/plain": [
       "                 Madrid                 Barcelona          Montreal  Lisboa\n",
       "0                   Fon                  Splendia   Airborne Mobile  Nexway\n",
       "1             eRepublik                 Futurlink           Mobivox     NaN\n",
       "2                 Busuu                 Openbravo       Radialpoint     NaN\n",
       "3  Unkasoft Advergaming                  UserZoom             Akoha     NaN\n",
       "4                Nexway                     Veeva       MediaScrape     NaN\n",
       "5   Tuenti Technologies                   Teambox         StatusNet     NaN\n",
       "6           Virgin Play  International Sportsbook  Trellia Networks     NaN\n",
       "7              ticketea                       NaN               NaN     NaN\n",
       "8               Genasys                       NaN               NaN     NaN\n",
       "9                BuyVIP                       NaN               NaN     NaN"
      ]
     },
     "execution_count": 12,
     "metadata": {},
     "output_type": "execute_result"
    }
   ],
   "source": [
    "empresas_ciudad"
   ]
  },
  {
   "cell_type": "code",
   "execution_count": 17,
   "id": "9a75a701",
   "metadata": {},
   "outputs": [],
   "source": [
    "coordenadas_ciudades = {'madrid' : [40.42741669687324, -3.7042628540907128],\n",
    "                        'barcelona' : [41.38673290105267, 2.1734030691967905],\n",
    "                        'lisboa' : [38.72287648728543, -9.139444396944034],\n",
    "                        'montreal' : [45.51073484608754, -73.56393413888645]}"
   ]
  },
  {
   "cell_type": "code",
   "execution_count": null,
   "id": "3d4c9166",
   "metadata": {},
   "outputs": [],
   "source": []
  },
  {
   "cell_type": "markdown",
   "id": "9fdf5232",
   "metadata": {},
   "source": [
    "# COLECCIONES MADRID"
   ]
  },
  {
   "cell_type": "markdown",
   "id": "ae630702",
   "metadata": {},
   "source": [
    "## Colección Starbucks"
   ]
  },
  {
   "cell_type": "code",
   "execution_count": 482,
   "id": "a7b880f0",
   "metadata": {},
   "outputs": [],
   "source": [
    "url = 'https://api.foursquare.com/v2/venues/explore'\n",
    "\n",
    "params = dict(\n",
    "client_id= tok1,\n",
    "client_secret= tok2,\n",
    "v='20180323',\n",
    "ll='40.42741669687324,-3.7042628540907128',\n",
    "query='Starbucks',\n",
    "limit=70\n",
    ")"
   ]
  },
  {
   "cell_type": "code",
   "execution_count": 483,
   "id": "a457e17a",
   "metadata": {},
   "outputs": [],
   "source": [
    "resp = requests.get(url= url, params = params).json()"
   ]
  },
  {
   "cell_type": "code",
   "execution_count": 484,
   "id": "481e6300",
   "metadata": {},
   "outputs": [],
   "source": [
    "data = resp.get(\"response\").get(\"groups\")[0].get(\"items\")"
   ]
  },
  {
   "cell_type": "code",
   "execution_count": 75,
   "id": "db4dd959",
   "metadata": {
    "scrolled": true
   },
   "outputs": [
    {
     "data": {
      "text/plain": [
       "40.423319643246955"
      ]
     },
     "execution_count": 75,
     "metadata": {},
     "output_type": "execute_result"
    }
   ],
   "source": [
    "data[0]['venue']['location']['lat']"
   ]
  },
  {
   "cell_type": "code",
   "execution_count": 77,
   "id": "46fe13f6",
   "metadata": {},
   "outputs": [
    {
     "data": {
      "text/plain": [
       "-3.710882844657412"
      ]
     },
     "execution_count": 77,
     "metadata": {},
     "output_type": "execute_result"
    }
   ],
   "source": [
    "data[0]['venue']['location']['lng']"
   ]
  },
  {
   "cell_type": "code",
   "execution_count": 88,
   "id": "6ba5d9bc",
   "metadata": {},
   "outputs": [
    {
     "data": {
      "text/plain": [
       "'Starbucks Plaza de España'"
      ]
     },
     "execution_count": 88,
     "metadata": {},
     "output_type": "execute_result"
    }
   ],
   "source": [
    "data[0]['venue']['name']"
   ]
  },
  {
   "cell_type": "code",
   "execution_count": 485,
   "id": "a788b25d",
   "metadata": {},
   "outputs": [],
   "source": [
    "def getFromDict(diccionario,mapa):\n",
    "    return reduce(operator.getitem,mapa,diccionario)\n",
    "\n",
    "mapa_nombre =  [\"venue\", \"name\"]\n",
    "mapa_latitud = [\"venue\", \"location\", \"lat\"]\n",
    "mapa_longitud = [\"venue\", \"location\", \"lng\"]\n",
    "\n",
    "starbucks_madrid = []\n",
    "for dic in data:\n",
    "    paralista = {}\n",
    "    paralista[\"name\"] = getFromDict(dic, mapa_nombre)\n",
    "    paralista[\"latitud\"]= getFromDict(dic, mapa_latitud)\n",
    "    paralista[\"longitud\"] = getFromDict(dic,mapa_longitud)\n",
    "    starbucks_madrid.append(paralista)"
   ]
  },
  {
   "cell_type": "code",
   "execution_count": 487,
   "id": "c2eb11d3",
   "metadata": {},
   "outputs": [
    {
     "data": {
      "text/plain": [
       "46"
      ]
     },
     "execution_count": 487,
     "metadata": {},
     "output_type": "execute_result"
    }
   ],
   "source": [
    "len(starbucks_madrid)"
   ]
  },
  {
   "cell_type": "code",
   "execution_count": 488,
   "id": "666e240e",
   "metadata": {},
   "outputs": [],
   "source": [
    "starbucks_mad = pd.DataFrame(starbucks_madrid)"
   ]
  },
  {
   "cell_type": "code",
   "execution_count": 490,
   "id": "2f8388e6",
   "metadata": {},
   "outputs": [
    {
     "data": {
      "text/html": [
       "<div>\n",
       "<style scoped>\n",
       "    .dataframe tbody tr th:only-of-type {\n",
       "        vertical-align: middle;\n",
       "    }\n",
       "\n",
       "    .dataframe tbody tr th {\n",
       "        vertical-align: top;\n",
       "    }\n",
       "\n",
       "    .dataframe thead th {\n",
       "        text-align: right;\n",
       "    }\n",
       "</style>\n",
       "<table border=\"1\" class=\"dataframe\">\n",
       "  <thead>\n",
       "    <tr style=\"text-align: right;\">\n",
       "      <th></th>\n",
       "      <th>name</th>\n",
       "      <th>latitud</th>\n",
       "      <th>longitud</th>\n",
       "    </tr>\n",
       "  </thead>\n",
       "  <tbody>\n",
       "    <tr>\n",
       "      <th>0</th>\n",
       "      <td>Starbucks Plaza de España</td>\n",
       "      <td>40.423320</td>\n",
       "      <td>-3.710883</td>\n",
       "    </tr>\n",
       "    <tr>\n",
       "      <th>1</th>\n",
       "      <td>Starbucks Room Mate Oscar</td>\n",
       "      <td>40.420752</td>\n",
       "      <td>-3.699315</td>\n",
       "    </tr>\n",
       "    <tr>\n",
       "      <th>2</th>\n",
       "      <td>Starbucks Fuencarral 43</td>\n",
       "      <td>40.423113</td>\n",
       "      <td>-3.700798</td>\n",
       "    </tr>\n",
       "    <tr>\n",
       "      <th>3</th>\n",
       "      <td>Starbucks Princesa 40</td>\n",
       "      <td>40.429069</td>\n",
       "      <td>-3.715079</td>\n",
       "    </tr>\n",
       "    <tr>\n",
       "      <th>4</th>\n",
       "      <td>Starbucks Gran Vía 30</td>\n",
       "      <td>40.420140</td>\n",
       "      <td>-3.702886</td>\n",
       "    </tr>\n",
       "  </tbody>\n",
       "</table>\n",
       "</div>"
      ],
      "text/plain": [
       "                        name    latitud  longitud\n",
       "0  Starbucks Plaza de España  40.423320 -3.710883\n",
       "1  Starbucks Room Mate Oscar  40.420752 -3.699315\n",
       "2    Starbucks Fuencarral 43  40.423113 -3.700798\n",
       "3      Starbucks Princesa 40  40.429069 -3.715079\n",
       "4      Starbucks Gran Vía 30  40.420140 -3.702886"
      ]
     },
     "execution_count": 490,
     "metadata": {},
     "output_type": "execute_result"
    }
   ],
   "source": [
    "starbucks_mad.head()"
   ]
  },
  {
   "cell_type": "code",
   "execution_count": 493,
   "id": "12c3bada",
   "metadata": {},
   "outputs": [],
   "source": [
    "lista_starbucks = td.sacar_coord(starbucks_madrid)"
   ]
  },
  {
   "cell_type": "code",
   "execution_count": 495,
   "id": "c92aa307",
   "metadata": {},
   "outputs": [
    {
     "data": {
      "text/plain": [
       "46"
      ]
     },
     "execution_count": 495,
     "metadata": {},
     "output_type": "execute_result"
    }
   ],
   "source": [
    "len(lista_starbucks)"
   ]
  },
  {
   "cell_type": "code",
   "execution_count": 496,
   "id": "67f26885",
   "metadata": {},
   "outputs": [],
   "source": [
    "coleccion_starbucks = []\n",
    "for elem in starbucks_madrid:\n",
    "    entrada = {\n",
    "        \"name\": elem.get(\"name\"),\n",
    "        \"location\": {\"type\": \"Point\", \"coordinates\": [elem.get(\"latitud\"), elem.get(\"longitud\")]}\n",
    "        \n",
    "    }\n",
    "    coleccion_starbucks.append(entrada)"
   ]
  },
  {
   "cell_type": "code",
   "execution_count": 497,
   "id": "9252ebb7",
   "metadata": {
    "collapsed": true
   },
   "outputs": [
    {
     "data": {
      "text/plain": [
       "[{'name': 'Starbucks Plaza de España',\n",
       "  'location': {'type': 'Point',\n",
       "   'coordinates': [40.423319643246955, -3.710882844657412]}},\n",
       " {'name': 'Starbucks Room Mate Oscar',\n",
       "  'location': {'type': 'Point',\n",
       "   'coordinates': [40.42075183549848, -3.6993145297210788]}},\n",
       " {'name': 'Starbucks Fuencarral 43',\n",
       "  'location': {'type': 'Point',\n",
       "   'coordinates': [40.423112989750564, -3.700798408458431]}},\n",
       " {'name': 'Starbucks Princesa 40',\n",
       "  'location': {'type': 'Point',\n",
       "   'coordinates': [40.42906874005007, -3.7150786671568476]}},\n",
       " {'name': 'Starbucks Gran Vía 30',\n",
       "  'location': {'type': 'Point',\n",
       "   'coordinates': [40.42014039388448, -3.702886033408268]}},\n",
       " {'name': 'Starbucks Preciados 27',\n",
       "  'location': {'type': 'Point',\n",
       "   'coordinates': [40.419667845686355, -3.7061354223688325]}},\n",
       " {'name': 'Starbucks Gran Vía 58',\n",
       "  'location': {'type': 'Point',\n",
       "   'coordinates': [40.421751918201934, -3.7083782102926905]}},\n",
       " {'name': 'Starbucks Quevedo',\n",
       "  'location': {'type': 'Point', 'coordinates': [40.433353, -3.703958]}},\n",
       " {'name': 'Starbucks Alcalá 21',\n",
       "  'location': {'type': 'Point',\n",
       "   'coordinates': [40.418038185194774, -3.699371513099982]}},\n",
       " {'name': 'Starbucks Génova 27',\n",
       "  'location': {'type': 'Point',\n",
       "   'coordinates': [40.425760357264515, -3.691781759262085]}},\n",
       " {'name': 'Starbucks Arenal 14',\n",
       "  'location': {'type': 'Point',\n",
       "   'coordinates': [40.41719516711848, -3.706118548830636]}},\n",
       " {'name': 'Starbucks',\n",
       "  'location': {'type': 'Point', 'coordinates': [40.418054, -3.710009]}},\n",
       " {'name': 'Starbucks',\n",
       "  'location': {'type': 'Point', 'coordinates': [40.417539, -3.702775]}},\n",
       " {'name': 'Starbucks Serrano, 100',\n",
       "  'location': {'type': 'Point',\n",
       "   'coordinates': [40.4335639178076, -3.6868293595360973]}},\n",
       " {'name': 'Starbucks Príncipe Pío',\n",
       "  'location': {'type': 'Point',\n",
       "   'coordinates': [40.421949993513195, -3.7203776278003375]}},\n",
       " {'name': 'Starbucks',\n",
       "  'location': {'type': 'Point',\n",
       "   'coordinates': [40.41532327347708, -3.6949486687744146]}},\n",
       " {'name': 'Starbucks',\n",
       "  'location': {'type': 'Point',\n",
       "   'coordinates': [40.41748942152583, -3.70466514037747]}},\n",
       " {'name': 'Starbucks Teatro Real',\n",
       "  'location': {'type': 'Point',\n",
       "   'coordinates': [40.418106483857194, -3.709606077515513]}},\n",
       " {'name': 'Starbucks',\n",
       "  'location': {'type': 'Point', 'coordinates': [40.421095, -3.70256]}},\n",
       " {'name': 'Starbucks Juan Bravo',\n",
       "  'location': {'type': 'Point',\n",
       "   'coordinates': [40.43296760669224, -3.6832201480865474]}},\n",
       " {'name': 'Starbucks San Miguel',\n",
       "  'location': {'type': 'Point',\n",
       "   'coordinates': [40.41573297582015, -3.708717822655616]}},\n",
       " {'name': 'Starbucks Velázquez, 32',\n",
       "  'location': {'type': 'Point',\n",
       "   'coordinates': [40.424974636524, -3.684107212216363]}},\n",
       " {'name': 'Starbucks ECI Preciados',\n",
       "  'location': {'type': 'Point', 'coordinates': [40.4174674, -3.7043957]}},\n",
       " {'name': 'Starbucks ECI Castellana (Starbucks)',\n",
       "  'location': {'type': 'Point',\n",
       "   'coordinates': [40.44748872381242, -3.6930934929855574]}},\n",
       " {'name': 'Starbucks Reina Sofia',\n",
       "  'location': {'type': 'Point',\n",
       "   'coordinates': [40.40885214578761, -3.693236539287397]}},\n",
       " {'name': 'Starbucks Conde de Peñalver',\n",
       "  'location': {'type': 'Point',\n",
       "   'coordinates': [40.426066801136066, -3.6756167469058876]}},\n",
       " {'name': 'Starbucks',\n",
       "  'location': {'type': 'Point',\n",
       "   'coordinates': [40.420450975922165, -3.6796733064135796]}},\n",
       " {'name': 'Starbucks Velázquez',\n",
       "  'location': {'type': 'Point',\n",
       "   'coordinates': [40.4394314443529, -3.6826531171468173]}},\n",
       " {'name': 'Starbucks Orense 6',\n",
       "  'location': {'type': 'Point',\n",
       "   'coordinates': [40.44772869759542, -3.6951754717412046]}},\n",
       " {'name': 'Starbucks',\n",
       "  'location': {'type': 'Point',\n",
       "   'coordinates': [40.44677599194058, -3.6918291111629657]}},\n",
       " {'name': 'Starbucks Palace',\n",
       "  'location': {'type': 'Point', 'coordinates': [40.414995, -3.695058]}},\n",
       " {'name': 'Starbucks',\n",
       "  'location': {'type': 'Point', 'coordinates': [40.440273, -3.682125]}},\n",
       " {'name': 'Starbucks',\n",
       "  'location': {'type': 'Point',\n",
       "   'coordinates': [40.403120577140534, -3.687687685586035]}},\n",
       " {'name': 'Starbucks Orense 79',\n",
       "  'location': {'type': 'Point', 'coordinates': [40.45957, -3.6943874]}},\n",
       " {'name': 'Starbucks Plaza Río 2',\n",
       "  'location': {'type': 'Point',\n",
       "   'coordinates': [40.39130385405477, -3.701122858987979]}},\n",
       " {'name': 'Starbucks ECI Méndez Álvaro',\n",
       "  'location': {'type': 'Point', 'coordinates': [40.39469, -3.676454]}},\n",
       " {'name': 'Starbucks CC La Vaguada',\n",
       "  'location': {'type': 'Point',\n",
       "   'coordinates': [40.47963598026618, -3.707357285899872]}},\n",
       " {'name': 'Starbucks CC Dreams',\n",
       "  'location': {'type': 'Point',\n",
       "   'coordinates': [40.46282268242124, -3.636758032267253]}},\n",
       " {'name': 'Starbucks Pozuelo',\n",
       "  'location': {'type': 'Point',\n",
       "   'coordinates': [40.43816816158585, -3.793838131943415]}},\n",
       " {'name': 'Starbucks CC Islazul',\n",
       "  'location': {'type': 'Point',\n",
       "   'coordinates': [40.36350271226119, -3.7365511407333716]}},\n",
       " {'name': 'Starbucks La Finca',\n",
       "  'location': {'type': 'Point',\n",
       "   'coordinates': [40.41888867283295, -3.800662722672292]}},\n",
       " {'name': 'Starbucks ECI Sanchinarro',\n",
       "  'location': {'type': 'Point',\n",
       "   'coordinates': [40.49768721643861, -3.660368141302403]}},\n",
       " {'name': 'Starbucks ECI Pozuelo',\n",
       "  'location': {'type': 'Point',\n",
       "   'coordinates': [40.463101058172825, -3.806382840888177]}},\n",
       " {'name': 'Starbucks Parquesur',\n",
       "  'location': {'type': 'Point',\n",
       "   'coordinates': [40.3393318306369, -3.7333420586110004]}},\n",
       " {'name': 'Starbucks CC Plenilunio',\n",
       "  'location': {'type': 'Point',\n",
       "   'coordinates': [40.44638591027995, -3.587592789104539]}},\n",
       " {'name': 'Starbucks',\n",
       "  'location': {'type': 'Point', 'coordinates': [40.455039, -3.583356]}}]"
      ]
     },
     "execution_count": 497,
     "metadata": {},
     "output_type": "execute_result"
    }
   ],
   "source": [
    "coleccion_starbucks"
   ]
  },
  {
   "cell_type": "code",
   "execution_count": 551,
   "id": "22e27e67",
   "metadata": {
    "collapsed": true
   },
   "outputs": [
    {
     "data": {
      "text/html": [
       "<div>\n",
       "<style scoped>\n",
       "    .dataframe tbody tr th:only-of-type {\n",
       "        vertical-align: middle;\n",
       "    }\n",
       "\n",
       "    .dataframe tbody tr th {\n",
       "        vertical-align: top;\n",
       "    }\n",
       "\n",
       "    .dataframe thead th {\n",
       "        text-align: right;\n",
       "    }\n",
       "</style>\n",
       "<table border=\"1\" class=\"dataframe\">\n",
       "  <thead>\n",
       "    <tr style=\"text-align: right;\">\n",
       "      <th></th>\n",
       "      <th>name</th>\n",
       "      <th>location</th>\n",
       "    </tr>\n",
       "  </thead>\n",
       "  <tbody>\n",
       "    <tr>\n",
       "      <th>0</th>\n",
       "      <td>Starbucks Plaza de España</td>\n",
       "      <td>{'type': 'Point', 'coordinates': [40.423319643...</td>\n",
       "    </tr>\n",
       "    <tr>\n",
       "      <th>1</th>\n",
       "      <td>Starbucks Room Mate Oscar</td>\n",
       "      <td>{'type': 'Point', 'coordinates': [40.420751835...</td>\n",
       "    </tr>\n",
       "    <tr>\n",
       "      <th>2</th>\n",
       "      <td>Starbucks Fuencarral 43</td>\n",
       "      <td>{'type': 'Point', 'coordinates': [40.423112989...</td>\n",
       "    </tr>\n",
       "    <tr>\n",
       "      <th>3</th>\n",
       "      <td>Starbucks Princesa 40</td>\n",
       "      <td>{'type': 'Point', 'coordinates': [40.429068740...</td>\n",
       "    </tr>\n",
       "    <tr>\n",
       "      <th>4</th>\n",
       "      <td>Starbucks Gran Vía 30</td>\n",
       "      <td>{'type': 'Point', 'coordinates': [40.420140393...</td>\n",
       "    </tr>\n",
       "    <tr>\n",
       "      <th>5</th>\n",
       "      <td>Starbucks Preciados 27</td>\n",
       "      <td>{'type': 'Point', 'coordinates': [40.419667845...</td>\n",
       "    </tr>\n",
       "    <tr>\n",
       "      <th>6</th>\n",
       "      <td>Starbucks Gran Vía 58</td>\n",
       "      <td>{'type': 'Point', 'coordinates': [40.421751918...</td>\n",
       "    </tr>\n",
       "    <tr>\n",
       "      <th>7</th>\n",
       "      <td>Starbucks Quevedo</td>\n",
       "      <td>{'type': 'Point', 'coordinates': [40.433353, -...</td>\n",
       "    </tr>\n",
       "    <tr>\n",
       "      <th>8</th>\n",
       "      <td>Starbucks Alcalá 21</td>\n",
       "      <td>{'type': 'Point', 'coordinates': [40.418038185...</td>\n",
       "    </tr>\n",
       "    <tr>\n",
       "      <th>9</th>\n",
       "      <td>Starbucks Génova 27</td>\n",
       "      <td>{'type': 'Point', 'coordinates': [40.425760357...</td>\n",
       "    </tr>\n",
       "    <tr>\n",
       "      <th>10</th>\n",
       "      <td>Starbucks Arenal 14</td>\n",
       "      <td>{'type': 'Point', 'coordinates': [40.417195167...</td>\n",
       "    </tr>\n",
       "    <tr>\n",
       "      <th>11</th>\n",
       "      <td>Starbucks</td>\n",
       "      <td>{'type': 'Point', 'coordinates': [40.418054, -...</td>\n",
       "    </tr>\n",
       "    <tr>\n",
       "      <th>12</th>\n",
       "      <td>Starbucks</td>\n",
       "      <td>{'type': 'Point', 'coordinates': [40.417539, -...</td>\n",
       "    </tr>\n",
       "    <tr>\n",
       "      <th>13</th>\n",
       "      <td>Starbucks Serrano, 100</td>\n",
       "      <td>{'type': 'Point', 'coordinates': [40.433563917...</td>\n",
       "    </tr>\n",
       "    <tr>\n",
       "      <th>14</th>\n",
       "      <td>Starbucks Príncipe Pío</td>\n",
       "      <td>{'type': 'Point', 'coordinates': [40.421949993...</td>\n",
       "    </tr>\n",
       "    <tr>\n",
       "      <th>15</th>\n",
       "      <td>Starbucks</td>\n",
       "      <td>{'type': 'Point', 'coordinates': [40.415323273...</td>\n",
       "    </tr>\n",
       "    <tr>\n",
       "      <th>16</th>\n",
       "      <td>Starbucks</td>\n",
       "      <td>{'type': 'Point', 'coordinates': [40.417489421...</td>\n",
       "    </tr>\n",
       "    <tr>\n",
       "      <th>17</th>\n",
       "      <td>Starbucks Teatro Real</td>\n",
       "      <td>{'type': 'Point', 'coordinates': [40.418106483...</td>\n",
       "    </tr>\n",
       "    <tr>\n",
       "      <th>18</th>\n",
       "      <td>Starbucks</td>\n",
       "      <td>{'type': 'Point', 'coordinates': [40.421095, -...</td>\n",
       "    </tr>\n",
       "    <tr>\n",
       "      <th>19</th>\n",
       "      <td>Starbucks Juan Bravo</td>\n",
       "      <td>{'type': 'Point', 'coordinates': [40.432967606...</td>\n",
       "    </tr>\n",
       "    <tr>\n",
       "      <th>20</th>\n",
       "      <td>Starbucks San Miguel</td>\n",
       "      <td>{'type': 'Point', 'coordinates': [40.415732975...</td>\n",
       "    </tr>\n",
       "    <tr>\n",
       "      <th>21</th>\n",
       "      <td>Starbucks Velázquez, 32</td>\n",
       "      <td>{'type': 'Point', 'coordinates': [40.424974636...</td>\n",
       "    </tr>\n",
       "    <tr>\n",
       "      <th>22</th>\n",
       "      <td>Starbucks ECI Preciados</td>\n",
       "      <td>{'type': 'Point', 'coordinates': [40.4174674, ...</td>\n",
       "    </tr>\n",
       "    <tr>\n",
       "      <th>23</th>\n",
       "      <td>Starbucks ECI Castellana (Starbucks)</td>\n",
       "      <td>{'type': 'Point', 'coordinates': [40.447488723...</td>\n",
       "    </tr>\n",
       "    <tr>\n",
       "      <th>24</th>\n",
       "      <td>Starbucks Reina Sofia</td>\n",
       "      <td>{'type': 'Point', 'coordinates': [40.408852145...</td>\n",
       "    </tr>\n",
       "    <tr>\n",
       "      <th>25</th>\n",
       "      <td>Starbucks Conde de Peñalver</td>\n",
       "      <td>{'type': 'Point', 'coordinates': [40.426066801...</td>\n",
       "    </tr>\n",
       "    <tr>\n",
       "      <th>26</th>\n",
       "      <td>Starbucks</td>\n",
       "      <td>{'type': 'Point', 'coordinates': [40.420450975...</td>\n",
       "    </tr>\n",
       "    <tr>\n",
       "      <th>27</th>\n",
       "      <td>Starbucks Velázquez</td>\n",
       "      <td>{'type': 'Point', 'coordinates': [40.439431444...</td>\n",
       "    </tr>\n",
       "    <tr>\n",
       "      <th>28</th>\n",
       "      <td>Starbucks Orense 6</td>\n",
       "      <td>{'type': 'Point', 'coordinates': [40.447728697...</td>\n",
       "    </tr>\n",
       "    <tr>\n",
       "      <th>29</th>\n",
       "      <td>Starbucks</td>\n",
       "      <td>{'type': 'Point', 'coordinates': [40.446775991...</td>\n",
       "    </tr>\n",
       "    <tr>\n",
       "      <th>30</th>\n",
       "      <td>Starbucks Palace</td>\n",
       "      <td>{'type': 'Point', 'coordinates': [40.414995, -...</td>\n",
       "    </tr>\n",
       "    <tr>\n",
       "      <th>31</th>\n",
       "      <td>Starbucks</td>\n",
       "      <td>{'type': 'Point', 'coordinates': [40.440273, -...</td>\n",
       "    </tr>\n",
       "    <tr>\n",
       "      <th>32</th>\n",
       "      <td>Starbucks</td>\n",
       "      <td>{'type': 'Point', 'coordinates': [40.403120577...</td>\n",
       "    </tr>\n",
       "    <tr>\n",
       "      <th>33</th>\n",
       "      <td>Starbucks Orense 79</td>\n",
       "      <td>{'type': 'Point', 'coordinates': [40.45957, -3...</td>\n",
       "    </tr>\n",
       "    <tr>\n",
       "      <th>34</th>\n",
       "      <td>Starbucks Plaza Río 2</td>\n",
       "      <td>{'type': 'Point', 'coordinates': [40.391303854...</td>\n",
       "    </tr>\n",
       "    <tr>\n",
       "      <th>35</th>\n",
       "      <td>Starbucks ECI Méndez Álvaro</td>\n",
       "      <td>{'type': 'Point', 'coordinates': [40.39469, -3...</td>\n",
       "    </tr>\n",
       "    <tr>\n",
       "      <th>36</th>\n",
       "      <td>Starbucks CC La Vaguada</td>\n",
       "      <td>{'type': 'Point', 'coordinates': [40.479635980...</td>\n",
       "    </tr>\n",
       "    <tr>\n",
       "      <th>37</th>\n",
       "      <td>Starbucks CC Dreams</td>\n",
       "      <td>{'type': 'Point', 'coordinates': [40.462822682...</td>\n",
       "    </tr>\n",
       "    <tr>\n",
       "      <th>38</th>\n",
       "      <td>Starbucks Pozuelo</td>\n",
       "      <td>{'type': 'Point', 'coordinates': [40.438168161...</td>\n",
       "    </tr>\n",
       "    <tr>\n",
       "      <th>39</th>\n",
       "      <td>Starbucks CC Islazul</td>\n",
       "      <td>{'type': 'Point', 'coordinates': [40.363502712...</td>\n",
       "    </tr>\n",
       "    <tr>\n",
       "      <th>40</th>\n",
       "      <td>Starbucks La Finca</td>\n",
       "      <td>{'type': 'Point', 'coordinates': [40.418888672...</td>\n",
       "    </tr>\n",
       "    <tr>\n",
       "      <th>41</th>\n",
       "      <td>Starbucks ECI Sanchinarro</td>\n",
       "      <td>{'type': 'Point', 'coordinates': [40.497687216...</td>\n",
       "    </tr>\n",
       "    <tr>\n",
       "      <th>42</th>\n",
       "      <td>Starbucks ECI Pozuelo</td>\n",
       "      <td>{'type': 'Point', 'coordinates': [40.463101058...</td>\n",
       "    </tr>\n",
       "    <tr>\n",
       "      <th>43</th>\n",
       "      <td>Starbucks Parquesur</td>\n",
       "      <td>{'type': 'Point', 'coordinates': [40.339331830...</td>\n",
       "    </tr>\n",
       "    <tr>\n",
       "      <th>44</th>\n",
       "      <td>Starbucks CC Plenilunio</td>\n",
       "      <td>{'type': 'Point', 'coordinates': [40.446385910...</td>\n",
       "    </tr>\n",
       "    <tr>\n",
       "      <th>45</th>\n",
       "      <td>Starbucks</td>\n",
       "      <td>{'type': 'Point', 'coordinates': [40.455039, -...</td>\n",
       "    </tr>\n",
       "  </tbody>\n",
       "</table>\n",
       "</div>"
      ],
      "text/plain": [
       "                                    name  \\\n",
       "0              Starbucks Plaza de España   \n",
       "1              Starbucks Room Mate Oscar   \n",
       "2                Starbucks Fuencarral 43   \n",
       "3                  Starbucks Princesa 40   \n",
       "4                  Starbucks Gran Vía 30   \n",
       "5                 Starbucks Preciados 27   \n",
       "6                  Starbucks Gran Vía 58   \n",
       "7                      Starbucks Quevedo   \n",
       "8                    Starbucks Alcalá 21   \n",
       "9                    Starbucks Génova 27   \n",
       "10                   Starbucks Arenal 14   \n",
       "11                             Starbucks   \n",
       "12                             Starbucks   \n",
       "13                Starbucks Serrano, 100   \n",
       "14                Starbucks Príncipe Pío   \n",
       "15                             Starbucks   \n",
       "16                             Starbucks   \n",
       "17                 Starbucks Teatro Real   \n",
       "18                             Starbucks   \n",
       "19                  Starbucks Juan Bravo   \n",
       "20                  Starbucks San Miguel   \n",
       "21               Starbucks Velázquez, 32   \n",
       "22               Starbucks ECI Preciados   \n",
       "23  Starbucks ECI Castellana (Starbucks)   \n",
       "24                 Starbucks Reina Sofia   \n",
       "25           Starbucks Conde de Peñalver   \n",
       "26                             Starbucks   \n",
       "27                   Starbucks Velázquez   \n",
       "28                    Starbucks Orense 6   \n",
       "29                             Starbucks   \n",
       "30                      Starbucks Palace   \n",
       "31                             Starbucks   \n",
       "32                             Starbucks   \n",
       "33                   Starbucks Orense 79   \n",
       "34                 Starbucks Plaza Río 2   \n",
       "35           Starbucks ECI Méndez Álvaro   \n",
       "36               Starbucks CC La Vaguada   \n",
       "37                   Starbucks CC Dreams   \n",
       "38                     Starbucks Pozuelo   \n",
       "39                  Starbucks CC Islazul   \n",
       "40                    Starbucks La Finca   \n",
       "41             Starbucks ECI Sanchinarro   \n",
       "42                 Starbucks ECI Pozuelo   \n",
       "43                   Starbucks Parquesur   \n",
       "44               Starbucks CC Plenilunio   \n",
       "45                             Starbucks   \n",
       "\n",
       "                                             location  \n",
       "0   {'type': 'Point', 'coordinates': [40.423319643...  \n",
       "1   {'type': 'Point', 'coordinates': [40.420751835...  \n",
       "2   {'type': 'Point', 'coordinates': [40.423112989...  \n",
       "3   {'type': 'Point', 'coordinates': [40.429068740...  \n",
       "4   {'type': 'Point', 'coordinates': [40.420140393...  \n",
       "5   {'type': 'Point', 'coordinates': [40.419667845...  \n",
       "6   {'type': 'Point', 'coordinates': [40.421751918...  \n",
       "7   {'type': 'Point', 'coordinates': [40.433353, -...  \n",
       "8   {'type': 'Point', 'coordinates': [40.418038185...  \n",
       "9   {'type': 'Point', 'coordinates': [40.425760357...  \n",
       "10  {'type': 'Point', 'coordinates': [40.417195167...  \n",
       "11  {'type': 'Point', 'coordinates': [40.418054, -...  \n",
       "12  {'type': 'Point', 'coordinates': [40.417539, -...  \n",
       "13  {'type': 'Point', 'coordinates': [40.433563917...  \n",
       "14  {'type': 'Point', 'coordinates': [40.421949993...  \n",
       "15  {'type': 'Point', 'coordinates': [40.415323273...  \n",
       "16  {'type': 'Point', 'coordinates': [40.417489421...  \n",
       "17  {'type': 'Point', 'coordinates': [40.418106483...  \n",
       "18  {'type': 'Point', 'coordinates': [40.421095, -...  \n",
       "19  {'type': 'Point', 'coordinates': [40.432967606...  \n",
       "20  {'type': 'Point', 'coordinates': [40.415732975...  \n",
       "21  {'type': 'Point', 'coordinates': [40.424974636...  \n",
       "22  {'type': 'Point', 'coordinates': [40.4174674, ...  \n",
       "23  {'type': 'Point', 'coordinates': [40.447488723...  \n",
       "24  {'type': 'Point', 'coordinates': [40.408852145...  \n",
       "25  {'type': 'Point', 'coordinates': [40.426066801...  \n",
       "26  {'type': 'Point', 'coordinates': [40.420450975...  \n",
       "27  {'type': 'Point', 'coordinates': [40.439431444...  \n",
       "28  {'type': 'Point', 'coordinates': [40.447728697...  \n",
       "29  {'type': 'Point', 'coordinates': [40.446775991...  \n",
       "30  {'type': 'Point', 'coordinates': [40.414995, -...  \n",
       "31  {'type': 'Point', 'coordinates': [40.440273, -...  \n",
       "32  {'type': 'Point', 'coordinates': [40.403120577...  \n",
       "33  {'type': 'Point', 'coordinates': [40.45957, -3...  \n",
       "34  {'type': 'Point', 'coordinates': [40.391303854...  \n",
       "35  {'type': 'Point', 'coordinates': [40.39469, -3...  \n",
       "36  {'type': 'Point', 'coordinates': [40.479635980...  \n",
       "37  {'type': 'Point', 'coordinates': [40.462822682...  \n",
       "38  {'type': 'Point', 'coordinates': [40.438168161...  \n",
       "39  {'type': 'Point', 'coordinates': [40.363502712...  \n",
       "40  {'type': 'Point', 'coordinates': [40.418888672...  \n",
       "41  {'type': 'Point', 'coordinates': [40.497687216...  \n",
       "42  {'type': 'Point', 'coordinates': [40.463101058...  \n",
       "43  {'type': 'Point', 'coordinates': [40.339331830...  \n",
       "44  {'type': 'Point', 'coordinates': [40.446385910...  \n",
       "45  {'type': 'Point', 'coordinates': [40.455039, -...  "
      ]
     },
     "execution_count": 551,
     "metadata": {},
     "output_type": "execute_result"
    }
   ],
   "source": [
    "starbucks_mad_point = pd.DataFrame(coleccion_starbucks)\n",
    "starbucks_mad_point"
   ]
  },
  {
   "cell_type": "code",
   "execution_count": 558,
   "id": "cf338e50",
   "metadata": {},
   "outputs": [],
   "source": [
    "starbucks_mad_point.to_json(\"../data/starbucks_madrid_colection.json\", orient=\"records\")"
   ]
  },
  {
   "cell_type": "code",
   "execution_count": null,
   "id": "08e266e8",
   "metadata": {},
   "outputs": [],
   "source": []
  },
  {
   "cell_type": "code",
   "execution_count": null,
   "id": "c1fec6be",
   "metadata": {},
   "outputs": [],
   "source": []
  },
  {
   "cell_type": "code",
   "execution_count": null,
   "id": "e307f04d",
   "metadata": {},
   "outputs": [],
   "source": []
  },
  {
   "cell_type": "markdown",
   "id": "71b7def8",
   "metadata": {},
   "source": [
    "## Colección Escuelas"
   ]
  },
  {
   "cell_type": "code",
   "execution_count": 640,
   "id": "2cc5b098",
   "metadata": {},
   "outputs": [],
   "source": [
    "url = 'https://api.foursquare.com/v2/venues/explore'\n",
    "\n",
    "params = dict(\n",
    "client_id= tok1,\n",
    "client_secret= tok2,\n",
    "v='20180323',\n",
    "ll='40.42741669687324,-3.7042628540907128',\n",
    "radius = 100000,\n",
    "query = 'educacion',\n",
    "limit = 1000\n",
    ")     # instituto   school     colegio     escuela"
   ]
  },
  {
   "cell_type": "code",
   "execution_count": 641,
   "id": "79e86506",
   "metadata": {},
   "outputs": [],
   "source": [
    "resp = requests.get(url= url, params = params).json()"
   ]
  },
  {
   "cell_type": "code",
   "execution_count": 642,
   "id": "1c9f18f7",
   "metadata": {},
   "outputs": [],
   "source": [
    "data = resp.get(\"response\").get(\"groups\")[0].get(\"items\")"
   ]
  },
  {
   "cell_type": "code",
   "execution_count": 643,
   "id": "cf0846ca",
   "metadata": {},
   "outputs": [
    {
     "data": {
      "text/plain": [
       "8"
      ]
     },
     "execution_count": 643,
     "metadata": {},
     "output_type": "execute_result"
    }
   ],
   "source": [
    "len(data)"
   ]
  },
  {
   "cell_type": "code",
   "execution_count": 644,
   "id": "20c72460",
   "metadata": {},
   "outputs": [],
   "source": [
    "def getFromDict(diccionario,mapa):\n",
    "    return reduce(operator.getitem,mapa,diccionario)\n",
    "\n",
    "mapa_nombre =  [\"venue\", \"name\"]\n",
    "mapa_latitud = [\"venue\", \"location\", \"lat\"]\n",
    "mapa_longitud = [\"venue\", \"location\", \"lng\"]\n",
    "\n",
    "#escuelas_madrid = []\n",
    "for dic in data:\n",
    "    paralista = {}\n",
    "    paralista[\"name\"] = getFromDict(dic, mapa_nombre)\n",
    "    paralista[\"latitud\"]= getFromDict(dic, mapa_latitud)\n",
    "    paralista[\"longitud\"] = getFromDict(dic,mapa_longitud)\n",
    "    escuelas_madrid.append(paralista)"
   ]
  },
  {
   "cell_type": "code",
   "execution_count": 645,
   "id": "68a4fd76",
   "metadata": {},
   "outputs": [
    {
     "data": {
      "text/plain": [
       "191"
      ]
     },
     "execution_count": 645,
     "metadata": {},
     "output_type": "execute_result"
    }
   ],
   "source": [
    "len(escuelas_madrid)"
   ]
  },
  {
   "cell_type": "code",
   "execution_count": 672,
   "id": "6a8458c0",
   "metadata": {},
   "outputs": [],
   "source": [
    "colegios_mad = pd.DataFrame(escuelas_madrid)"
   ]
  },
  {
   "cell_type": "code",
   "execution_count": 673,
   "id": "115612b0",
   "metadata": {},
   "outputs": [
    {
     "data": {
      "text/html": [
       "<div>\n",
       "<style scoped>\n",
       "    .dataframe tbody tr th:only-of-type {\n",
       "        vertical-align: middle;\n",
       "    }\n",
       "\n",
       "    .dataframe tbody tr th {\n",
       "        vertical-align: top;\n",
       "    }\n",
       "\n",
       "    .dataframe thead th {\n",
       "        text-align: right;\n",
       "    }\n",
       "</style>\n",
       "<table border=\"1\" class=\"dataframe\">\n",
       "  <thead>\n",
       "    <tr style=\"text-align: right;\">\n",
       "      <th></th>\n",
       "      <th>name</th>\n",
       "      <th>latitud</th>\n",
       "      <th>longitud</th>\n",
       "    </tr>\n",
       "  </thead>\n",
       "  <tbody>\n",
       "    <tr>\n",
       "      <th>186</th>\n",
       "      <td>Parque de San Antonio</td>\n",
       "      <td>40.658778</td>\n",
       "      <td>-4.686982</td>\n",
       "    </tr>\n",
       "    <tr>\n",
       "      <th>187</th>\n",
       "      <td>Granier Panes Artesanos</td>\n",
       "      <td>40.421598</td>\n",
       "      <td>-3.675952</td>\n",
       "    </tr>\n",
       "    <tr>\n",
       "      <th>188</th>\n",
       "      <td>100 Montaditos</td>\n",
       "      <td>40.426698</td>\n",
       "      <td>-3.696514</td>\n",
       "    </tr>\n",
       "    <tr>\n",
       "      <th>189</th>\n",
       "      <td>Home Asia</td>\n",
       "      <td>40.294040</td>\n",
       "      <td>-3.812575</td>\n",
       "    </tr>\n",
       "    <tr>\n",
       "      <th>190</th>\n",
       "      <td>Restaurante Montaloya</td>\n",
       "      <td>40.419217</td>\n",
       "      <td>-3.734716</td>\n",
       "    </tr>\n",
       "  </tbody>\n",
       "</table>\n",
       "</div>"
      ],
      "text/plain": [
       "                        name    latitud  longitud\n",
       "186    Parque de San Antonio  40.658778 -4.686982\n",
       "187  Granier Panes Artesanos  40.421598 -3.675952\n",
       "188           100 Montaditos  40.426698 -3.696514\n",
       "189                Home Asia  40.294040 -3.812575\n",
       "190    Restaurante Montaloya  40.419217 -3.734716"
      ]
     },
     "execution_count": 673,
     "metadata": {},
     "output_type": "execute_result"
    }
   ],
   "source": [
    "colegios_mad.tail()"
   ]
  },
  {
   "cell_type": "code",
   "execution_count": 674,
   "id": "0f091d7b",
   "metadata": {},
   "outputs": [],
   "source": [
    "lista_colegios = td.sacar_coord(escuelas_madrid)"
   ]
  },
  {
   "cell_type": "code",
   "execution_count": 675,
   "id": "16414cd5",
   "metadata": {},
   "outputs": [
    {
     "data": {
      "text/plain": [
       "191"
      ]
     },
     "execution_count": 675,
     "metadata": {},
     "output_type": "execute_result"
    }
   ],
   "source": [
    "len(lista_colegios)"
   ]
  },
  {
   "cell_type": "code",
   "execution_count": 676,
   "id": "ec34360a",
   "metadata": {},
   "outputs": [],
   "source": [
    "coleccion_escuelas = []\n",
    "for elem in escuelas_madrid:\n",
    "    entrada = {\n",
    "        \"name\": elem.get(\"name\"),\n",
    "        \"location\": {\"type\": \"Point\", \"coordinates\": [elem.get(\"latitud\"), elem.get(\"longitud\")]}\n",
    "        \n",
    "    }\n",
    "    coleccion_escuelas.append(entrada)"
   ]
  },
  {
   "cell_type": "code",
   "execution_count": 677,
   "id": "3407f185",
   "metadata": {
    "collapsed": true
   },
   "outputs": [
    {
     "data": {
      "text/plain": [
       "[{'name': 'Cronopios Idiomas',\n",
       "  'location': {'type': 'Point',\n",
       "   'coordinates': [40.41262606884726, -3.6891531944274902]}},\n",
       " {'name': 'Idiomas 24/7',\n",
       "  'location': {'type': 'Point',\n",
       "   'coordinates': [40.45173961170735, -3.69497008349552]}},\n",
       " {'name': 'Escuela Oficial de Idiomas Jesús Maestro',\n",
       "  'location': {'type': 'Point',\n",
       "   'coordinates': [40.44083663995792, -3.7116487458704763]}},\n",
       " {'name': 'Enforex - Escuela',\n",
       "  'location': {'type': 'Point',\n",
       "   'coordinates': [40.429489606628735, -3.7098631494758605]}},\n",
       " {'name': 'Colegio Público Portugal',\n",
       "  'location': {'type': 'Point',\n",
       "   'coordinates': [40.424902568735014, -3.7148820347640723]}},\n",
       " {'name': 'Club De Español',\n",
       "  'location': {'type': 'Point',\n",
       "   'coordinates': [40.429072611459304, -3.6919408973836707]}},\n",
       " {'name': 'Talking Point',\n",
       "  'location': {'type': 'Point',\n",
       "   'coordinates': [40.416548229997005, -3.7017070382423287]}},\n",
       " {'name': 'British Council Madrid Young Leaners',\n",
       "  'location': {'type': 'Point',\n",
       "   'coordinates': [40.43513620483764, -3.693705035042072]}},\n",
       " {'name': 'American High Stand Academy',\n",
       "  'location': {'type': 'Point', 'coordinates': [40.436749, -3.714933]}},\n",
       " {'name': 'Colegio Sagrados Corazones',\n",
       "  'location': {'type': 'Point',\n",
       "   'coordinates': [40.431741606385984, -3.7201557450927694]}},\n",
       " {'name': 'ESAME PHARMACEUTICAL BUSINESS SCHOOL',\n",
       "  'location': {'type': 'Point',\n",
       "   'coordinates': [40.4285078, -3.684043699999961]}},\n",
       " {'name': 'Liceo Italiano Enrico Fermi',\n",
       "  'location': {'type': 'Point',\n",
       "   'coordinates': [40.4419026679497, -3.695376343373298]}},\n",
       " {'name': 'IE Business School Aula Magna',\n",
       "  'location': {'type': 'Point',\n",
       "   'coordinates': [40.437909086429826, -3.6877246991831556]}},\n",
       " {'name': 'C.P. Ramiro de Maeztu',\n",
       "  'location': {'type': 'Point',\n",
       "   'coordinates': [40.44196594051204, -3.6861124476864813]}},\n",
       " {'name': 'Colegio Buen Consejo',\n",
       "  'location': {'type': 'Point',\n",
       "   'coordinates': [40.44730028815323, -3.713007199950265]}},\n",
       " {'name': 'Colegio Claret',\n",
       "  'location': {'type': 'Point',\n",
       "   'coordinates': [40.44026407175295, -3.672521868300799]}},\n",
       " {'name': 'Academia Form@-T',\n",
       "  'location': {'type': 'Point',\n",
       "   'coordinates': [40.44484052901337, -3.673405945301056]}},\n",
       " {'name': 'Colegio Escandinavo de Madrid',\n",
       "  'location': {'type': 'Point',\n",
       "   'coordinates': [40.51006023257708, -3.613892575587923]}},\n",
       " {'name': 'Colegio Sagrado Corazón',\n",
       "  'location': {'type': 'Point',\n",
       "   'coordinates': [40.390325397602766, -3.7101173400878906]}},\n",
       " {'name': 'C.C. Colegio Montpellier',\n",
       "  'location': {'type': 'Point',\n",
       "   'coordinates': [40.437760338139896, -3.65417086213717]}},\n",
       " {'name': 'Colegio Nuestra Señora del Recuerdo',\n",
       "  'location': {'type': 'Point',\n",
       "   'coordinates': [40.46904750213028, -3.6782865218350884]}},\n",
       " {'name': 'Colegio Ramón y Cajal',\n",
       "  'location': {'type': 'Point', 'coordinates': [40.4605972, -3.661096]}},\n",
       " {'name': 'Colegio Arenales',\n",
       "  'location': {'type': 'Point',\n",
       "   'coordinates': [40.374027957219, -3.722836167892057]}},\n",
       " {'name': 'Colegio Publico Jose Bergamin',\n",
       "  'location': {'type': 'Point',\n",
       "   'coordinates': [40.4331958770478, -3.885344023516797]}},\n",
       " {'name': 'C.E.I.P. Carmen Cabezuelo',\n",
       "  'location': {'type': 'Point',\n",
       "   'coordinates': [40.43011976280226, -3.6287240984066473]}},\n",
       " {'name': 'Fundacion Tomillo',\n",
       "  'location': {'type': 'Point', 'coordinates': [40.366244, -3.697742]}},\n",
       " {'name': 'Colegio Edith Stein',\n",
       "  'location': {'type': 'Point',\n",
       "   'coordinates': [40.36544707504457, -3.707496278220684]}},\n",
       " {'name': 'Colegio Monte Tabor',\n",
       "  'location': {'type': 'Point',\n",
       "   'coordinates': [40.41099828109501, -3.784986875099113]}},\n",
       " {'name': 'Colegio Valdefuentes',\n",
       "  'location': {'type': 'Point',\n",
       "   'coordinates': [40.490114955693784, -3.6658319313956347]}},\n",
       " {'name': 'Colegio Las Nieves',\n",
       "  'location': {'type': 'Point',\n",
       "   'coordinates': [40.445898893018956, -3.6134380010976628]}},\n",
       " {'name': 'Colegio Los Robles',\n",
       "  'location': {'type': 'Point',\n",
       "   'coordinates': [40.45451743799107, -3.7931938531875127]}},\n",
       " {'name': 'C.E.I.P. Álvaro de Bazán',\n",
       "  'location': {'type': 'Point',\n",
       "   'coordinates': [40.42145515855339, -3.6070137684509365]}},\n",
       " {'name': 'Colegio Santa Maria de la Hispanidad',\n",
       "  'location': {'type': 'Point',\n",
       "   'coordinates': [40.45338267239683, -3.6114720198235317]}},\n",
       " {'name': 'Escuela Infantil Ana de Austria',\n",
       "  'location': {'type': 'Point',\n",
       "   'coordinates': [40.49659407960684, -3.654944729650964]}},\n",
       " {'name': 'Colegio Cortes De Cádiz, Sanchinarro',\n",
       "  'location': {'type': 'Point',\n",
       "   'coordinates': [40.4985953723131, -3.6556377966105704]}},\n",
       " {'name': 'Colegio El Quijote',\n",
       "  'location': {'type': 'Point',\n",
       "   'coordinates': [40.37496088171162, -3.6236280520576556]}},\n",
       " {'name': 'Colegio Santa María La Blanca',\n",
       "  'location': {'type': 'Point',\n",
       "   'coordinates': [40.51058153637116, -3.6965109156761384]}},\n",
       " {'name': 'Colegio Príncipes de Asturias',\n",
       "  'location': {'type': 'Point',\n",
       "   'coordinates': [40.45705158107431, -3.8067348517580646]}},\n",
       " {'name': 'Colegio Estudiantes Las Tablas',\n",
       "  'location': {'type': 'Point',\n",
       "   'coordinates': [40.508748271432026, -3.6784251985800007]}},\n",
       " {'name': 'Liceo Sorolla',\n",
       "  'location': {'type': 'Point',\n",
       "   'coordinates': [40.44714477238526, -3.812279715586632]}},\n",
       " {'name': 'Colegio Highlands',\n",
       "  'location': {'type': 'Point',\n",
       "   'coordinates': [40.50439774990082, -3.638974]}},\n",
       " {'name': 'Colegio Torrevilano',\n",
       "  'location': {'type': 'Point',\n",
       "   'coordinates': [40.363091774162996, -3.6020473207655215]}},\n",
       " {'name': 'Colegio Aldeafuente',\n",
       "  'location': {'type': 'Point',\n",
       "   'coordinates': [40.53001499378077, -3.629597899594186]}},\n",
       " {'name': 'C.E.I.P. Daoiz y Velarde',\n",
       "  'location': {'type': 'Point',\n",
       "   'coordinates': [40.54402566712926, -3.6612826297172676]}},\n",
       " {'name': 'Colegio María Teresa',\n",
       "  'location': {'type': 'Point',\n",
       "   'coordinates': [40.54731492010025, -3.652245773066716]}},\n",
       " {'name': 'Colegio Padre Manyanet',\n",
       "  'location': {'type': 'Point',\n",
       "   'coordinates': [40.55226276299699, -3.6761069297790527]}},\n",
       " {'name': 'C.P. Ciudades Unidas',\n",
       "  'location': {'type': 'Point',\n",
       "   'coordinates': [40.420604173313556, -3.5260224304886463]}},\n",
       " {'name': 'Colegio Cristo Rey',\n",
       "  'location': {'type': 'Point',\n",
       "   'coordinates': [40.48605322937734, -3.8681972700620952]}},\n",
       " {'name': 'Colegio Virgen de Europa',\n",
       "  'location': {'type': 'Point',\n",
       "   'coordinates': [40.430413472754545, -3.890388757194829]}},\n",
       " {'name': 'Trinity College',\n",
       "  'location': {'type': 'Point',\n",
       "   'coordinates': [40.44342556161306, -3.89331319973358]}},\n",
       " {'name': 'Colegio Europeo de Madrid (CEM)',\n",
       "  'location': {'type': 'Point',\n",
       "   'coordinates': [40.50055927882, -3.8746254989985336]}},\n",
       " {'name': 'Escuela Infantil BEBIN',\n",
       "  'location': {'type': 'Point',\n",
       "   'coordinates': [40.50022150976667, -3.8751525202445283]}},\n",
       " {'name': \"Colegio St. Michael's Parque Boadilla\",\n",
       "  'location': {'type': 'Point',\n",
       "   'coordinates': [40.43126275621332, -3.9196157912837792]}},\n",
       " {'name': 'Autoescuela Gala',\n",
       "  'location': {'type': 'Point', 'coordinates': [40.598678, -3.715471]}},\n",
       " {'name': 'Colegio Público La Encina',\n",
       "  'location': {'type': 'Point',\n",
       "   'coordinates': [40.51953352325876, -3.902238927884007]}},\n",
       " {'name': 'Colegio Los Jarales',\n",
       "  'location': {'type': 'Point',\n",
       "   'coordinates': [40.51910070813903, -3.9051220806754663]}},\n",
       " {'name': 'Centro Educativo Zola - Las Rozas',\n",
       "  'location': {'type': 'Point',\n",
       "   'coordinates': [40.513016117585096, -3.914952278137207]}},\n",
       " {'name': 'Colegio Nuestra Señora De La Merced',\n",
       "  'location': {'type': 'Point',\n",
       "   'coordinates': [40.614482484544105, -3.718647594953334]}},\n",
       " {'name': 'Ies Humanejos',\n",
       "  'location': {'type': 'Point', 'coordinates': [40.22726171, -3.76825977]}},\n",
       " {'name': 'Academia Contacto',\n",
       "  'location': {'type': 'Point',\n",
       "   'coordinates': [40.43268647684853, -3.699153159324687]}},\n",
       " {'name': 'Colegio Peñalar',\n",
       "  'location': {'type': 'Point',\n",
       "   'coordinates': [40.57987590880108, -3.9370106454445257]}},\n",
       " {'name': 'Colegio Gredos San Diego de Alcala de Henares',\n",
       "  'location': {'type': 'Point',\n",
       "   'coordinates': [40.50403436792415, -3.362029343364126]}},\n",
       " {'name': 'Enforex Head Office',\n",
       "  'location': {'type': 'Point',\n",
       "   'coordinates': [40.42945674796501, -3.7098049657373955]}},\n",
       " {'name': 'Escuelas Pias',\n",
       "  'location': {'type': 'Point',\n",
       "   'coordinates': [40.484596948271076, -3.35243957114015]}},\n",
       " {'name': 'Gredos San Diego El Escorial',\n",
       "  'location': {'type': 'Point',\n",
       "   'coordinates': [40.58583167851412, -4.045516631881734]}},\n",
       " {'name': 'Colegio Público Carlos III',\n",
       "  'location': {'type': 'Point',\n",
       "   'coordinates': [40.03671329026806, -3.584737007634612]}},\n",
       " {'name': 'IE Business School MM4',\n",
       "  'location': {'type': 'Point',\n",
       "   'coordinates': [40.43768615467192, -3.688397584222651]}},\n",
       " {'name': 'American School of Madrid',\n",
       "  'location': {'type': 'Point',\n",
       "   'coordinates': [40.44355447315098, -3.7826539664145438]}},\n",
       " {'name': 'Runnymede College',\n",
       "  'location': {'type': 'Point',\n",
       "   'coordinates': [40.52848672994643, -3.6315345660962652]}},\n",
       " {'name': 'Colegio Teresa De Calcuta',\n",
       "  'location': {'type': 'Point',\n",
       "   'coordinates': [40.56107264569122, -3.6116631108360124]}},\n",
       " {'name': 'Eureka',\n",
       "  'location': {'type': 'Point',\n",
       "   'coordinates': [40.41786680564627, -3.7083983206174476]}},\n",
       " {'name': 'AIL Madrid - Spanish School',\n",
       "  'location': {'type': 'Point',\n",
       "   'coordinates': [40.42319986233708, -3.68316650390625]}},\n",
       " {'name': 'Academia Bunkyo',\n",
       "  'location': {'type': 'Point',\n",
       "   'coordinates': [40.42132844559723, -3.7021378223122863]}},\n",
       " {'name': 'Colegio Maria Inmaculada',\n",
       "  'location': {'type': 'Point',\n",
       "   'coordinates': [40.43425960126786, -3.695534884698451]}},\n",
       " {'name': 'Colegio Calasancio',\n",
       "  'location': {'type': 'Point',\n",
       "   'coordinates': [40.431017738771125, -3.6754006051378703]}},\n",
       " {'name': 'San Patricio',\n",
       "  'location': {'type': 'Point',\n",
       "   'coordinates': [40.450414668275016, -3.681788226180184]}},\n",
       " {'name': 'Guarderia Kinderland',\n",
       "  'location': {'type': 'Point',\n",
       "   'coordinates': [40.45602357203799, -3.693350030821619]}},\n",
       " {'name': 'Colegio Maria Auxiliadora Villaamil',\n",
       "  'location': {'type': 'Point',\n",
       "   'coordinates': [40.45843120798441, -3.7065725166337233]}},\n",
       " {'name': 'The Language Corner',\n",
       "  'location': {'type': 'Point',\n",
       "   'coordinates': [40.42746322002237, -3.653120230314189]}},\n",
       " {'name': 'Colegio Joyfe',\n",
       "  'location': {'type': 'Point',\n",
       "   'coordinates': [40.433259295002216, -3.6394843552939187]}},\n",
       " {'name': 'Colegio Sagrada Familia (SAFA)',\n",
       "  'location': {'type': 'Point',\n",
       "   'coordinates': [40.40612740537575, -3.6357665061950684]}},\n",
       " {'name': 'I.E.S. Gerardo Diego',\n",
       "  'location': {'type': 'Point',\n",
       "   'coordinates': [40.44290130926012, -3.786906276229001]}},\n",
       " {'name': 'Colegio Veritas',\n",
       "  'location': {'type': 'Point',\n",
       "   'coordinates': [40.4152657608065, -3.7909079957123515]}},\n",
       " {'name': 'IES Gabriel García Márquez',\n",
       "  'location': {'type': 'Point',\n",
       "   'coordinates': [40.47046002106398, -3.635719456710853]}},\n",
       " {'name': 'I.E.S. Joaquín Rodrigo',\n",
       "  'location': {'type': 'Point',\n",
       "   'coordinates': [40.40900189765354, -3.613922510377166]}},\n",
       " {'name': 'colegio infanta leonor',\n",
       "  'location': {'type': 'Point',\n",
       "   'coordinates': [40.5014714805498, -3.7002820287105616]}},\n",
       " {'name': 'I.E.S. San Juan de la Cruz',\n",
       "  'location': {'type': 'Point',\n",
       "   'coordinates': [40.430491283241366, -3.8161104447840373]}},\n",
       " {'name': 'Liceo Europeo',\n",
       "  'location': {'type': 'Point',\n",
       "   'coordinates': [40.511241147458186, -3.643911396793926]}},\n",
       " {'name': 'Tetuan Valley',\n",
       "  'location': {'type': 'Point',\n",
       "   'coordinates': [40.45946506588095, -3.699489403782535]}},\n",
       " {'name': 'I.E.S. Los Castillos',\n",
       "  'location': {'type': 'Point',\n",
       "   'coordinates': [40.35722662255493, -3.8103646003318685]}},\n",
       " {'name': 'Colegio Base',\n",
       "  'location': {'type': 'Point',\n",
       "   'coordinates': [40.50938544552096, -3.6111820162228607]}},\n",
       " {'name': 'Irlandesas',\n",
       "  'location': {'type': 'Point',\n",
       "   'coordinates': [40.52494519281781, -3.640639975501519]}},\n",
       " {'name': 'IE Business School',\n",
       "  'location': {'type': 'Point',\n",
       "   'coordinates': [40.438783522611864, -3.687248275830536]}},\n",
       " {'name': 'I.E.S. Josefina Aldecoa',\n",
       "  'location': {'type': 'Point', 'coordinates': [40.354272, -3.8218059]}},\n",
       " {'name': 'Los Sauces',\n",
       "  'location': {'type': 'Point',\n",
       "   'coordinates': [40.52830225294828, -3.628851579158802]}},\n",
       " {'name': 'I.E.S. Rey Fernando VI',\n",
       "  'location': {'type': 'Point',\n",
       "   'coordinates': [40.42279148092813, -3.528714179992676]}},\n",
       " {'name': 'IE Business School MM2',\n",
       "  'location': {'type': 'Point',\n",
       "   'coordinates': [40.43766779716242, -3.6896703599823493]}},\n",
       " {'name': 'Accion Piano',\n",
       "  'location': {'type': 'Point',\n",
       "   'coordinates': [40.454963904760014, -3.680213172131945]}},\n",
       " {'name': 'Colegio Altamira',\n",
       "  'location': {'type': 'Point',\n",
       "   'coordinates': [40.29407269784641, -3.7912157484567337]}},\n",
       " {'name': 'Colegio Gredos San Diego Las Rozas',\n",
       "  'location': {'type': 'Point',\n",
       "   'coordinates': [40.50188947240976, -3.8817787170410156]}},\n",
       " {'name': 'Instituto Cervantes',\n",
       "  'location': {'type': 'Point',\n",
       "   'coordinates': [40.41914443693692, -3.695468048720649]}},\n",
       " {'name': 'Casa Museo Lope de Vega',\n",
       "  'location': {'type': 'Point',\n",
       "   'coordinates': [40.41432648950357, -3.6974677331399093]}},\n",
       " {'name': 'Versalles',\n",
       "  'location': {'type': 'Point',\n",
       "   'coordinates': [40.50090067983793, -4.067638673167632]}},\n",
       " {'name': 'Taberna Aránzazu',\n",
       "  'location': {'type': 'Point',\n",
       "   'coordinates': [40.43864951992371, -3.678552809894594]}},\n",
       " {'name': 'Instituto Medicoestético',\n",
       "  'location': {'type': 'Point',\n",
       "   'coordinates': [40.434547339999995, -3.6833756600000003]}},\n",
       " {'name': 'El Flori',\n",
       "  'location': {'type': 'Point',\n",
       "   'coordinates': [40.451081912998966, -3.6561724547730052]}},\n",
       " {'name': 'Lizarran',\n",
       "  'location': {'type': 'Point',\n",
       "   'coordinates': [40.428274453125546, -3.6753916872650456]}},\n",
       " {'name': 'Centro Cultural Eduardo Urculo',\n",
       "  'location': {'type': 'Point',\n",
       "   'coordinates': [40.46959532472446, -3.6970076659849127]}},\n",
       " {'name': 'Plaza de Alonso Martínez',\n",
       "  'location': {'type': 'Point',\n",
       "   'coordinates': [40.42767972759961, -3.695687064580876]}},\n",
       " {'name': 'Bosco de Lobos',\n",
       "  'location': {'type': 'Point',\n",
       "   'coordinates': [40.424150785649374, -3.6990139940797278]}},\n",
       " {'name': 'Auditorio Nacional de Música',\n",
       "  'location': {'type': 'Point',\n",
       "   'coordinates': [40.446067936066186, -3.677756582066686]}},\n",
       " {'name': 'C.M.U. San Juan Evangelista',\n",
       "  'location': {'type': 'Point',\n",
       "   'coordinates': [40.44708536886293, -3.719726791445056]}},\n",
       " {'name': 'Body Factory',\n",
       "  'location': {'type': 'Point',\n",
       "   'coordinates': [40.41286036041115, -3.7918806104172313]}},\n",
       " {'name': 'SAGE2000',\n",
       "  'location': {'type': 'Point',\n",
       "   'coordinates': [40.39660256817867, -3.7614618689554633]}},\n",
       " {'name': 'Decathlon Alcobendas',\n",
       "  'location': {'type': 'Point',\n",
       "   'coordinates': [40.53118766113902, -3.646115872978934]}},\n",
       " {'name': 'Museo Nacional del Prado',\n",
       "  'location': {'type': 'Point',\n",
       "   'coordinates': [40.413978006085095, -3.6921894550323486]}},\n",
       " {'name': 'Don Oso',\n",
       "  'location': {'type': 'Point',\n",
       "   'coordinates': [40.43654975438844, -3.716466514689635]}},\n",
       " {'name': 'El Corte Inglés',\n",
       "  'location': {'type': 'Point',\n",
       "   'coordinates': [40.463111259517575, -3.8077926635742188]}},\n",
       " {'name': 'Monasterio de San Lorenzo de El Escorial',\n",
       "  'location': {'type': 'Point',\n",
       "   'coordinates': [40.589107413275194, -4.148068428039551]}},\n",
       " {'name': 'Carrefour',\n",
       "  'location': {'type': 'Point',\n",
       "   'coordinates': [40.452690638450854, -3.8679534381560092]}},\n",
       " {'name': 'Cafetería La Llama',\n",
       "  'location': {'type': 'Point',\n",
       "   'coordinates': [40.44645366802055, -3.7104139950230755]}},\n",
       " {'name': 'ILUNION Pio XII',\n",
       "  'location': {'type': 'Point',\n",
       "   'coordinates': [40.46880200168201, -3.673746367259065]}},\n",
       " {'name': 'Parque Colonia del Retiro',\n",
       "  'location': {'type': 'Point',\n",
       "   'coordinates': [40.40935128637728, -3.6714308273544636]}},\n",
       " {'name': 'Rotonda del Osito de Gominola',\n",
       "  'location': {'type': 'Point',\n",
       "   'coordinates': [40.442868519825424, -3.875704406786842]}},\n",
       " {'name': 'Plaza del Ayuntamiento de Escalona',\n",
       "  'location': {'type': 'Point',\n",
       "   'coordinates': [40.16599501767879, -4.403679736091029]}},\n",
       " {'name': 'Glacé Café',\n",
       "  'location': {'type': 'Point',\n",
       "   'coordinates': [40.4480622, -3.7170502999999826]}},\n",
       " {'name': 'Orient Buffet Libre',\n",
       "  'location': {'type': 'Point',\n",
       "   'coordinates': [40.42223697958694, -3.7110660148585475]}},\n",
       " {'name': 'Hotel Osuna',\n",
       "  'location': {'type': 'Point',\n",
       "   'coordinates': [40.45296790986916, -3.6129514573695327]}},\n",
       " {'name': 'Gorila',\n",
       "  'location': {'type': 'Point',\n",
       "   'coordinates': [40.42325787527853, -3.7028397480985196]}},\n",
       " {'name': 'Bnfit Padel',\n",
       "  'location': {'type': 'Point',\n",
       "   'coordinates': [40.45615192407396, -3.6860473661827897]}},\n",
       " {'name': 'La Mafia se sienta a la mesa',\n",
       "  'location': {'type': 'Point',\n",
       "   'coordinates': [40.469358995795005, -3.853422677027969]}},\n",
       " {'name': 'Vait',\n",
       "  'location': {'type': 'Point',\n",
       "   'coordinates': [40.49050990176785, -3.897555809401423]}},\n",
       " {'name': 'Namasté tienda de té',\n",
       "  'location': {'type': 'Point',\n",
       "   'coordinates': [40.62975884539851, -3.1603825092315674]}},\n",
       " {'name': 'EFTI',\n",
       "  'location': {'type': 'Point',\n",
       "   'coordinates': [40.40640739316449, -3.6813028269806267]}},\n",
       " {'name': 'A punto escuela de cocina y librería gastronómica',\n",
       "  'location': {'type': 'Point',\n",
       "   'coordinates': [40.42416356089801, -3.697510809603979]}},\n",
       " {'name': 'ACD Sporting De Hortaleza',\n",
       "  'location': {'type': 'Point',\n",
       "   'coordinates': [40.478741537415594, -3.6551385596275536]}},\n",
       " {'name': 'Centro Deportivo AQA Los Prunos',\n",
       "  'location': {'type': 'Point',\n",
       "   'coordinates': [40.453251163101044, -3.6186387300942657]}},\n",
       " {'name': 'Escuela Golf Palacio Negralejo',\n",
       "  'location': {'type': 'Point',\n",
       "   'coordinates': [40.40919934099235, -3.5146754502677204]}},\n",
       " {'name': 'Ciudad del Fútbol de Las Rozas (RFEF)',\n",
       "  'location': {'type': 'Point',\n",
       "   'coordinates': [40.52261760070695, -3.8986604709486983]}},\n",
       " {'name': 'El Almazén De Los Sentidos. (AZ)',\n",
       "  'location': {'type': 'Point',\n",
       "   'coordinates': [40.48949267184853, -3.8758790290282823]}},\n",
       " {'name': 'Mercado de Antón Martín',\n",
       "  'location': {'type': 'Point',\n",
       "   'coordinates': [40.41152590000001, -3.6987288]}},\n",
       " {'name': 'Fundación Canal de Isabel II',\n",
       "  'location': {'type': 'Point',\n",
       "   'coordinates': [40.46621816845561, -3.6883153885214774]}},\n",
       " {'name': 'El Rondon Hotel Cebreros',\n",
       "  'location': {'type': 'Point', 'coordinates': [40.463666, -4.459522]}},\n",
       " {'name': 'Green Canal Golf',\n",
       "  'location': {'type': 'Point',\n",
       "   'coordinates': [40.441745932184965, -3.7065553665161133]}},\n",
       " {'name': 'Impulso Urbano - Explanada Matadero',\n",
       "  'location': {'type': 'Point',\n",
       "   'coordinates': [40.3947052293797, -3.7012767791748047]}},\n",
       " {'name': 'Puerta del Sol',\n",
       "  'location': {'type': 'Point',\n",
       "   'coordinates': [40.41679436967101, -3.703562021255493]}},\n",
       " {'name': 'Hotel II Castillas Avila',\n",
       "  'location': {'type': 'Point',\n",
       "   'coordinates': [40.6686270545561, -4.65749412702533]}},\n",
       " {'name': 'Hotel Kafka',\n",
       "  'location': {'type': 'Point',\n",
       "   'coordinates': [40.42519683999982, -3.6976847258312544]}},\n",
       " {'name': 'Hotel Majadahonda',\n",
       "  'location': {'type': 'Point',\n",
       "   'coordinates': [40.458628668605655, -3.87288295346066]}},\n",
       " {'name': 'Escuela de Tenis Club De Campo',\n",
       "  'location': {'type': 'Point',\n",
       "   'coordinates': [40.44491401374984, -3.7454366683959965]}},\n",
       " {'name': 'Polideportivo Europa',\n",
       "  'location': {'type': 'Point',\n",
       "   'coordinates': [40.3326861709889, -3.7456340169688125]}},\n",
       " {'name': 'Club Ciudad De Los Periodistas',\n",
       "  'location': {'type': 'Point',\n",
       "   'coordinates': [40.48355583604704, -3.710028650700107]}},\n",
       " {'name': 'Aerodromo Camarenilla',\n",
       "  'location': {'type': 'Point',\n",
       "   'coordinates': [40.0228568972218, -4.072806878818084]}},\n",
       " {'name': 'BlankPaper Escuela de Fotografía',\n",
       "  'location': {'type': 'Point',\n",
       "   'coordinates': [40.421781087347746, -3.7038689124586983]}},\n",
       " {'name': 'Ashtanga Yoga',\n",
       "  'location': {'type': 'Point',\n",
       "   'coordinates': [40.41465307630052, -3.7022944094471413]}},\n",
       " {'name': 'Madrid 47',\n",
       "  'location': {'type': 'Point',\n",
       "   'coordinates': [40.42321238889572, -3.670100315790139]}},\n",
       " {'name': 'La Finca de Susana',\n",
       "  'location': {'type': 'Point',\n",
       "   'coordinates': [40.41600570707825, -3.7003505389530926]}},\n",
       " {'name': 'Kitchen Club',\n",
       "  'location': {'type': 'Point',\n",
       "   'coordinates': [40.43695963238333, -3.6781898736882876]}},\n",
       " {'name': 'Gorila',\n",
       "  'location': {'type': 'Point',\n",
       "   'coordinates': [40.42325787527853, -3.7028397480985196]}},\n",
       " {'name': 'El Patio',\n",
       "  'location': {'type': 'Point', 'coordinates': [40.427308, -3.700458]}},\n",
       " {'name': 'Blue Padel Rivas',\n",
       "  'location': {'type': 'Point',\n",
       "   'coordinates': [40.33915805195984, -3.5279083590754152]}},\n",
       " {'name': 'Ciudad Deportiva Valle De Las Cañas',\n",
       "  'location': {'type': 'Point',\n",
       "   'coordinates': [40.42255471599726, -3.8170635292367625]}},\n",
       " {'name': 'Evboca',\n",
       "  'location': {'type': 'Point',\n",
       "   'coordinates': [40.44837819156532, -3.6760392996529028]}},\n",
       " {'name': 'Bikram Yoga Moraleja',\n",
       "  'location': {'type': 'Point',\n",
       "   'coordinates': [40.51880187554265, -3.6509600256904906]}},\n",
       " {'name': 'Moet Madrid. Restaurante y Cafe Lounge',\n",
       "  'location': {'type': 'Point',\n",
       "   'coordinates': [40.57629147400781, -3.931559625947949]}},\n",
       " {'name': 'Kiosko Bellas Artes',\n",
       "  'location': {'type': 'Point',\n",
       "   'coordinates': [40.440264606052715, -3.690243836424229]}},\n",
       " {'name': 'Lizarran',\n",
       "  'location': {'type': 'Point',\n",
       "   'coordinates': [40.428274453125546, -3.6753916872650456]}},\n",
       " {'name': 'Contaptoe',\n",
       "  'location': {'type': 'Point',\n",
       "   'coordinates': [40.41723429505693, -3.705870869076442]}},\n",
       " {'name': 'Forja De Sesnandez',\n",
       "  'location': {'type': 'Point', 'coordinates': [40.415428, -3.709041]}},\n",
       " {'name': 'La biblioteca - Libreria Internacional',\n",
       "  'location': {'type': 'Point',\n",
       "   'coordinates': [40.43956824389735, -3.7112378908393096]}},\n",
       " {'name': 'Academia De Música Preludio',\n",
       "  'location': {'type': 'Point',\n",
       "   'coordinates': [40.43291954501299, -3.6749449366542484]}},\n",
       " {'name': 'El Hada Verde',\n",
       "  'location': {'type': 'Point',\n",
       "   'coordinates': [40.39926452772297, -3.6972320079803467]}},\n",
       " {'name': 'Madrid Pole Dance Center',\n",
       "  'location': {'type': 'Point',\n",
       "   'coordinates': [40.42484871898819, -3.665787367801169]}},\n",
       " {'name': 'Accion Piano',\n",
       "  'location': {'type': 'Point',\n",
       "   'coordinates': [40.454963904760014, -3.680213172131945]}},\n",
       " {'name': 'Cooking Club Escuela de Cocina',\n",
       "  'location': {'type': 'Point',\n",
       "   'coordinates': [40.46615553997706, -3.697877609848092]}},\n",
       " {'name': 'Campos Escuela Futbol De Carabanchel',\n",
       "  'location': {'type': 'Point',\n",
       "   'coordinates': [40.377232179348624, -3.728864354786752]}},\n",
       " {'name': 'Escuela de Tenis y Pádel TOP-TEN',\n",
       "  'location': {'type': 'Point',\n",
       "   'coordinates': [40.490842575239036, -3.7558436393737793]}},\n",
       " {'name': 'Campo De Tiro Las Rejas',\n",
       "  'location': {'type': 'Point',\n",
       "   'coordinates': [40.44523823690171, -3.866307519885179]}},\n",
       " {'name': 'Las Rejas Padel',\n",
       "  'location': {'type': 'Point',\n",
       "   'coordinates': [40.447059858757314, -3.86897279090205]}},\n",
       " {'name': 'Campos De Futbol 7 Gimnasio Fisico',\n",
       "  'location': {'type': 'Point',\n",
       "   'coordinates': [40.4553538254435, -3.868654627087141]}},\n",
       " {'name': 'Escuela de Golf de Jim McLean',\n",
       "  'location': {'type': 'Point',\n",
       "   'coordinates': [40.39399862371797, -3.871870333919253]}},\n",
       " {'name': 'Ciudad Del Fútbol',\n",
       "  'location': {'type': 'Point',\n",
       "   'coordinates': [40.29195158265445, -3.427045068126217]}},\n",
       " {'name': 'Real Club Náutico de Madrid',\n",
       "  'location': {'type': 'Point',\n",
       "   'coordinates': [40.37123306734527, -4.320393669654395]}},\n",
       " {'name': 'Vans',\n",
       "  'location': {'type': 'Point', 'coordinates': [40.419314, -3.7020521]}},\n",
       " {'name': 'El Jardín Secreto de SB',\n",
       "  'location': {'type': 'Point',\n",
       "   'coordinates': [40.419106710663684, -3.7023069232360086]}},\n",
       " {'name': 'Lateral',\n",
       "  'location': {'type': 'Point',\n",
       "   'coordinates': [40.42857398167269, -3.683809286285776]}},\n",
       " {'name': 'Parque de San Antonio',\n",
       "  'location': {'type': 'Point',\n",
       "   'coordinates': [40.65877800789054, -4.686981568843357]}},\n",
       " {'name': 'Granier Panes Artesanos',\n",
       "  'location': {'type': 'Point',\n",
       "   'coordinates': [40.421597819716055, -3.6759522768839985]}},\n",
       " {'name': '100 Montaditos',\n",
       "  'location': {'type': 'Point',\n",
       "   'coordinates': [40.426697567561625, -3.696514070307547]}},\n",
       " {'name': 'Home Asia',\n",
       "  'location': {'type': 'Point',\n",
       "   'coordinates': [40.29404037109566, -3.812574726462998]}},\n",
       " {'name': 'Restaurante Montaloya',\n",
       "  'location': {'type': 'Point',\n",
       "   'coordinates': [40.419216727741016, -3.7347158791356385]}}]"
      ]
     },
     "execution_count": 677,
     "metadata": {},
     "output_type": "execute_result"
    }
   ],
   "source": [
    "coleccion_escuelas"
   ]
  },
  {
   "cell_type": "code",
   "execution_count": 706,
   "id": "91a5247b",
   "metadata": {},
   "outputs": [
    {
     "data": {
      "text/html": [
       "<div>\n",
       "<style scoped>\n",
       "    .dataframe tbody tr th:only-of-type {\n",
       "        vertical-align: middle;\n",
       "    }\n",
       "\n",
       "    .dataframe tbody tr th {\n",
       "        vertical-align: top;\n",
       "    }\n",
       "\n",
       "    .dataframe thead th {\n",
       "        text-align: right;\n",
       "    }\n",
       "</style>\n",
       "<table border=\"1\" class=\"dataframe\">\n",
       "  <thead>\n",
       "    <tr style=\"text-align: right;\">\n",
       "      <th></th>\n",
       "      <th>name</th>\n",
       "      <th>location</th>\n",
       "    </tr>\n",
       "  </thead>\n",
       "  <tbody>\n",
       "    <tr>\n",
       "      <th>186</th>\n",
       "      <td>Parque de San Antonio</td>\n",
       "      <td>{'type': 'Point', 'coordinates': [40.658778007...</td>\n",
       "    </tr>\n",
       "    <tr>\n",
       "      <th>187</th>\n",
       "      <td>Granier Panes Artesanos</td>\n",
       "      <td>{'type': 'Point', 'coordinates': [40.421597819...</td>\n",
       "    </tr>\n",
       "    <tr>\n",
       "      <th>188</th>\n",
       "      <td>100 Montaditos</td>\n",
       "      <td>{'type': 'Point', 'coordinates': [40.426697567...</td>\n",
       "    </tr>\n",
       "    <tr>\n",
       "      <th>189</th>\n",
       "      <td>Home Asia</td>\n",
       "      <td>{'type': 'Point', 'coordinates': [40.294040371...</td>\n",
       "    </tr>\n",
       "    <tr>\n",
       "      <th>190</th>\n",
       "      <td>Restaurante Montaloya</td>\n",
       "      <td>{'type': 'Point', 'coordinates': [40.419216727...</td>\n",
       "    </tr>\n",
       "  </tbody>\n",
       "</table>\n",
       "</div>"
      ],
      "text/plain": [
       "                        name  \\\n",
       "186    Parque de San Antonio   \n",
       "187  Granier Panes Artesanos   \n",
       "188           100 Montaditos   \n",
       "189                Home Asia   \n",
       "190    Restaurante Montaloya   \n",
       "\n",
       "                                              location  \n",
       "186  {'type': 'Point', 'coordinates': [40.658778007...  \n",
       "187  {'type': 'Point', 'coordinates': [40.421597819...  \n",
       "188  {'type': 'Point', 'coordinates': [40.426697567...  \n",
       "189  {'type': 'Point', 'coordinates': [40.294040371...  \n",
       "190  {'type': 'Point', 'coordinates': [40.419216727...  "
      ]
     },
     "execution_count": 706,
     "metadata": {},
     "output_type": "execute_result"
    }
   ],
   "source": [
    "escuelas_mad_point = pd.DataFrame(coleccion_escuelas)\n",
    "escuelas_mad_point.tail()"
   ]
  },
  {
   "cell_type": "code",
   "execution_count": 708,
   "id": "5757ddd8",
   "metadata": {},
   "outputs": [],
   "source": [
    "escuelas_mad_point.to_json(\"../data/escuelas_madrid_col.json\", orient=\"records\")"
   ]
  },
  {
   "cell_type": "code",
   "execution_count": null,
   "id": "c9d40c29",
   "metadata": {},
   "outputs": [],
   "source": []
  },
  {
   "cell_type": "code",
   "execution_count": null,
   "id": "9c26aac2",
   "metadata": {},
   "outputs": [],
   "source": []
  },
  {
   "cell_type": "code",
   "execution_count": null,
   "id": "b9c1b676",
   "metadata": {},
   "outputs": [],
   "source": []
  },
  {
   "cell_type": "markdown",
   "id": "4a3ce2f4",
   "metadata": {},
   "source": [
    "## Colección Bares"
   ]
  },
  {
   "cell_type": "code",
   "execution_count": 689,
   "id": "87baaee5",
   "metadata": {},
   "outputs": [],
   "source": [
    "url = 'https://api.foursquare.com/v2/venues/explore'\n",
    "\n",
    "params = dict(\n",
    "client_id= tok1,\n",
    "client_secret= tok2,\n",
    "v='20180323',\n",
    "ll='40.42741669687324,-3.7042628540907128',\n",
    "radius = 100000,\n",
    "query = 'discoteca',\n",
    "limit = 1000\n",
    ")     # bar   pub   discoteca"
   ]
  },
  {
   "cell_type": "code",
   "execution_count": 690,
   "id": "3f9e5a8b",
   "metadata": {},
   "outputs": [],
   "source": [
    "resp = requests.get(url= url, params = params).json()"
   ]
  },
  {
   "cell_type": "code",
   "execution_count": 691,
   "id": "b4500656",
   "metadata": {},
   "outputs": [],
   "source": [
    "data = resp.get(\"response\").get(\"groups\")[0].get(\"items\")"
   ]
  },
  {
   "cell_type": "code",
   "execution_count": 692,
   "id": "48e1aa20",
   "metadata": {},
   "outputs": [
    {
     "data": {
      "text/plain": [
       "80"
      ]
     },
     "execution_count": 692,
     "metadata": {},
     "output_type": "execute_result"
    }
   ],
   "source": [
    "len(data)"
   ]
  },
  {
   "cell_type": "code",
   "execution_count": 693,
   "id": "626e14aa",
   "metadata": {},
   "outputs": [],
   "source": [
    "def getFromDict(diccionario,mapa):\n",
    "    return reduce(operator.getitem,mapa,diccionario)\n",
    "\n",
    "mapa_nombre =  [\"venue\", \"name\"]\n",
    "mapa_latitud = [\"venue\", \"location\", \"lat\"]\n",
    "mapa_longitud = [\"venue\", \"location\", \"lng\"]\n",
    "\n",
    "#bares_madrid = []\n",
    "for dic in data:\n",
    "    paralista = {}\n",
    "    paralista[\"name\"] = getFromDict(dic, mapa_nombre)\n",
    "    paralista[\"latitud\"]= getFromDict(dic, mapa_latitud)\n",
    "    paralista[\"longitud\"] = getFromDict(dic,mapa_longitud)\n",
    "    bares_madrid.append(paralista)"
   ]
  },
  {
   "cell_type": "code",
   "execution_count": 694,
   "id": "39ac1cdc",
   "metadata": {},
   "outputs": [
    {
     "data": {
      "text/plain": [
       "280"
      ]
     },
     "execution_count": 694,
     "metadata": {},
     "output_type": "execute_result"
    }
   ],
   "source": [
    "len(bares_madrid)"
   ]
  },
  {
   "cell_type": "code",
   "execution_count": 695,
   "id": "909d5d70",
   "metadata": {},
   "outputs": [],
   "source": [
    "bares_mad = pd.DataFrame(bares_madrid)"
   ]
  },
  {
   "cell_type": "code",
   "execution_count": 696,
   "id": "a4ceb20d",
   "metadata": {},
   "outputs": [
    {
     "data": {
      "text/html": [
       "<div>\n",
       "<style scoped>\n",
       "    .dataframe tbody tr th:only-of-type {\n",
       "        vertical-align: middle;\n",
       "    }\n",
       "\n",
       "    .dataframe tbody tr th {\n",
       "        vertical-align: top;\n",
       "    }\n",
       "\n",
       "    .dataframe thead th {\n",
       "        text-align: right;\n",
       "    }\n",
       "</style>\n",
       "<table border=\"1\" class=\"dataframe\">\n",
       "  <thead>\n",
       "    <tr style=\"text-align: right;\">\n",
       "      <th></th>\n",
       "      <th>name</th>\n",
       "      <th>latitud</th>\n",
       "      <th>longitud</th>\n",
       "    </tr>\n",
       "  </thead>\n",
       "  <tbody>\n",
       "    <tr>\n",
       "      <th>275</th>\n",
       "      <td>Gourmet Experience</td>\n",
       "      <td>40.419667</td>\n",
       "      <td>-3.705458</td>\n",
       "    </tr>\n",
       "    <tr>\n",
       "      <th>276</th>\n",
       "      <td>Platea Madrid</td>\n",
       "      <td>40.426083</td>\n",
       "      <td>-3.688664</td>\n",
       "    </tr>\n",
       "    <tr>\n",
       "      <th>277</th>\n",
       "      <td>Central Mexicana</td>\n",
       "      <td>40.469144</td>\n",
       "      <td>-3.853150</td>\n",
       "    </tr>\n",
       "    <tr>\n",
       "      <th>278</th>\n",
       "      <td>Forus Chamartín</td>\n",
       "      <td>40.461291</td>\n",
       "      <td>-3.676374</td>\n",
       "    </tr>\n",
       "    <tr>\n",
       "      <th>279</th>\n",
       "      <td>Churrería El Vaillo</td>\n",
       "      <td>40.360233</td>\n",
       "      <td>-3.907615</td>\n",
       "    </tr>\n",
       "  </tbody>\n",
       "</table>\n",
       "</div>"
      ],
      "text/plain": [
       "                    name    latitud  longitud\n",
       "275   Gourmet Experience  40.419667 -3.705458\n",
       "276        Platea Madrid  40.426083 -3.688664\n",
       "277     Central Mexicana  40.469144 -3.853150\n",
       "278      Forus Chamartín  40.461291 -3.676374\n",
       "279  Churrería El Vaillo  40.360233 -3.907615"
      ]
     },
     "execution_count": 696,
     "metadata": {},
     "output_type": "execute_result"
    }
   ],
   "source": [
    "bares_mad.tail()"
   ]
  },
  {
   "cell_type": "code",
   "execution_count": 697,
   "id": "25dd5aa7",
   "metadata": {},
   "outputs": [],
   "source": [
    "lista_bares = td.sacar_coord(bares_madrid)"
   ]
  },
  {
   "cell_type": "code",
   "execution_count": 698,
   "id": "5bbf3c08",
   "metadata": {},
   "outputs": [
    {
     "data": {
      "text/plain": [
       "280"
      ]
     },
     "execution_count": 698,
     "metadata": {},
     "output_type": "execute_result"
    }
   ],
   "source": [
    "len(lista_bares)"
   ]
  },
  {
   "cell_type": "code",
   "execution_count": 699,
   "id": "38ae3c81",
   "metadata": {},
   "outputs": [],
   "source": [
    "coleccion_bares = []\n",
    "for elem in bares_madrid:\n",
    "    entrada = {\n",
    "        \"name\": elem.get(\"name\"),\n",
    "        \"location\": {\"type\": \"Point\", \"coordinates\": [elem.get(\"latitud\"), elem.get(\"longitud\")]}\n",
    "        \n",
    "    }\n",
    "    coleccion_bares.append(entrada)"
   ]
  },
  {
   "cell_type": "code",
   "execution_count": 702,
   "id": "d5fa9fb5",
   "metadata": {},
   "outputs": [
    {
     "data": {
      "text/plain": [
       "280"
      ]
     },
     "execution_count": 702,
     "metadata": {},
     "output_type": "execute_result"
    }
   ],
   "source": [
    "len(coleccion_bares)"
   ]
  },
  {
   "cell_type": "code",
   "execution_count": 709,
   "id": "554c7883",
   "metadata": {},
   "outputs": [
    {
     "data": {
      "text/html": [
       "<div>\n",
       "<style scoped>\n",
       "    .dataframe tbody tr th:only-of-type {\n",
       "        vertical-align: middle;\n",
       "    }\n",
       "\n",
       "    .dataframe tbody tr th {\n",
       "        vertical-align: top;\n",
       "    }\n",
       "\n",
       "    .dataframe thead th {\n",
       "        text-align: right;\n",
       "    }\n",
       "</style>\n",
       "<table border=\"1\" class=\"dataframe\">\n",
       "  <thead>\n",
       "    <tr style=\"text-align: right;\">\n",
       "      <th></th>\n",
       "      <th>name</th>\n",
       "      <th>location</th>\n",
       "    </tr>\n",
       "  </thead>\n",
       "  <tbody>\n",
       "    <tr>\n",
       "      <th>275</th>\n",
       "      <td>Gourmet Experience</td>\n",
       "      <td>{'type': 'Point', 'coordinates': [40.419666609...</td>\n",
       "    </tr>\n",
       "    <tr>\n",
       "      <th>276</th>\n",
       "      <td>Platea Madrid</td>\n",
       "      <td>{'type': 'Point', 'coordinates': [40.426083288...</td>\n",
       "    </tr>\n",
       "    <tr>\n",
       "      <th>277</th>\n",
       "      <td>Central Mexicana</td>\n",
       "      <td>{'type': 'Point', 'coordinates': [40.469144189...</td>\n",
       "    </tr>\n",
       "    <tr>\n",
       "      <th>278</th>\n",
       "      <td>Forus Chamartín</td>\n",
       "      <td>{'type': 'Point', 'coordinates': [40.461290944...</td>\n",
       "    </tr>\n",
       "    <tr>\n",
       "      <th>279</th>\n",
       "      <td>Churrería El Vaillo</td>\n",
       "      <td>{'type': 'Point', 'coordinates': [40.360233367...</td>\n",
       "    </tr>\n",
       "  </tbody>\n",
       "</table>\n",
       "</div>"
      ],
      "text/plain": [
       "                    name                                           location\n",
       "275   Gourmet Experience  {'type': 'Point', 'coordinates': [40.419666609...\n",
       "276        Platea Madrid  {'type': 'Point', 'coordinates': [40.426083288...\n",
       "277     Central Mexicana  {'type': 'Point', 'coordinates': [40.469144189...\n",
       "278      Forus Chamartín  {'type': 'Point', 'coordinates': [40.461290944...\n",
       "279  Churrería El Vaillo  {'type': 'Point', 'coordinates': [40.360233367..."
      ]
     },
     "execution_count": 709,
     "metadata": {},
     "output_type": "execute_result"
    }
   ],
   "source": [
    "bares_mad_point = pd.DataFrame(coleccion_bares)\n",
    "bares_mad_point.tail()"
   ]
  },
  {
   "cell_type": "code",
   "execution_count": 710,
   "id": "65cae773",
   "metadata": {},
   "outputs": [],
   "source": [
    "bares_mad_point.to_json(\"../data/bares_madrid_col.json\", orient=\"records\")"
   ]
  },
  {
   "cell_type": "code",
   "execution_count": null,
   "id": "67fc0404",
   "metadata": {},
   "outputs": [],
   "source": []
  },
  {
   "cell_type": "code",
   "execution_count": null,
   "id": "c2ce6946",
   "metadata": {},
   "outputs": [],
   "source": []
  },
  {
   "cell_type": "markdown",
   "id": "988646d5",
   "metadata": {},
   "source": [
    "## Colección Aeropuerto Tren"
   ]
  },
  {
   "cell_type": "code",
   "execution_count": 783,
   "id": "bbd6d6ba",
   "metadata": {},
   "outputs": [],
   "source": [
    "url = 'https://api.foursquare.com/v2/venues/explore'\n",
    "\n",
    "params = dict(\n",
    "client_id= tok1,\n",
    "client_secret= tok2,\n",
    "v='20180323',\n",
    "ll='40.42741669687324,-3.7042628540907128',\n",
    "radius = 100000,\n",
    "query = 'bus station',\n",
    "limit = 1000\n",
    ")     # train      aeropuerto       bus station"
   ]
  },
  {
   "cell_type": "code",
   "execution_count": 784,
   "id": "589cb150",
   "metadata": {},
   "outputs": [],
   "source": [
    "resp = requests.get(url= url, params = params).json()"
   ]
  },
  {
   "cell_type": "code",
   "execution_count": 785,
   "id": "93979a40",
   "metadata": {},
   "outputs": [],
   "source": [
    "data = resp.get(\"response\").get(\"groups\")[0].get(\"items\")"
   ]
  },
  {
   "cell_type": "code",
   "execution_count": 786,
   "id": "d9b17124",
   "metadata": {},
   "outputs": [
    {
     "data": {
      "text/plain": [
       "42"
      ]
     },
     "execution_count": 786,
     "metadata": {},
     "output_type": "execute_result"
    }
   ],
   "source": [
    "len(data)"
   ]
  },
  {
   "cell_type": "code",
   "execution_count": 787,
   "id": "26ad2ec9",
   "metadata": {},
   "outputs": [],
   "source": [
    "def getFromDict(diccionario,mapa):\n",
    "    return reduce(operator.getitem,mapa,diccionario)\n",
    "\n",
    "mapa_nombre =  [\"venue\", \"name\"]\n",
    "mapa_latitud = [\"venue\", \"location\", \"lat\"]\n",
    "mapa_longitud = [\"venue\", \"location\", \"lng\"]\n",
    "\n",
    "#aeropuertos_madrid = []\n",
    "for dic in data:\n",
    "    paralista = {}\n",
    "    paralista[\"name\"] = getFromDict(dic, mapa_nombre)\n",
    "    paralista[\"latitud\"]= getFromDict(dic, mapa_latitud)\n",
    "    paralista[\"longitud\"] = getFromDict(dic,mapa_longitud)\n",
    "    aeropuertos_madrid.append(paralista)"
   ]
  },
  {
   "cell_type": "code",
   "execution_count": 788,
   "id": "3e17d30b",
   "metadata": {},
   "outputs": [
    {
     "data": {
      "text/plain": [
       "243"
      ]
     },
     "execution_count": 788,
     "metadata": {},
     "output_type": "execute_result"
    }
   ],
   "source": [
    "len(aeropuertos_madrid)"
   ]
  },
  {
   "cell_type": "code",
   "execution_count": 789,
   "id": "f6542597",
   "metadata": {},
   "outputs": [],
   "source": [
    "aeropuertos_mad = pd.DataFrame(aeropuertos_madrid)"
   ]
  },
  {
   "cell_type": "code",
   "execution_count": 790,
   "id": "d7ebc1ec",
   "metadata": {},
   "outputs": [
    {
     "data": {
      "text/html": [
       "<div>\n",
       "<style scoped>\n",
       "    .dataframe tbody tr th:only-of-type {\n",
       "        vertical-align: middle;\n",
       "    }\n",
       "\n",
       "    .dataframe tbody tr th {\n",
       "        vertical-align: top;\n",
       "    }\n",
       "\n",
       "    .dataframe thead th {\n",
       "        text-align: right;\n",
       "    }\n",
       "</style>\n",
       "<table border=\"1\" class=\"dataframe\">\n",
       "  <thead>\n",
       "    <tr style=\"text-align: right;\">\n",
       "      <th></th>\n",
       "      <th>name</th>\n",
       "      <th>latitud</th>\n",
       "      <th>longitud</th>\n",
       "    </tr>\n",
       "  </thead>\n",
       "  <tbody>\n",
       "    <tr>\n",
       "      <th>0</th>\n",
       "      <td>Estación de Madrid-Puerta de Atocha</td>\n",
       "      <td>40.406410</td>\n",
       "      <td>-3.690130</td>\n",
       "    </tr>\n",
       "    <tr>\n",
       "      <th>1</th>\n",
       "      <td>Cercanías Pirámides</td>\n",
       "      <td>40.402486</td>\n",
       "      <td>-3.711202</td>\n",
       "    </tr>\n",
       "    <tr>\n",
       "      <th>2</th>\n",
       "      <td>Estación de Cercanías de Madrid-Atocha</td>\n",
       "      <td>40.405497</td>\n",
       "      <td>-3.688216</td>\n",
       "    </tr>\n",
       "    <tr>\n",
       "      <th>3</th>\n",
       "      <td>Estación del Norte</td>\n",
       "      <td>40.421230</td>\n",
       "      <td>-3.719121</td>\n",
       "    </tr>\n",
       "    <tr>\n",
       "      <th>4</th>\n",
       "      <td>Cercanías Sol</td>\n",
       "      <td>40.416943</td>\n",
       "      <td>-3.703006</td>\n",
       "    </tr>\n",
       "  </tbody>\n",
       "</table>\n",
       "</div>"
      ],
      "text/plain": [
       "                                     name    latitud  longitud\n",
       "0     Estación de Madrid-Puerta de Atocha  40.406410 -3.690130\n",
       "1                     Cercanías Pirámides  40.402486 -3.711202\n",
       "2  Estación de Cercanías de Madrid-Atocha  40.405497 -3.688216\n",
       "3                      Estación del Norte  40.421230 -3.719121\n",
       "4                           Cercanías Sol  40.416943 -3.703006"
      ]
     },
     "execution_count": 790,
     "metadata": {},
     "output_type": "execute_result"
    }
   ],
   "source": [
    "aeropuertos_mad.head()"
   ]
  },
  {
   "cell_type": "code",
   "execution_count": 791,
   "id": "b0810e76",
   "metadata": {},
   "outputs": [],
   "source": [
    "lista_aeropuertos = td.sacar_coord(aeropuertos_madrid)"
   ]
  },
  {
   "cell_type": "code",
   "execution_count": 792,
   "id": "5a064b4b",
   "metadata": {},
   "outputs": [
    {
     "data": {
      "text/plain": [
       "243"
      ]
     },
     "execution_count": 792,
     "metadata": {},
     "output_type": "execute_result"
    }
   ],
   "source": [
    "len(lista_aeropuertos)"
   ]
  },
  {
   "cell_type": "code",
   "execution_count": 793,
   "id": "a0052726",
   "metadata": {},
   "outputs": [],
   "source": [
    "coleccion_aeropuertos = []\n",
    "for elem in aeropuertos_madrid:\n",
    "    entrada = {\n",
    "        \"name\": elem.get(\"name\"),\n",
    "        \"location\": {\"type\": \"Point\", \"coordinates\": [elem.get(\"latitud\"), elem.get(\"longitud\")]}\n",
    "        \n",
    "    }\n",
    "    coleccion_aeropuertos.append(entrada)"
   ]
  },
  {
   "cell_type": "code",
   "execution_count": 794,
   "id": "85a9fb40",
   "metadata": {},
   "outputs": [
    {
     "data": {
      "text/plain": [
       "243"
      ]
     },
     "execution_count": 794,
     "metadata": {},
     "output_type": "execute_result"
    }
   ],
   "source": [
    "len(coleccion_aeropuertos)"
   ]
  },
  {
   "cell_type": "code",
   "execution_count": 795,
   "id": "c6110046",
   "metadata": {},
   "outputs": [
    {
     "data": {
      "text/html": [
       "<div>\n",
       "<style scoped>\n",
       "    .dataframe tbody tr th:only-of-type {\n",
       "        vertical-align: middle;\n",
       "    }\n",
       "\n",
       "    .dataframe tbody tr th {\n",
       "        vertical-align: top;\n",
       "    }\n",
       "\n",
       "    .dataframe thead th {\n",
       "        text-align: right;\n",
       "    }\n",
       "</style>\n",
       "<table border=\"1\" class=\"dataframe\">\n",
       "  <thead>\n",
       "    <tr style=\"text-align: right;\">\n",
       "      <th></th>\n",
       "      <th>name</th>\n",
       "      <th>location</th>\n",
       "    </tr>\n",
       "  </thead>\n",
       "  <tbody>\n",
       "    <tr>\n",
       "      <th>238</th>\n",
       "      <td>Estación de Autobuses de Toledo</td>\n",
       "      <td>{'type': 'Point', 'coordinates': [39.865474909...</td>\n",
       "    </tr>\n",
       "    <tr>\n",
       "      <th>239</th>\n",
       "      <td>Estación de Autobuses</td>\n",
       "      <td>{'type': 'Point', 'coordinates': [40.944996942...</td>\n",
       "    </tr>\n",
       "    <tr>\n",
       "      <th>240</th>\n",
       "      <td>Metro Alameda de Osuna</td>\n",
       "      <td>{'type': 'Point', 'coordinates': [40.457348968...</td>\n",
       "    </tr>\n",
       "    <tr>\n",
       "      <th>241</th>\n",
       "      <td>Estación de Tren de Toledo</td>\n",
       "      <td>{'type': 'Point', 'coordinates': [39.862368072...</td>\n",
       "    </tr>\n",
       "    <tr>\n",
       "      <th>242</th>\n",
       "      <td>Estación de Segovia-Guiomar</td>\n",
       "      <td>{'type': 'Point', 'coordinates': [40.910210129...</td>\n",
       "    </tr>\n",
       "  </tbody>\n",
       "</table>\n",
       "</div>"
      ],
      "text/plain": [
       "                                name  \\\n",
       "238  Estación de Autobuses de Toledo   \n",
       "239            Estación de Autobuses   \n",
       "240           Metro Alameda de Osuna   \n",
       "241       Estación de Tren de Toledo   \n",
       "242      Estación de Segovia-Guiomar   \n",
       "\n",
       "                                              location  \n",
       "238  {'type': 'Point', 'coordinates': [39.865474909...  \n",
       "239  {'type': 'Point', 'coordinates': [40.944996942...  \n",
       "240  {'type': 'Point', 'coordinates': [40.457348968...  \n",
       "241  {'type': 'Point', 'coordinates': [39.862368072...  \n",
       "242  {'type': 'Point', 'coordinates': [40.910210129...  "
      ]
     },
     "execution_count": 795,
     "metadata": {},
     "output_type": "execute_result"
    }
   ],
   "source": [
    "aeropuertos_mad_point = pd.DataFrame(coleccion_aeropuertos)\n",
    "aeropuertos_mad_point.tail()"
   ]
  },
  {
   "cell_type": "code",
   "execution_count": 796,
   "id": "f92ee429",
   "metadata": {},
   "outputs": [],
   "source": [
    "aeropuertos_mad_point.to_json(\"../data/estaciones_madrid_col.json\", orient=\"records\")"
   ]
  },
  {
   "cell_type": "code",
   "execution_count": null,
   "id": "e68fa998",
   "metadata": {},
   "outputs": [],
   "source": []
  },
  {
   "cell_type": "code",
   "execution_count": null,
   "id": "31f4816f",
   "metadata": {},
   "outputs": [],
   "source": []
  },
  {
   "cell_type": "markdown",
   "id": "9fcc8d27",
   "metadata": {},
   "source": [
    "## Colección Peluquería canina"
   ]
  },
  {
   "cell_type": "code",
   "execution_count": 859,
   "id": "6e054840",
   "metadata": {},
   "outputs": [],
   "source": [
    "url = 'https://api.foursquare.com/v2/venues/explore'\n",
    "\n",
    "params = dict(\n",
    "client_id= tok1,\n",
    "client_secret= tok2,\n",
    "v='20180323',\n",
    "ll='40.42741669687324,-3.7042628540907128',\n",
    "radius = 100000,\n",
    "query = 'veterinarian',\n",
    "limit = 1000\n",
    ")     # peluqueria canina   veterinario   clinica veterinaria   veterinaria   clinica veterinario    vet   Veterinarian"
   ]
  },
  {
   "cell_type": "code",
   "execution_count": 860,
   "id": "cdc78daa",
   "metadata": {},
   "outputs": [],
   "source": [
    "resp = requests.get(url= url, params = params).json()"
   ]
  },
  {
   "cell_type": "code",
   "execution_count": 861,
   "id": "25e3f5e8",
   "metadata": {},
   "outputs": [],
   "source": [
    "data = resp.get(\"response\").get(\"groups\")[0].get(\"items\")"
   ]
  },
  {
   "cell_type": "code",
   "execution_count": 862,
   "id": "59dc2978",
   "metadata": {},
   "outputs": [
    {
     "data": {
      "text/plain": [
       "43"
      ]
     },
     "execution_count": 862,
     "metadata": {},
     "output_type": "execute_result"
    }
   ],
   "source": [
    "len(data)"
   ]
  },
  {
   "cell_type": "code",
   "execution_count": 857,
   "id": "619c6b5d",
   "metadata": {},
   "outputs": [],
   "source": [
    "def getFromDict(diccionario,mapa):\n",
    "    return reduce(operator.getitem,mapa,diccionario)\n",
    "\n",
    "mapa_nombre =  [\"venue\", \"name\"]\n",
    "mapa_latitud = [\"venue\", \"location\", \"lat\"]\n",
    "mapa_longitud = [\"venue\", \"location\", \"lng\"]\n",
    "\n",
    "#veterinarios_madrid = []\n",
    "for dic in data:\n",
    "    paralista = {}\n",
    "    paralista[\"name\"] = getFromDict(dic, mapa_nombre)\n",
    "    paralista[\"latitud\"]= getFromDict(dic, mapa_latitud)\n",
    "    paralista[\"longitud\"] = getFromDict(dic,mapa_longitud)\n",
    "    veterinarios_madrid.append(paralista)"
   ]
  },
  {
   "cell_type": "code",
   "execution_count": 863,
   "id": "ea1503b9",
   "metadata": {},
   "outputs": [
    {
     "data": {
      "text/plain": [
       "127"
      ]
     },
     "execution_count": 863,
     "metadata": {},
     "output_type": "execute_result"
    }
   ],
   "source": [
    "len(veterinarios_madrid)"
   ]
  },
  {
   "cell_type": "code",
   "execution_count": 864,
   "id": "a70f2160",
   "metadata": {},
   "outputs": [],
   "source": [
    "veterinarios_mad = pd.DataFrame(veterinarios_madrid)"
   ]
  },
  {
   "cell_type": "code",
   "execution_count": 865,
   "id": "569bfd4c",
   "metadata": {},
   "outputs": [
    {
     "data": {
      "text/html": [
       "<div>\n",
       "<style scoped>\n",
       "    .dataframe tbody tr th:only-of-type {\n",
       "        vertical-align: middle;\n",
       "    }\n",
       "\n",
       "    .dataframe tbody tr th {\n",
       "        vertical-align: top;\n",
       "    }\n",
       "\n",
       "    .dataframe thead th {\n",
       "        text-align: right;\n",
       "    }\n",
       "</style>\n",
       "<table border=\"1\" class=\"dataframe\">\n",
       "  <thead>\n",
       "    <tr style=\"text-align: right;\">\n",
       "      <th></th>\n",
       "      <th>name</th>\n",
       "      <th>latitud</th>\n",
       "      <th>longitud</th>\n",
       "    </tr>\n",
       "  </thead>\n",
       "  <tbody>\n",
       "    <tr>\n",
       "      <th>0</th>\n",
       "      <td>Mini zoo</td>\n",
       "      <td>40.473124</td>\n",
       "      <td>-3.874894</td>\n",
       "    </tr>\n",
       "    <tr>\n",
       "      <th>1</th>\n",
       "      <td>Tropi Fauna</td>\n",
       "      <td>40.089626</td>\n",
       "      <td>-3.875134</td>\n",
       "    </tr>\n",
       "    <tr>\n",
       "      <th>2</th>\n",
       "      <td>Peluquería Canina \"Lotta &amp; Less\"</td>\n",
       "      <td>40.450458</td>\n",
       "      <td>-3.688359</td>\n",
       "    </tr>\n",
       "    <tr>\n",
       "      <th>3</th>\n",
       "      <td>Can Cut Peluquería Canina</td>\n",
       "      <td>40.396575</td>\n",
       "      <td>-3.709142</td>\n",
       "    </tr>\n",
       "    <tr>\n",
       "      <th>4</th>\n",
       "      <td>Peluquería Canina Peluditos</td>\n",
       "      <td>40.392329</td>\n",
       "      <td>-3.693419</td>\n",
       "    </tr>\n",
       "  </tbody>\n",
       "</table>\n",
       "</div>"
      ],
      "text/plain": [
       "                               name    latitud  longitud\n",
       "0                          Mini zoo  40.473124 -3.874894\n",
       "1                       Tropi Fauna  40.089626 -3.875134\n",
       "2  Peluquería Canina \"Lotta & Less\"  40.450458 -3.688359\n",
       "3         Can Cut Peluquería Canina  40.396575 -3.709142\n",
       "4       Peluquería Canina Peluditos  40.392329 -3.693419"
      ]
     },
     "execution_count": 865,
     "metadata": {},
     "output_type": "execute_result"
    }
   ],
   "source": [
    "veterinarios_mad.head()"
   ]
  },
  {
   "cell_type": "code",
   "execution_count": 866,
   "id": "a6aff41a",
   "metadata": {},
   "outputs": [],
   "source": [
    "lista_veterinarios = td.sacar_coord(veterinarios_madrid)"
   ]
  },
  {
   "cell_type": "code",
   "execution_count": 867,
   "id": "0b954169",
   "metadata": {},
   "outputs": [
    {
     "data": {
      "text/plain": [
       "127"
      ]
     },
     "execution_count": 867,
     "metadata": {},
     "output_type": "execute_result"
    }
   ],
   "source": [
    "len(lista_veterinarios)"
   ]
  },
  {
   "cell_type": "code",
   "execution_count": 868,
   "id": "fbeb22e4",
   "metadata": {},
   "outputs": [],
   "source": [
    "coleccion_veterinarios = []\n",
    "for elem in veterinarios_madrid:\n",
    "    entrada = {\n",
    "        \"name\": elem.get(\"name\"),\n",
    "        \"location\": {\"type\": \"Point\", \"coordinates\": [elem.get(\"latitud\"), elem.get(\"longitud\")]}\n",
    "        \n",
    "    }\n",
    "    coleccion_veterinarios.append(entrada)"
   ]
  },
  {
   "cell_type": "code",
   "execution_count": 869,
   "id": "9b156c2f",
   "metadata": {},
   "outputs": [
    {
     "data": {
      "text/plain": [
       "127"
      ]
     },
     "execution_count": 869,
     "metadata": {},
     "output_type": "execute_result"
    }
   ],
   "source": [
    "len(coleccion_veterinarios)"
   ]
  },
  {
   "cell_type": "code",
   "execution_count": 870,
   "id": "06fac558",
   "metadata": {},
   "outputs": [
    {
     "data": {
      "text/html": [
       "<div>\n",
       "<style scoped>\n",
       "    .dataframe tbody tr th:only-of-type {\n",
       "        vertical-align: middle;\n",
       "    }\n",
       "\n",
       "    .dataframe tbody tr th {\n",
       "        vertical-align: top;\n",
       "    }\n",
       "\n",
       "    .dataframe thead th {\n",
       "        text-align: right;\n",
       "    }\n",
       "</style>\n",
       "<table border=\"1\" class=\"dataframe\">\n",
       "  <thead>\n",
       "    <tr style=\"text-align: right;\">\n",
       "      <th></th>\n",
       "      <th>name</th>\n",
       "      <th>location</th>\n",
       "    </tr>\n",
       "  </thead>\n",
       "  <tbody>\n",
       "    <tr>\n",
       "      <th>122</th>\n",
       "      <td>Centro Veterinario Grandes Valles</td>\n",
       "      <td>{'type': 'Point', 'coordinates': [40.6456814, ...</td>\n",
       "    </tr>\n",
       "    <tr>\n",
       "      <th>123</th>\n",
       "      <td>Clínica Veterinaria Butragueño</td>\n",
       "      <td>{'type': 'Point', 'coordinates': [40.517907567...</td>\n",
       "    </tr>\n",
       "    <tr>\n",
       "      <th>124</th>\n",
       "      <td>Clínica Veterinaria Villaluenga</td>\n",
       "      <td>{'type': 'Point', 'coordinates': [40.0282, -3....</td>\n",
       "    </tr>\n",
       "    <tr>\n",
       "      <th>125</th>\n",
       "      <td>Centro Veterinario-Fundación Canadd Internacional</td>\n",
       "      <td>{'type': 'Point', 'coordinates': [40.4878905, ...</td>\n",
       "    </tr>\n",
       "    <tr>\n",
       "      <th>126</th>\n",
       "      <td>Centro Veterinario Isvet</td>\n",
       "      <td>{'type': 'Point', 'coordinates': [40.6683407, ...</td>\n",
       "    </tr>\n",
       "  </tbody>\n",
       "</table>\n",
       "</div>"
      ],
      "text/plain": [
       "                                                  name  \\\n",
       "122                  Centro Veterinario Grandes Valles   \n",
       "123                     Clínica Veterinaria Butragueño   \n",
       "124                    Clínica Veterinaria Villaluenga   \n",
       "125  Centro Veterinario-Fundación Canadd Internacional   \n",
       "126                           Centro Veterinario Isvet   \n",
       "\n",
       "                                              location  \n",
       "122  {'type': 'Point', 'coordinates': [40.6456814, ...  \n",
       "123  {'type': 'Point', 'coordinates': [40.517907567...  \n",
       "124  {'type': 'Point', 'coordinates': [40.0282, -3....  \n",
       "125  {'type': 'Point', 'coordinates': [40.4878905, ...  \n",
       "126  {'type': 'Point', 'coordinates': [40.6683407, ...  "
      ]
     },
     "execution_count": 870,
     "metadata": {},
     "output_type": "execute_result"
    }
   ],
   "source": [
    "veterinarios_mad_point = pd.DataFrame(coleccion_veterinarios)\n",
    "veterinarios_mad_point.tail()"
   ]
  },
  {
   "cell_type": "code",
   "execution_count": 872,
   "id": "c955b873",
   "metadata": {},
   "outputs": [],
   "source": [
    "veterinarios_mad_point.to_json(\"../data/veterinarios_madrid_col.json\", orient=\"records\")"
   ]
  },
  {
   "cell_type": "code",
   "execution_count": null,
   "id": "361b6ab9",
   "metadata": {},
   "outputs": [],
   "source": []
  },
  {
   "cell_type": "code",
   "execution_count": null,
   "id": "deee7615",
   "metadata": {},
   "outputs": [],
   "source": []
  },
  {
   "cell_type": "code",
   "execution_count": null,
   "id": "5a4ce140",
   "metadata": {},
   "outputs": [],
   "source": []
  },
  {
   "cell_type": "code",
   "execution_count": null,
   "id": "a6091c79",
   "metadata": {},
   "outputs": [],
   "source": []
  },
  {
   "cell_type": "code",
   "execution_count": null,
   "id": "b9058a76",
   "metadata": {},
   "outputs": [],
   "source": []
  },
  {
   "cell_type": "markdown",
   "id": "565c0178",
   "metadata": {},
   "source": [
    "# COLECCIONES BARCELONA"
   ]
  },
  {
   "cell_type": "markdown",
   "id": "44d12b09",
   "metadata": {},
   "source": [
    "## Colección Starbucks"
   ]
  },
  {
   "cell_type": "code",
   "execution_count": 873,
   "id": "583d4556",
   "metadata": {},
   "outputs": [],
   "source": [
    "url = 'https://api.foursquare.com/v2/venues/explore'\n",
    "\n",
    "params = dict(\n",
    "client_id= tok1,\n",
    "client_secret= tok2,\n",
    "v='20180323',\n",
    "ll='41.38673290105267, 2.1734030691967905',\n",
    "radius = 100000,\n",
    "query='Starbucks',\n",
    "limit=100\n",
    ")"
   ]
  },
  {
   "cell_type": "code",
   "execution_count": 874,
   "id": "4bb46190",
   "metadata": {},
   "outputs": [],
   "source": [
    "resp = requests.get(url= url, params = params).json()"
   ]
  },
  {
   "cell_type": "code",
   "execution_count": 875,
   "id": "02fe1add",
   "metadata": {},
   "outputs": [],
   "source": [
    "data = resp.get(\"response\").get(\"groups\")[0].get(\"items\")"
   ]
  },
  {
   "cell_type": "code",
   "execution_count": 878,
   "id": "8c04512f",
   "metadata": {},
   "outputs": [
    {
     "data": {
      "text/plain": [
       "28"
      ]
     },
     "execution_count": 878,
     "metadata": {},
     "output_type": "execute_result"
    }
   ],
   "source": [
    "len(data)"
   ]
  },
  {
   "cell_type": "code",
   "execution_count": 879,
   "id": "97a373b2",
   "metadata": {},
   "outputs": [],
   "source": [
    "def getFromDict(diccionario,mapa):\n",
    "    return reduce(operator.getitem,mapa,diccionario)\n",
    "\n",
    "mapa_nombre =  [\"venue\", \"name\"]\n",
    "mapa_latitud = [\"venue\", \"location\", \"lat\"]\n",
    "mapa_longitud = [\"venue\", \"location\", \"lng\"]\n",
    "\n",
    "starbucks_barcelona = []\n",
    "for dic in data:\n",
    "    paralista = {}\n",
    "    paralista[\"name\"] = getFromDict(dic, mapa_nombre)\n",
    "    paralista[\"latitud\"]= getFromDict(dic, mapa_latitud)\n",
    "    paralista[\"longitud\"] = getFromDict(dic,mapa_longitud)\n",
    "    starbucks_barcelona.append(paralista)"
   ]
  },
  {
   "cell_type": "code",
   "execution_count": 880,
   "id": "ab852a0e",
   "metadata": {},
   "outputs": [
    {
     "data": {
      "text/plain": [
       "28"
      ]
     },
     "execution_count": 880,
     "metadata": {},
     "output_type": "execute_result"
    }
   ],
   "source": [
    "len(starbucks_barcelona)"
   ]
  },
  {
   "cell_type": "code",
   "execution_count": 881,
   "id": "a9addaa2",
   "metadata": {},
   "outputs": [],
   "source": [
    "starbucks_barna = pd.DataFrame(starbucks_barcelona)"
   ]
  },
  {
   "cell_type": "code",
   "execution_count": 882,
   "id": "f60db26e",
   "metadata": {},
   "outputs": [
    {
     "data": {
      "text/html": [
       "<div>\n",
       "<style scoped>\n",
       "    .dataframe tbody tr th:only-of-type {\n",
       "        vertical-align: middle;\n",
       "    }\n",
       "\n",
       "    .dataframe tbody tr th {\n",
       "        vertical-align: top;\n",
       "    }\n",
       "\n",
       "    .dataframe thead th {\n",
       "        text-align: right;\n",
       "    }\n",
       "</style>\n",
       "<table border=\"1\" class=\"dataframe\">\n",
       "  <thead>\n",
       "    <tr style=\"text-align: right;\">\n",
       "      <th></th>\n",
       "      <th>name</th>\n",
       "      <th>latitud</th>\n",
       "      <th>longitud</th>\n",
       "    </tr>\n",
       "  </thead>\n",
       "  <tbody>\n",
       "    <tr>\n",
       "      <th>0</th>\n",
       "      <td>Starbucks Rambla Cataluña</td>\n",
       "      <td>41.387954</td>\n",
       "      <td>2.167901</td>\n",
       "    </tr>\n",
       "    <tr>\n",
       "      <th>1</th>\n",
       "      <td>Starbucks B Hotel (Starbucks)</td>\n",
       "      <td>41.376244</td>\n",
       "      <td>2.150732</td>\n",
       "    </tr>\n",
       "    <tr>\n",
       "      <th>2</th>\n",
       "      <td>Starbucks Plaza Universitat</td>\n",
       "      <td>41.385419</td>\n",
       "      <td>2.163150</td>\n",
       "    </tr>\n",
       "    <tr>\n",
       "      <th>3</th>\n",
       "      <td>Starbucks</td>\n",
       "      <td>41.387848</td>\n",
       "      <td>2.169634</td>\n",
       "    </tr>\n",
       "    <tr>\n",
       "      <th>4</th>\n",
       "      <td>Starbucks Rambla Canaletas</td>\n",
       "      <td>41.383485</td>\n",
       "      <td>2.171382</td>\n",
       "    </tr>\n",
       "  </tbody>\n",
       "</table>\n",
       "</div>"
      ],
      "text/plain": [
       "                            name    latitud  longitud\n",
       "0      Starbucks Rambla Cataluña  41.387954  2.167901\n",
       "1  Starbucks B Hotel (Starbucks)  41.376244  2.150732\n",
       "2    Starbucks Plaza Universitat  41.385419  2.163150\n",
       "3                      Starbucks  41.387848  2.169634\n",
       "4     Starbucks Rambla Canaletas  41.383485  2.171382"
      ]
     },
     "execution_count": 882,
     "metadata": {},
     "output_type": "execute_result"
    }
   ],
   "source": [
    "starbucks_barna.head()"
   ]
  },
  {
   "cell_type": "code",
   "execution_count": 883,
   "id": "fe42d957",
   "metadata": {},
   "outputs": [],
   "source": [
    "lista_starbucks_barna = td.sacar_coord(starbucks_barcelona)"
   ]
  },
  {
   "cell_type": "code",
   "execution_count": 884,
   "id": "370a04a1",
   "metadata": {},
   "outputs": [
    {
     "data": {
      "text/plain": [
       "28"
      ]
     },
     "execution_count": 884,
     "metadata": {},
     "output_type": "execute_result"
    }
   ],
   "source": [
    "len(lista_starbucks_barna)"
   ]
  },
  {
   "cell_type": "code",
   "execution_count": 885,
   "id": "8ef6f5db",
   "metadata": {},
   "outputs": [],
   "source": [
    "coleccion_starbucks_barna = []\n",
    "for elem in starbucks_barcelona:\n",
    "    entrada = {\n",
    "        \"name\": elem.get(\"name\"),\n",
    "        \"location\": {\"type\": \"Point\", \"coordinates\": [elem.get(\"latitud\"), elem.get(\"longitud\")]}\n",
    "        \n",
    "    }\n",
    "    coleccion_starbucks_barna.append(entrada)"
   ]
  },
  {
   "cell_type": "code",
   "execution_count": 886,
   "id": "0556e09e",
   "metadata": {
    "collapsed": true
   },
   "outputs": [
    {
     "data": {
      "text/plain": [
       "[{'name': 'Starbucks Rambla Cataluña',\n",
       "  'location': {'type': 'Point',\n",
       "   'coordinates': [41.387953542832165, 2.1679005112034084]}},\n",
       " {'name': 'Starbucks B Hotel (Starbucks)',\n",
       "  'location': {'type': 'Point',\n",
       "   'coordinates': [41.376243505662345, 2.1507315030599163]}},\n",
       " {'name': 'Starbucks Plaza Universitat',\n",
       "  'location': {'type': 'Point',\n",
       "   'coordinates': [41.38541870874625, 2.163150288025445]}},\n",
       " {'name': 'Starbucks',\n",
       "  'location': {'type': 'Point',\n",
       "   'coordinates': [41.38784750930173, 2.1696339235092985]}},\n",
       " {'name': 'Starbucks Rambla Canaletas',\n",
       "  'location': {'type': 'Point',\n",
       "   'coordinates': [41.38348531847921, 2.1713820474796326]}},\n",
       " {'name': 'Starbucks La Maquinista',\n",
       "  'location': {'type': 'Point',\n",
       "   'coordinates': [41.439793345953674, 2.197619699487752]}},\n",
       " {'name': 'Starbucks Pelai',\n",
       "  'location': {'type': 'Point',\n",
       "   'coordinates': [41.38580458944728, 2.1678578853607178]}},\n",
       " {'name': 'Starbucks Diagonal 593',\n",
       "  'location': {'type': 'Point',\n",
       "   'coordinates': [41.388743961461884, 2.130627505151918]}},\n",
       " {'name': 'Starbucks Room Mate Anna',\n",
       "  'location': {'type': 'Point',\n",
       "   'coordinates': [41.39278181321591, 2.1656320100589097]}},\n",
       " {'name': 'Starbucks Vía Laietana',\n",
       "  'location': {'type': 'Point',\n",
       "   'coordinates': [41.385212881187684, 2.177009738540203]}},\n",
       " {'name': \"Starbucks Moll d'Espanya\",\n",
       "  'location': {'type': 'Point',\n",
       "   'coordinates': [41.37460653392636, 2.182557655378808]}},\n",
       " {'name': 'Starbucks Consel',\n",
       "  'location': {'type': 'Point',\n",
       "   'coordinates': [41.39073404229646, 2.1651365170026944]}},\n",
       " {'name': 'Starbucks CC La Roca Village',\n",
       "  'location': {'type': 'Point',\n",
       "   'coordinates': [41.6101064119954, 2.3432262132317905]}},\n",
       " {'name': 'Starbucks',\n",
       "  'location': {'type': 'Point',\n",
       "   'coordinates': [41.4023121744117, 2.173994779586792]}},\n",
       " {'name': 'Starbucks Sant Pere',\n",
       "  'location': {'type': 'Point',\n",
       "   'coordinates': [41.38878261751958, 2.1720633907608704]}},\n",
       " {'name': 'Starbucks Rambla 89',\n",
       "  'location': {'type': 'Point', 'coordinates': [41.384856, 2.170487]}},\n",
       " {'name': 'Starbucks Gran vía 2',\n",
       "  'location': {'type': 'Point', 'coordinates': [41.35947, 2.1300998]}},\n",
       " {'name': 'Starbucks CC Finestrelles',\n",
       "  'location': {'type': 'Point', 'coordinates': [41.37714, 2.098316]}},\n",
       " {'name': 'Starbucks',\n",
       "  'location': {'type': 'Point',\n",
       "   'coordinates': [41.38641765662956, 2.1651495862102075]}},\n",
       " {'name': 'Starbucks',\n",
       "  'location': {'type': 'Point',\n",
       "   'coordinates': [41.39263077830675, 2.143957475482232]}},\n",
       " {'name': 'Starbucks Diagonal 640',\n",
       "  'location': {'type': 'Point',\n",
       "   'coordinates': [41.39106927048871, 2.136410046858057]}},\n",
       " {'name': 'Starbucks',\n",
       "  'location': {'type': 'Point',\n",
       "   'coordinates': [41.38190998967705, 2.172113994974859]}},\n",
       " {'name': 'Starbucks Diagonal 635',\n",
       "  'location': {'type': 'Point',\n",
       "   'coordinates': [41.38701603939547, 2.123901844024658]}},\n",
       " {'name': 'Starbucks Argentería',\n",
       "  'location': {'type': 'Point',\n",
       "   'coordinates': [41.38356136455636, 2.181132782745855]}},\n",
       " {'name': 'Starbucks CC Glòries',\n",
       "  'location': {'type': 'Point',\n",
       "   'coordinates': [41.405101777917146, 2.1914184045948444]}},\n",
       " {'name': 'Starbucks Diagonal 3',\n",
       "  'location': {'type': 'Point',\n",
       "   'coordinates': [41.40967326146267, 2.215713323322027]}},\n",
       " {'name': 'Starbucks',\n",
       "  'location': {'type': 'Point', 'coordinates': [41.3477107, 2.0791238]}},\n",
       " {'name': 'Starbucks',\n",
       "  'location': {'type': 'Point',\n",
       "   'coordinates': [41.395066280471816, 2.15812165819131]}}]"
      ]
     },
     "execution_count": 886,
     "metadata": {},
     "output_type": "execute_result"
    }
   ],
   "source": [
    "coleccion_starbucks_barna"
   ]
  },
  {
   "cell_type": "code",
   "execution_count": 887,
   "id": "389f872d",
   "metadata": {},
   "outputs": [
    {
     "data": {
      "text/html": [
       "<div>\n",
       "<style scoped>\n",
       "    .dataframe tbody tr th:only-of-type {\n",
       "        vertical-align: middle;\n",
       "    }\n",
       "\n",
       "    .dataframe tbody tr th {\n",
       "        vertical-align: top;\n",
       "    }\n",
       "\n",
       "    .dataframe thead th {\n",
       "        text-align: right;\n",
       "    }\n",
       "</style>\n",
       "<table border=\"1\" class=\"dataframe\">\n",
       "  <thead>\n",
       "    <tr style=\"text-align: right;\">\n",
       "      <th></th>\n",
       "      <th>name</th>\n",
       "      <th>location</th>\n",
       "    </tr>\n",
       "  </thead>\n",
       "  <tbody>\n",
       "    <tr>\n",
       "      <th>0</th>\n",
       "      <td>Starbucks Rambla Cataluña</td>\n",
       "      <td>{'type': 'Point', 'coordinates': [41.387953542...</td>\n",
       "    </tr>\n",
       "    <tr>\n",
       "      <th>1</th>\n",
       "      <td>Starbucks B Hotel (Starbucks)</td>\n",
       "      <td>{'type': 'Point', 'coordinates': [41.376243505...</td>\n",
       "    </tr>\n",
       "    <tr>\n",
       "      <th>2</th>\n",
       "      <td>Starbucks Plaza Universitat</td>\n",
       "      <td>{'type': 'Point', 'coordinates': [41.385418708...</td>\n",
       "    </tr>\n",
       "    <tr>\n",
       "      <th>3</th>\n",
       "      <td>Starbucks</td>\n",
       "      <td>{'type': 'Point', 'coordinates': [41.387847509...</td>\n",
       "    </tr>\n",
       "    <tr>\n",
       "      <th>4</th>\n",
       "      <td>Starbucks Rambla Canaletas</td>\n",
       "      <td>{'type': 'Point', 'coordinates': [41.383485318...</td>\n",
       "    </tr>\n",
       "    <tr>\n",
       "      <th>5</th>\n",
       "      <td>Starbucks La Maquinista</td>\n",
       "      <td>{'type': 'Point', 'coordinates': [41.439793345...</td>\n",
       "    </tr>\n",
       "    <tr>\n",
       "      <th>6</th>\n",
       "      <td>Starbucks Pelai</td>\n",
       "      <td>{'type': 'Point', 'coordinates': [41.385804589...</td>\n",
       "    </tr>\n",
       "    <tr>\n",
       "      <th>7</th>\n",
       "      <td>Starbucks Diagonal 593</td>\n",
       "      <td>{'type': 'Point', 'coordinates': [41.388743961...</td>\n",
       "    </tr>\n",
       "    <tr>\n",
       "      <th>8</th>\n",
       "      <td>Starbucks Room Mate Anna</td>\n",
       "      <td>{'type': 'Point', 'coordinates': [41.392781813...</td>\n",
       "    </tr>\n",
       "    <tr>\n",
       "      <th>9</th>\n",
       "      <td>Starbucks Vía Laietana</td>\n",
       "      <td>{'type': 'Point', 'coordinates': [41.385212881...</td>\n",
       "    </tr>\n",
       "    <tr>\n",
       "      <th>10</th>\n",
       "      <td>Starbucks Moll d'Espanya</td>\n",
       "      <td>{'type': 'Point', 'coordinates': [41.374606533...</td>\n",
       "    </tr>\n",
       "    <tr>\n",
       "      <th>11</th>\n",
       "      <td>Starbucks Consel</td>\n",
       "      <td>{'type': 'Point', 'coordinates': [41.390734042...</td>\n",
       "    </tr>\n",
       "    <tr>\n",
       "      <th>12</th>\n",
       "      <td>Starbucks CC La Roca Village</td>\n",
       "      <td>{'type': 'Point', 'coordinates': [41.610106411...</td>\n",
       "    </tr>\n",
       "    <tr>\n",
       "      <th>13</th>\n",
       "      <td>Starbucks</td>\n",
       "      <td>{'type': 'Point', 'coordinates': [41.402312174...</td>\n",
       "    </tr>\n",
       "    <tr>\n",
       "      <th>14</th>\n",
       "      <td>Starbucks Sant Pere</td>\n",
       "      <td>{'type': 'Point', 'coordinates': [41.388782617...</td>\n",
       "    </tr>\n",
       "    <tr>\n",
       "      <th>15</th>\n",
       "      <td>Starbucks Rambla 89</td>\n",
       "      <td>{'type': 'Point', 'coordinates': [41.384856, 2...</td>\n",
       "    </tr>\n",
       "    <tr>\n",
       "      <th>16</th>\n",
       "      <td>Starbucks Gran vía 2</td>\n",
       "      <td>{'type': 'Point', 'coordinates': [41.35947, 2....</td>\n",
       "    </tr>\n",
       "    <tr>\n",
       "      <th>17</th>\n",
       "      <td>Starbucks CC Finestrelles</td>\n",
       "      <td>{'type': 'Point', 'coordinates': [41.37714, 2....</td>\n",
       "    </tr>\n",
       "    <tr>\n",
       "      <th>18</th>\n",
       "      <td>Starbucks</td>\n",
       "      <td>{'type': 'Point', 'coordinates': [41.386417656...</td>\n",
       "    </tr>\n",
       "    <tr>\n",
       "      <th>19</th>\n",
       "      <td>Starbucks</td>\n",
       "      <td>{'type': 'Point', 'coordinates': [41.392630778...</td>\n",
       "    </tr>\n",
       "    <tr>\n",
       "      <th>20</th>\n",
       "      <td>Starbucks Diagonal 640</td>\n",
       "      <td>{'type': 'Point', 'coordinates': [41.391069270...</td>\n",
       "    </tr>\n",
       "    <tr>\n",
       "      <th>21</th>\n",
       "      <td>Starbucks</td>\n",
       "      <td>{'type': 'Point', 'coordinates': [41.381909989...</td>\n",
       "    </tr>\n",
       "    <tr>\n",
       "      <th>22</th>\n",
       "      <td>Starbucks Diagonal 635</td>\n",
       "      <td>{'type': 'Point', 'coordinates': [41.387016039...</td>\n",
       "    </tr>\n",
       "    <tr>\n",
       "      <th>23</th>\n",
       "      <td>Starbucks Argentería</td>\n",
       "      <td>{'type': 'Point', 'coordinates': [41.383561364...</td>\n",
       "    </tr>\n",
       "    <tr>\n",
       "      <th>24</th>\n",
       "      <td>Starbucks CC Glòries</td>\n",
       "      <td>{'type': 'Point', 'coordinates': [41.405101777...</td>\n",
       "    </tr>\n",
       "    <tr>\n",
       "      <th>25</th>\n",
       "      <td>Starbucks Diagonal 3</td>\n",
       "      <td>{'type': 'Point', 'coordinates': [41.409673261...</td>\n",
       "    </tr>\n",
       "    <tr>\n",
       "      <th>26</th>\n",
       "      <td>Starbucks</td>\n",
       "      <td>{'type': 'Point', 'coordinates': [41.3477107, ...</td>\n",
       "    </tr>\n",
       "    <tr>\n",
       "      <th>27</th>\n",
       "      <td>Starbucks</td>\n",
       "      <td>{'type': 'Point', 'coordinates': [41.395066280...</td>\n",
       "    </tr>\n",
       "  </tbody>\n",
       "</table>\n",
       "</div>"
      ],
      "text/plain": [
       "                             name  \\\n",
       "0       Starbucks Rambla Cataluña   \n",
       "1   Starbucks B Hotel (Starbucks)   \n",
       "2     Starbucks Plaza Universitat   \n",
       "3                       Starbucks   \n",
       "4      Starbucks Rambla Canaletas   \n",
       "5         Starbucks La Maquinista   \n",
       "6                 Starbucks Pelai   \n",
       "7          Starbucks Diagonal 593   \n",
       "8        Starbucks Room Mate Anna   \n",
       "9          Starbucks Vía Laietana   \n",
       "10       Starbucks Moll d'Espanya   \n",
       "11               Starbucks Consel   \n",
       "12   Starbucks CC La Roca Village   \n",
       "13                      Starbucks   \n",
       "14            Starbucks Sant Pere   \n",
       "15            Starbucks Rambla 89   \n",
       "16           Starbucks Gran vía 2   \n",
       "17      Starbucks CC Finestrelles   \n",
       "18                      Starbucks   \n",
       "19                      Starbucks   \n",
       "20         Starbucks Diagonal 640   \n",
       "21                      Starbucks   \n",
       "22         Starbucks Diagonal 635   \n",
       "23           Starbucks Argentería   \n",
       "24           Starbucks CC Glòries   \n",
       "25           Starbucks Diagonal 3   \n",
       "26                      Starbucks   \n",
       "27                      Starbucks   \n",
       "\n",
       "                                             location  \n",
       "0   {'type': 'Point', 'coordinates': [41.387953542...  \n",
       "1   {'type': 'Point', 'coordinates': [41.376243505...  \n",
       "2   {'type': 'Point', 'coordinates': [41.385418708...  \n",
       "3   {'type': 'Point', 'coordinates': [41.387847509...  \n",
       "4   {'type': 'Point', 'coordinates': [41.383485318...  \n",
       "5   {'type': 'Point', 'coordinates': [41.439793345...  \n",
       "6   {'type': 'Point', 'coordinates': [41.385804589...  \n",
       "7   {'type': 'Point', 'coordinates': [41.388743961...  \n",
       "8   {'type': 'Point', 'coordinates': [41.392781813...  \n",
       "9   {'type': 'Point', 'coordinates': [41.385212881...  \n",
       "10  {'type': 'Point', 'coordinates': [41.374606533...  \n",
       "11  {'type': 'Point', 'coordinates': [41.390734042...  \n",
       "12  {'type': 'Point', 'coordinates': [41.610106411...  \n",
       "13  {'type': 'Point', 'coordinates': [41.402312174...  \n",
       "14  {'type': 'Point', 'coordinates': [41.388782617...  \n",
       "15  {'type': 'Point', 'coordinates': [41.384856, 2...  \n",
       "16  {'type': 'Point', 'coordinates': [41.35947, 2....  \n",
       "17  {'type': 'Point', 'coordinates': [41.37714, 2....  \n",
       "18  {'type': 'Point', 'coordinates': [41.386417656...  \n",
       "19  {'type': 'Point', 'coordinates': [41.392630778...  \n",
       "20  {'type': 'Point', 'coordinates': [41.391069270...  \n",
       "21  {'type': 'Point', 'coordinates': [41.381909989...  \n",
       "22  {'type': 'Point', 'coordinates': [41.387016039...  \n",
       "23  {'type': 'Point', 'coordinates': [41.383561364...  \n",
       "24  {'type': 'Point', 'coordinates': [41.405101777...  \n",
       "25  {'type': 'Point', 'coordinates': [41.409673261...  \n",
       "26  {'type': 'Point', 'coordinates': [41.3477107, ...  \n",
       "27  {'type': 'Point', 'coordinates': [41.395066280...  "
      ]
     },
     "execution_count": 887,
     "metadata": {},
     "output_type": "execute_result"
    }
   ],
   "source": [
    "starbucks_barna_point = pd.DataFrame(coleccion_starbucks_barna)\n",
    "starbucks_barna_point"
   ]
  },
  {
   "cell_type": "code",
   "execution_count": 888,
   "id": "f0d2ea6e",
   "metadata": {},
   "outputs": [],
   "source": [
    "starbucks_barna_point.to_json(\"../data/starbucks_barcelona_col.json\", orient=\"records\")"
   ]
  },
  {
   "cell_type": "code",
   "execution_count": null,
   "id": "d328a7cc",
   "metadata": {},
   "outputs": [],
   "source": []
  },
  {
   "cell_type": "code",
   "execution_count": null,
   "id": "ca19c407",
   "metadata": {},
   "outputs": [],
   "source": []
  },
  {
   "cell_type": "code",
   "execution_count": null,
   "id": "38130260",
   "metadata": {},
   "outputs": [],
   "source": []
  },
  {
   "cell_type": "markdown",
   "id": "801226e7",
   "metadata": {},
   "source": [
    "## Colección Escuelas"
   ]
  },
  {
   "cell_type": "code",
   "execution_count": 913,
   "id": "55087664",
   "metadata": {},
   "outputs": [],
   "source": [
    "url = 'https://api.foursquare.com/v2/venues/explore'\n",
    "\n",
    "params = dict(\n",
    "client_id= tok1,\n",
    "client_secret= tok2,\n",
    "v='20180323',\n",
    "ll='41.38673290105267, 2.1734030691967905',\n",
    "radius = 100000,\n",
    "query = 'escuela',\n",
    "limit = 1000\n",
    ")     # instituto   school     colegio     escuela   educacion"
   ]
  },
  {
   "cell_type": "code",
   "execution_count": 914,
   "id": "cf540128",
   "metadata": {},
   "outputs": [],
   "source": [
    "resp = requests.get(url= url, params = params).json()"
   ]
  },
  {
   "cell_type": "code",
   "execution_count": 915,
   "id": "3c50e022",
   "metadata": {},
   "outputs": [],
   "source": [
    "data = resp.get(\"response\").get(\"groups\")[0].get(\"items\")"
   ]
  },
  {
   "cell_type": "code",
   "execution_count": 916,
   "id": "3eb58d94",
   "metadata": {},
   "outputs": [
    {
     "data": {
      "text/plain": [
       "53"
      ]
     },
     "execution_count": 916,
     "metadata": {},
     "output_type": "execute_result"
    }
   ],
   "source": [
    "len(data)"
   ]
  },
  {
   "cell_type": "code",
   "execution_count": 917,
   "id": "8fcd3800",
   "metadata": {},
   "outputs": [],
   "source": [
    "def getFromDict(diccionario,mapa):\n",
    "    return reduce(operator.getitem,mapa,diccionario)\n",
    "\n",
    "mapa_nombre =  [\"venue\", \"name\"]\n",
    "mapa_latitud = [\"venue\", \"location\", \"lat\"]\n",
    "mapa_longitud = [\"venue\", \"location\", \"lng\"]\n",
    "\n",
    "#escuelas_barcelona = []\n",
    "for dic in data:\n",
    "    paralista = {}\n",
    "    paralista[\"name\"] = getFromDict(dic, mapa_nombre)\n",
    "    paralista[\"latitud\"]= getFromDict(dic, mapa_latitud)\n",
    "    paralista[\"longitud\"] = getFromDict(dic,mapa_longitud)\n",
    "    escuelas_barcelona.append(paralista)"
   ]
  },
  {
   "cell_type": "code",
   "execution_count": 918,
   "id": "a7b36295",
   "metadata": {},
   "outputs": [
    {
     "data": {
      "text/plain": [
       "189"
      ]
     },
     "execution_count": 918,
     "metadata": {},
     "output_type": "execute_result"
    }
   ],
   "source": [
    "len(escuelas_barcelona)"
   ]
  },
  {
   "cell_type": "code",
   "execution_count": 919,
   "id": "a4fece45",
   "metadata": {},
   "outputs": [],
   "source": [
    "colegios_barna = pd.DataFrame(escuelas_barcelona)"
   ]
  },
  {
   "cell_type": "code",
   "execution_count": 920,
   "id": "8fddc5be",
   "metadata": {},
   "outputs": [
    {
     "data": {
      "text/html": [
       "<div>\n",
       "<style scoped>\n",
       "    .dataframe tbody tr th:only-of-type {\n",
       "        vertical-align: middle;\n",
       "    }\n",
       "\n",
       "    .dataframe tbody tr th {\n",
       "        vertical-align: top;\n",
       "    }\n",
       "\n",
       "    .dataframe thead th {\n",
       "        text-align: right;\n",
       "    }\n",
       "</style>\n",
       "<table border=\"1\" class=\"dataframe\">\n",
       "  <thead>\n",
       "    <tr style=\"text-align: right;\">\n",
       "      <th></th>\n",
       "      <th>name</th>\n",
       "      <th>latitud</th>\n",
       "      <th>longitud</th>\n",
       "    </tr>\n",
       "  </thead>\n",
       "  <tbody>\n",
       "    <tr>\n",
       "      <th>184</th>\n",
       "      <td>Escuela Artes Marciales Zen Tao Internacional</td>\n",
       "      <td>41.399841</td>\n",
       "      <td>2.155444</td>\n",
       "    </tr>\n",
       "    <tr>\n",
       "      <th>185</th>\n",
       "      <td>Capoeira Barcelona Clases</td>\n",
       "      <td>41.425481</td>\n",
       "      <td>2.204733</td>\n",
       "    </tr>\n",
       "    <tr>\n",
       "      <th>186</th>\n",
       "      <td>Passeig marítim, 368</td>\n",
       "      <td>41.264876</td>\n",
       "      <td>1.950093</td>\n",
       "    </tr>\n",
       "    <tr>\n",
       "      <th>187</th>\n",
       "      <td>Papereria Roger</td>\n",
       "      <td>41.615332</td>\n",
       "      <td>2.665253</td>\n",
       "    </tr>\n",
       "    <tr>\n",
       "      <th>188</th>\n",
       "      <td>Nacar y Sal</td>\n",
       "      <td>41.985806</td>\n",
       "      <td>2.818498</td>\n",
       "    </tr>\n",
       "  </tbody>\n",
       "</table>\n",
       "</div>"
      ],
      "text/plain": [
       "                                              name    latitud  longitud\n",
       "184  Escuela Artes Marciales Zen Tao Internacional  41.399841  2.155444\n",
       "185                      Capoeira Barcelona Clases  41.425481  2.204733\n",
       "186                           Passeig marítim, 368  41.264876  1.950093\n",
       "187                                Papereria Roger  41.615332  2.665253\n",
       "188                                    Nacar y Sal  41.985806  2.818498"
      ]
     },
     "execution_count": 920,
     "metadata": {},
     "output_type": "execute_result"
    }
   ],
   "source": [
    "colegios_barna.tail()"
   ]
  },
  {
   "cell_type": "code",
   "execution_count": 921,
   "id": "6e4c22e7",
   "metadata": {},
   "outputs": [],
   "source": [
    "lista_colegios_barna = td.sacar_coord(escuelas_barcelona)"
   ]
  },
  {
   "cell_type": "code",
   "execution_count": 922,
   "id": "22283c3d",
   "metadata": {},
   "outputs": [
    {
     "data": {
      "text/plain": [
       "189"
      ]
     },
     "execution_count": 922,
     "metadata": {},
     "output_type": "execute_result"
    }
   ],
   "source": [
    "len(lista_colegios_barna)"
   ]
  },
  {
   "cell_type": "code",
   "execution_count": 923,
   "id": "6e3989a1",
   "metadata": {},
   "outputs": [],
   "source": [
    "coleccion_escuelas_barna = []\n",
    "for elem in escuelas_barcelona:\n",
    "    entrada = {\n",
    "        \"name\": elem.get(\"name\"),\n",
    "        \"location\": {\"type\": \"Point\", \"coordinates\": [elem.get(\"latitud\"), elem.get(\"longitud\")]}\n",
    "        \n",
    "    }\n",
    "    coleccion_escuelas_barna.append(entrada)"
   ]
  },
  {
   "cell_type": "code",
   "execution_count": 925,
   "id": "2efde9c3",
   "metadata": {},
   "outputs": [
    {
     "data": {
      "text/plain": [
       "189"
      ]
     },
     "execution_count": 925,
     "metadata": {},
     "output_type": "execute_result"
    }
   ],
   "source": [
    "len(coleccion_escuelas_barna)"
   ]
  },
  {
   "cell_type": "code",
   "execution_count": 926,
   "id": "7e581516",
   "metadata": {},
   "outputs": [
    {
     "data": {
      "text/html": [
       "<div>\n",
       "<style scoped>\n",
       "    .dataframe tbody tr th:only-of-type {\n",
       "        vertical-align: middle;\n",
       "    }\n",
       "\n",
       "    .dataframe tbody tr th {\n",
       "        vertical-align: top;\n",
       "    }\n",
       "\n",
       "    .dataframe thead th {\n",
       "        text-align: right;\n",
       "    }\n",
       "</style>\n",
       "<table border=\"1\" class=\"dataframe\">\n",
       "  <thead>\n",
       "    <tr style=\"text-align: right;\">\n",
       "      <th></th>\n",
       "      <th>name</th>\n",
       "      <th>location</th>\n",
       "    </tr>\n",
       "  </thead>\n",
       "  <tbody>\n",
       "    <tr>\n",
       "      <th>184</th>\n",
       "      <td>Escuela Artes Marciales Zen Tao Internacional</td>\n",
       "      <td>{'type': 'Point', 'coordinates': [41.399840794...</td>\n",
       "    </tr>\n",
       "    <tr>\n",
       "      <th>185</th>\n",
       "      <td>Capoeira Barcelona Clases</td>\n",
       "      <td>{'type': 'Point', 'coordinates': [41.425480912...</td>\n",
       "    </tr>\n",
       "    <tr>\n",
       "      <th>186</th>\n",
       "      <td>Passeig marítim, 368</td>\n",
       "      <td>{'type': 'Point', 'coordinates': [41.264876447...</td>\n",
       "    </tr>\n",
       "    <tr>\n",
       "      <th>187</th>\n",
       "      <td>Papereria Roger</td>\n",
       "      <td>{'type': 'Point', 'coordinates': [41.615332159...</td>\n",
       "    </tr>\n",
       "    <tr>\n",
       "      <th>188</th>\n",
       "      <td>Nacar y Sal</td>\n",
       "      <td>{'type': 'Point', 'coordinates': [41.985805770...</td>\n",
       "    </tr>\n",
       "  </tbody>\n",
       "</table>\n",
       "</div>"
      ],
      "text/plain": [
       "                                              name  \\\n",
       "184  Escuela Artes Marciales Zen Tao Internacional   \n",
       "185                      Capoeira Barcelona Clases   \n",
       "186                           Passeig marítim, 368   \n",
       "187                                Papereria Roger   \n",
       "188                                    Nacar y Sal   \n",
       "\n",
       "                                              location  \n",
       "184  {'type': 'Point', 'coordinates': [41.399840794...  \n",
       "185  {'type': 'Point', 'coordinates': [41.425480912...  \n",
       "186  {'type': 'Point', 'coordinates': [41.264876447...  \n",
       "187  {'type': 'Point', 'coordinates': [41.615332159...  \n",
       "188  {'type': 'Point', 'coordinates': [41.985805770...  "
      ]
     },
     "execution_count": 926,
     "metadata": {},
     "output_type": "execute_result"
    }
   ],
   "source": [
    "escuelas_barna_point = pd.DataFrame(coleccion_escuelas_barna)\n",
    "escuelas_barna_point.tail()"
   ]
  },
  {
   "cell_type": "code",
   "execution_count": 927,
   "id": "2455e11b",
   "metadata": {},
   "outputs": [],
   "source": [
    "escuelas_barna_point.to_json(\"../data/escuelas_barcelona_col.json\", orient=\"records\")"
   ]
  },
  {
   "cell_type": "code",
   "execution_count": null,
   "id": "e577a752",
   "metadata": {},
   "outputs": [],
   "source": []
  },
  {
   "cell_type": "code",
   "execution_count": null,
   "id": "cc7e5ada",
   "metadata": {},
   "outputs": [],
   "source": []
  },
  {
   "cell_type": "code",
   "execution_count": null,
   "id": "d67568ba",
   "metadata": {},
   "outputs": [],
   "source": []
  },
  {
   "cell_type": "markdown",
   "id": "91964a16",
   "metadata": {},
   "source": [
    "## Colección Bares"
   ]
  },
  {
   "cell_type": "code",
   "execution_count": 944,
   "id": "c44cfbb8",
   "metadata": {},
   "outputs": [],
   "source": [
    "url = 'https://api.foursquare.com/v2/venues/explore'\n",
    "\n",
    "params = dict(\n",
    "client_id= tok1,\n",
    "client_secret= tok2,\n",
    "v='20180323',\n",
    "ll='41.38673290105267, 2.1734030691967905',\n",
    "radius = 100000,\n",
    "query = 'pub',\n",
    "limit = 1000\n",
    ")     # bar   pub   discoteca"
   ]
  },
  {
   "cell_type": "code",
   "execution_count": 945,
   "id": "3ea6cba2",
   "metadata": {},
   "outputs": [],
   "source": [
    "resp = requests.get(url= url, params = params).json()"
   ]
  },
  {
   "cell_type": "code",
   "execution_count": 946,
   "id": "9b569b29",
   "metadata": {},
   "outputs": [],
   "source": [
    "data = resp.get(\"response\").get(\"groups\")[0].get(\"items\")"
   ]
  },
  {
   "cell_type": "code",
   "execution_count": 947,
   "id": "2efbff56",
   "metadata": {},
   "outputs": [
    {
     "data": {
      "text/plain": [
       "100"
      ]
     },
     "execution_count": 947,
     "metadata": {},
     "output_type": "execute_result"
    }
   ],
   "source": [
    "len(data)"
   ]
  },
  {
   "cell_type": "code",
   "execution_count": 948,
   "id": "367c8296",
   "metadata": {},
   "outputs": [],
   "source": [
    "def getFromDict(diccionario,mapa):\n",
    "    return reduce(operator.getitem,mapa,diccionario)\n",
    "\n",
    "mapa_nombre =  [\"venue\", \"name\"]\n",
    "mapa_latitud = [\"venue\", \"location\", \"lat\"]\n",
    "mapa_longitud = [\"venue\", \"location\", \"lng\"]\n",
    "\n",
    "#bares_barcelona = []\n",
    "for dic in data:\n",
    "    paralista = {}\n",
    "    paralista[\"name\"] = getFromDict(dic, mapa_nombre)\n",
    "    paralista[\"latitud\"]= getFromDict(dic, mapa_latitud)\n",
    "    paralista[\"longitud\"] = getFromDict(dic,mapa_longitud)\n",
    "    bares_barcelona.append(paralista)"
   ]
  },
  {
   "cell_type": "code",
   "execution_count": 949,
   "id": "1afef9ad",
   "metadata": {},
   "outputs": [
    {
     "data": {
      "text/plain": [
       "284"
      ]
     },
     "execution_count": 949,
     "metadata": {},
     "output_type": "execute_result"
    }
   ],
   "source": [
    "len(bares_barcelona)"
   ]
  },
  {
   "cell_type": "code",
   "execution_count": 950,
   "id": "08828b58",
   "metadata": {},
   "outputs": [],
   "source": [
    "bares_barna = pd.DataFrame(bares_barcelona)"
   ]
  },
  {
   "cell_type": "code",
   "execution_count": 951,
   "id": "fcf7a52c",
   "metadata": {},
   "outputs": [
    {
     "data": {
      "text/html": [
       "<div>\n",
       "<style scoped>\n",
       "    .dataframe tbody tr th:only-of-type {\n",
       "        vertical-align: middle;\n",
       "    }\n",
       "\n",
       "    .dataframe tbody tr th {\n",
       "        vertical-align: top;\n",
       "    }\n",
       "\n",
       "    .dataframe thead th {\n",
       "        text-align: right;\n",
       "    }\n",
       "</style>\n",
       "<table border=\"1\" class=\"dataframe\">\n",
       "  <thead>\n",
       "    <tr style=\"text-align: right;\">\n",
       "      <th></th>\n",
       "      <th>name</th>\n",
       "      <th>latitud</th>\n",
       "      <th>longitud</th>\n",
       "    </tr>\n",
       "  </thead>\n",
       "  <tbody>\n",
       "    <tr>\n",
       "      <th>279</th>\n",
       "      <td>Mosquito Sunset Club</td>\n",
       "      <td>41.361779</td>\n",
       "      <td>2.099571</td>\n",
       "    </tr>\n",
       "    <tr>\n",
       "      <th>280</th>\n",
       "      <td>Beirut 37</td>\n",
       "      <td>41.382524</td>\n",
       "      <td>2.165744</td>\n",
       "    </tr>\n",
       "    <tr>\n",
       "      <th>281</th>\n",
       "      <td>My Bar</td>\n",
       "      <td>41.380543</td>\n",
       "      <td>2.174702</td>\n",
       "    </tr>\n",
       "    <tr>\n",
       "      <th>282</th>\n",
       "      <td>Highland</td>\n",
       "      <td>41.115946</td>\n",
       "      <td>1.255961</td>\n",
       "    </tr>\n",
       "    <tr>\n",
       "      <th>283</th>\n",
       "      <td>La Taverna del Espit</td>\n",
       "      <td>41.389428</td>\n",
       "      <td>2.157796</td>\n",
       "    </tr>\n",
       "  </tbody>\n",
       "</table>\n",
       "</div>"
      ],
      "text/plain": [
       "                     name    latitud  longitud\n",
       "279  Mosquito Sunset Club  41.361779  2.099571\n",
       "280             Beirut 37  41.382524  2.165744\n",
       "281                My Bar  41.380543  2.174702\n",
       "282              Highland  41.115946  1.255961\n",
       "283  La Taverna del Espit  41.389428  2.157796"
      ]
     },
     "execution_count": 951,
     "metadata": {},
     "output_type": "execute_result"
    }
   ],
   "source": [
    "bares_barna.tail()"
   ]
  },
  {
   "cell_type": "code",
   "execution_count": 952,
   "id": "fbde8a29",
   "metadata": {},
   "outputs": [],
   "source": [
    "lista_bares_barna = td.sacar_coord(bares_barcelona)"
   ]
  },
  {
   "cell_type": "code",
   "execution_count": 953,
   "id": "9676c74f",
   "metadata": {},
   "outputs": [
    {
     "data": {
      "text/plain": [
       "284"
      ]
     },
     "execution_count": 953,
     "metadata": {},
     "output_type": "execute_result"
    }
   ],
   "source": [
    "len(lista_bares_barna)"
   ]
  },
  {
   "cell_type": "code",
   "execution_count": 954,
   "id": "b671e868",
   "metadata": {},
   "outputs": [],
   "source": [
    "coleccion_bares_barna = []\n",
    "for elem in bares_barcelona:\n",
    "    entrada = {\n",
    "        \"name\": elem.get(\"name\"),\n",
    "        \"location\": {\"type\": \"Point\", \"coordinates\": [elem.get(\"latitud\"), elem.get(\"longitud\")]}\n",
    "        \n",
    "    }\n",
    "    coleccion_bares_barna.append(entrada)"
   ]
  },
  {
   "cell_type": "code",
   "execution_count": 955,
   "id": "5408bd03",
   "metadata": {},
   "outputs": [
    {
     "data": {
      "text/plain": [
       "284"
      ]
     },
     "execution_count": 955,
     "metadata": {},
     "output_type": "execute_result"
    }
   ],
   "source": [
    "len(coleccion_bares_barna)"
   ]
  },
  {
   "cell_type": "code",
   "execution_count": 956,
   "id": "7a0a1c6e",
   "metadata": {},
   "outputs": [
    {
     "data": {
      "text/html": [
       "<div>\n",
       "<style scoped>\n",
       "    .dataframe tbody tr th:only-of-type {\n",
       "        vertical-align: middle;\n",
       "    }\n",
       "\n",
       "    .dataframe tbody tr th {\n",
       "        vertical-align: top;\n",
       "    }\n",
       "\n",
       "    .dataframe thead th {\n",
       "        text-align: right;\n",
       "    }\n",
       "</style>\n",
       "<table border=\"1\" class=\"dataframe\">\n",
       "  <thead>\n",
       "    <tr style=\"text-align: right;\">\n",
       "      <th></th>\n",
       "      <th>name</th>\n",
       "      <th>location</th>\n",
       "    </tr>\n",
       "  </thead>\n",
       "  <tbody>\n",
       "    <tr>\n",
       "      <th>279</th>\n",
       "      <td>Mosquito Sunset Club</td>\n",
       "      <td>{'type': 'Point', 'coordinates': [41.361779371...</td>\n",
       "    </tr>\n",
       "    <tr>\n",
       "      <th>280</th>\n",
       "      <td>Beirut 37</td>\n",
       "      <td>{'type': 'Point', 'coordinates': [41.382524183...</td>\n",
       "    </tr>\n",
       "    <tr>\n",
       "      <th>281</th>\n",
       "      <td>My Bar</td>\n",
       "      <td>{'type': 'Point', 'coordinates': [41.380543213...</td>\n",
       "    </tr>\n",
       "    <tr>\n",
       "      <th>282</th>\n",
       "      <td>Highland</td>\n",
       "      <td>{'type': 'Point', 'coordinates': [41.115945828...</td>\n",
       "    </tr>\n",
       "    <tr>\n",
       "      <th>283</th>\n",
       "      <td>La Taverna del Espit</td>\n",
       "      <td>{'type': 'Point', 'coordinates': [41.389428368...</td>\n",
       "    </tr>\n",
       "  </tbody>\n",
       "</table>\n",
       "</div>"
      ],
      "text/plain": [
       "                     name                                           location\n",
       "279  Mosquito Sunset Club  {'type': 'Point', 'coordinates': [41.361779371...\n",
       "280             Beirut 37  {'type': 'Point', 'coordinates': [41.382524183...\n",
       "281                My Bar  {'type': 'Point', 'coordinates': [41.380543213...\n",
       "282              Highland  {'type': 'Point', 'coordinates': [41.115945828...\n",
       "283  La Taverna del Espit  {'type': 'Point', 'coordinates': [41.389428368..."
      ]
     },
     "execution_count": 956,
     "metadata": {},
     "output_type": "execute_result"
    }
   ],
   "source": [
    "bares_barna_point = pd.DataFrame(coleccion_bares_barna)\n",
    "bares_barna_point.tail()"
   ]
  },
  {
   "cell_type": "code",
   "execution_count": 957,
   "id": "07b395a0",
   "metadata": {},
   "outputs": [],
   "source": [
    "bares_barna_point.to_json(\"../data/bares_barcelona_col.json\", orient=\"records\")"
   ]
  },
  {
   "cell_type": "code",
   "execution_count": null,
   "id": "261306bc",
   "metadata": {},
   "outputs": [],
   "source": []
  },
  {
   "cell_type": "code",
   "execution_count": null,
   "id": "8cf89b71",
   "metadata": {},
   "outputs": [],
   "source": []
  },
  {
   "cell_type": "markdown",
   "id": "7fec85b8",
   "metadata": {},
   "source": [
    "## Colección Aeropuerto Tren"
   ]
  },
  {
   "cell_type": "code",
   "execution_count": 970,
   "id": "0a146872",
   "metadata": {},
   "outputs": [],
   "source": [
    "url = 'https://api.foursquare.com/v2/venues/explore'\n",
    "\n",
    "params = dict(\n",
    "client_id= tok1,\n",
    "client_secret= tok2,\n",
    "v='20180323',\n",
    "ll='41.38673290105267, 2.1734030691967905',\n",
    "radius = 100000,\n",
    "query = 'aeropuerto',\n",
    "limit = 1\n",
    ")     # train      aeropuerto       bus station"
   ]
  },
  {
   "cell_type": "code",
   "execution_count": 971,
   "id": "e294b416",
   "metadata": {},
   "outputs": [],
   "source": [
    "resp = requests.get(url= url, params = params).json()"
   ]
  },
  {
   "cell_type": "code",
   "execution_count": 972,
   "id": "d818e0ce",
   "metadata": {},
   "outputs": [],
   "source": [
    "data = resp.get(\"response\").get(\"groups\")[0].get(\"items\")"
   ]
  },
  {
   "cell_type": "code",
   "execution_count": 975,
   "id": "a6613bfe",
   "metadata": {},
   "outputs": [
    {
     "data": {
      "text/plain": [
       "1"
      ]
     },
     "execution_count": 975,
     "metadata": {},
     "output_type": "execute_result"
    }
   ],
   "source": [
    "len(data)"
   ]
  },
  {
   "cell_type": "code",
   "execution_count": 976,
   "id": "affd1878",
   "metadata": {},
   "outputs": [],
   "source": [
    "def getFromDict(diccionario,mapa):\n",
    "    return reduce(operator.getitem,mapa,diccionario)\n",
    "\n",
    "mapa_nombre =  [\"venue\", \"name\"]\n",
    "mapa_latitud = [\"venue\", \"location\", \"lat\"]\n",
    "mapa_longitud = [\"venue\", \"location\", \"lng\"]\n",
    "\n",
    "#aeropuertos_barcelona = []\n",
    "for dic in data:\n",
    "    paralista = {}\n",
    "    paralista[\"name\"] = getFromDict(dic, mapa_nombre)\n",
    "    paralista[\"latitud\"]= getFromDict(dic, mapa_latitud)\n",
    "    paralista[\"longitud\"] = getFromDict(dic,mapa_longitud)\n",
    "    aeropuertos_barcelona.append(paralista)"
   ]
  },
  {
   "cell_type": "code",
   "execution_count": 977,
   "id": "68f114b7",
   "metadata": {},
   "outputs": [
    {
     "data": {
      "text/plain": [
       "161"
      ]
     },
     "execution_count": 977,
     "metadata": {},
     "output_type": "execute_result"
    }
   ],
   "source": [
    "len(aeropuertos_barcelona)"
   ]
  },
  {
   "cell_type": "code",
   "execution_count": 978,
   "id": "8228dd7b",
   "metadata": {},
   "outputs": [],
   "source": [
    "aeropuertos_barna = pd.DataFrame(aeropuertos_barcelona)"
   ]
  },
  {
   "cell_type": "code",
   "execution_count": 979,
   "id": "164c86e5",
   "metadata": {},
   "outputs": [
    {
     "data": {
      "text/html": [
       "<div>\n",
       "<style scoped>\n",
       "    .dataframe tbody tr th:only-of-type {\n",
       "        vertical-align: middle;\n",
       "    }\n",
       "\n",
       "    .dataframe tbody tr th {\n",
       "        vertical-align: top;\n",
       "    }\n",
       "\n",
       "    .dataframe thead th {\n",
       "        text-align: right;\n",
       "    }\n",
       "</style>\n",
       "<table border=\"1\" class=\"dataframe\">\n",
       "  <thead>\n",
       "    <tr style=\"text-align: right;\">\n",
       "      <th></th>\n",
       "      <th>name</th>\n",
       "      <th>latitud</th>\n",
       "      <th>longitud</th>\n",
       "    </tr>\n",
       "  </thead>\n",
       "  <tbody>\n",
       "    <tr>\n",
       "      <th>0</th>\n",
       "      <td>Estación de Autobuses Barcelona Nord</td>\n",
       "      <td>41.394324</td>\n",
       "      <td>2.182510</td>\n",
       "    </tr>\n",
       "    <tr>\n",
       "      <th>1</th>\n",
       "      <td>Parada De Bus 1227</td>\n",
       "      <td>41.400512</td>\n",
       "      <td>2.171443</td>\n",
       "    </tr>\n",
       "    <tr>\n",
       "      <th>2</th>\n",
       "      <td>Parada Bus 1467 Paris / Comte D'Urgell</td>\n",
       "      <td>41.389560</td>\n",
       "      <td>2.147737</td>\n",
       "    </tr>\n",
       "    <tr>\n",
       "      <th>3</th>\n",
       "      <td>TMB 1098: Av. Diagonal - Pl. Francesc Macià</td>\n",
       "      <td>41.393061</td>\n",
       "      <td>2.146240</td>\n",
       "    </tr>\n",
       "    <tr>\n",
       "      <th>4</th>\n",
       "      <td>Gran Via - Farell</td>\n",
       "      <td>41.371907</td>\n",
       "      <td>2.144974</td>\n",
       "    </tr>\n",
       "  </tbody>\n",
       "</table>\n",
       "</div>"
      ],
      "text/plain": [
       "                                          name    latitud  longitud\n",
       "0         Estación de Autobuses Barcelona Nord  41.394324  2.182510\n",
       "1                           Parada De Bus 1227  41.400512  2.171443\n",
       "2       Parada Bus 1467 Paris / Comte D'Urgell  41.389560  2.147737\n",
       "3  TMB 1098: Av. Diagonal - Pl. Francesc Macià  41.393061  2.146240\n",
       "4                            Gran Via - Farell  41.371907  2.144974"
      ]
     },
     "execution_count": 979,
     "metadata": {},
     "output_type": "execute_result"
    }
   ],
   "source": [
    "aeropuertos_barna.head()"
   ]
  },
  {
   "cell_type": "code",
   "execution_count": 980,
   "id": "998954ae",
   "metadata": {},
   "outputs": [],
   "source": [
    "lista_aeropuertos_barna = td.sacar_coord(aeropuertos_barcelona)"
   ]
  },
  {
   "cell_type": "code",
   "execution_count": 981,
   "id": "c6041bc7",
   "metadata": {},
   "outputs": [
    {
     "data": {
      "text/plain": [
       "161"
      ]
     },
     "execution_count": 981,
     "metadata": {},
     "output_type": "execute_result"
    }
   ],
   "source": [
    "len(lista_aeropuertos_barna)"
   ]
  },
  {
   "cell_type": "code",
   "execution_count": 982,
   "id": "bb9c150d",
   "metadata": {},
   "outputs": [],
   "source": [
    "coleccion_aeropuertos_barna = []\n",
    "for elem in aeropuertos_barcelona:\n",
    "    entrada = {\n",
    "        \"name\": elem.get(\"name\"),\n",
    "        \"location\": {\"type\": \"Point\", \"coordinates\": [elem.get(\"latitud\"), elem.get(\"longitud\")]}\n",
    "        \n",
    "    }\n",
    "    coleccion_aeropuertos_barna.append(entrada)"
   ]
  },
  {
   "cell_type": "code",
   "execution_count": 983,
   "id": "45759e07",
   "metadata": {},
   "outputs": [
    {
     "data": {
      "text/plain": [
       "161"
      ]
     },
     "execution_count": 983,
     "metadata": {},
     "output_type": "execute_result"
    }
   ],
   "source": [
    "len(coleccion_aeropuertos_barna)"
   ]
  },
  {
   "cell_type": "code",
   "execution_count": 984,
   "id": "8ab1bb6f",
   "metadata": {},
   "outputs": [
    {
     "data": {
      "text/html": [
       "<div>\n",
       "<style scoped>\n",
       "    .dataframe tbody tr th:only-of-type {\n",
       "        vertical-align: middle;\n",
       "    }\n",
       "\n",
       "    .dataframe tbody tr th {\n",
       "        vertical-align: top;\n",
       "    }\n",
       "\n",
       "    .dataframe thead th {\n",
       "        text-align: right;\n",
       "    }\n",
       "</style>\n",
       "<table border=\"1\" class=\"dataframe\">\n",
       "  <thead>\n",
       "    <tr style=\"text-align: right;\">\n",
       "      <th></th>\n",
       "      <th>name</th>\n",
       "      <th>location</th>\n",
       "    </tr>\n",
       "  </thead>\n",
       "  <tbody>\n",
       "    <tr>\n",
       "      <th>156</th>\n",
       "      <td>RENFE Malgrat de Mar</td>\n",
       "      <td>{'type': 'Point', 'coordinates': [41.641699368...</td>\n",
       "    </tr>\n",
       "    <tr>\n",
       "      <th>157</th>\n",
       "      <td>FGC Olesa de Montserrat</td>\n",
       "      <td>{'type': 'Point', 'coordinates': [41.541066001...</td>\n",
       "    </tr>\n",
       "    <tr>\n",
       "      <th>158</th>\n",
       "      <td>RENFE Mollet-Santa Rosa</td>\n",
       "      <td>{'type': 'Point', 'coordinates': [41.536451930...</td>\n",
       "    </tr>\n",
       "    <tr>\n",
       "      <th>159</th>\n",
       "      <td>RENFE Sabadell Centre</td>\n",
       "      <td>{'type': 'Point', 'coordinates': [41.546281373...</td>\n",
       "    </tr>\n",
       "    <tr>\n",
       "      <th>160</th>\n",
       "      <td>Barcelona–El Prat Josep Tarradellas Airport (B...</td>\n",
       "      <td>{'type': 'Point', 'coordinates': [41.295606993...</td>\n",
       "    </tr>\n",
       "  </tbody>\n",
       "</table>\n",
       "</div>"
      ],
      "text/plain": [
       "                                                  name  \\\n",
       "156                               RENFE Malgrat de Mar   \n",
       "157                            FGC Olesa de Montserrat   \n",
       "158                            RENFE Mollet-Santa Rosa   \n",
       "159                              RENFE Sabadell Centre   \n",
       "160  Barcelona–El Prat Josep Tarradellas Airport (B...   \n",
       "\n",
       "                                              location  \n",
       "156  {'type': 'Point', 'coordinates': [41.641699368...  \n",
       "157  {'type': 'Point', 'coordinates': [41.541066001...  \n",
       "158  {'type': 'Point', 'coordinates': [41.536451930...  \n",
       "159  {'type': 'Point', 'coordinates': [41.546281373...  \n",
       "160  {'type': 'Point', 'coordinates': [41.295606993...  "
      ]
     },
     "execution_count": 984,
     "metadata": {},
     "output_type": "execute_result"
    }
   ],
   "source": [
    "aeropuertos_barna_point = pd.DataFrame(coleccion_aeropuertos_barna)\n",
    "aeropuertos_barna_point.tail()"
   ]
  },
  {
   "cell_type": "code",
   "execution_count": 985,
   "id": "e21e5335",
   "metadata": {},
   "outputs": [],
   "source": [
    "aeropuertos_barna_point.to_json(\"../data/estaciones_barcelona_col.json\", orient=\"records\")"
   ]
  },
  {
   "cell_type": "code",
   "execution_count": null,
   "id": "a3a362d4",
   "metadata": {},
   "outputs": [],
   "source": []
  },
  {
   "cell_type": "code",
   "execution_count": null,
   "id": "5f80f93b",
   "metadata": {},
   "outputs": [],
   "source": []
  },
  {
   "cell_type": "markdown",
   "id": "a59102c9",
   "metadata": {},
   "source": [
    "## Colección Peluquería canina"
   ]
  },
  {
   "cell_type": "code",
   "execution_count": 1022,
   "id": "6e0bdda5",
   "metadata": {},
   "outputs": [],
   "source": [
    "url = 'https://api.foursquare.com/v2/venues/explore'\n",
    "\n",
    "params = dict(\n",
    "client_id= tok1,\n",
    "client_secret= tok2,\n",
    "v='20180323',\n",
    "ll='41.38673290105267, 2.1734030691967905',\n",
    "radius = 100000,\n",
    "query = 'vet',\n",
    "limit = 1000\n",
    ")     # peluqueria canina   veterinario   clinica veterinaria   veterinaria   clinica veterinario    vet   Veterinarian"
   ]
  },
  {
   "cell_type": "code",
   "execution_count": 1023,
   "id": "dbd8fdea",
   "metadata": {},
   "outputs": [],
   "source": [
    "resp = requests.get(url= url, params = params).json()"
   ]
  },
  {
   "cell_type": "code",
   "execution_count": 1024,
   "id": "675e8447",
   "metadata": {},
   "outputs": [],
   "source": [
    "data = resp.get(\"response\").get(\"groups\")[0].get(\"items\")"
   ]
  },
  {
   "cell_type": "code",
   "execution_count": 1025,
   "id": "cc11ff54",
   "metadata": {},
   "outputs": [
    {
     "data": {
      "text/plain": [
       "42"
      ]
     },
     "execution_count": 1025,
     "metadata": {},
     "output_type": "execute_result"
    }
   ],
   "source": [
    "len(data)"
   ]
  },
  {
   "cell_type": "code",
   "execution_count": 1026,
   "id": "f7b097aa",
   "metadata": {},
   "outputs": [],
   "source": [
    "def getFromDict(diccionario,mapa):\n",
    "    return reduce(operator.getitem,mapa,diccionario)\n",
    "\n",
    "mapa_nombre =  [\"venue\", \"name\"]\n",
    "mapa_latitud = [\"venue\", \"location\", \"lat\"]\n",
    "mapa_longitud = [\"venue\", \"location\", \"lng\"]\n",
    "\n",
    "#veterinarios_barcelona = []\n",
    "for dic in data:\n",
    "    paralista = {}\n",
    "    paralista[\"name\"] = getFromDict(dic, mapa_nombre)\n",
    "    paralista[\"latitud\"]= getFromDict(dic, mapa_latitud)\n",
    "    paralista[\"longitud\"] = getFromDict(dic,mapa_longitud)\n",
    "    veterinarios_barcelona.append(paralista)"
   ]
  },
  {
   "cell_type": "code",
   "execution_count": 1027,
   "id": "fd7d6209",
   "metadata": {},
   "outputs": [
    {
     "data": {
      "text/plain": [
       "104"
      ]
     },
     "execution_count": 1027,
     "metadata": {},
     "output_type": "execute_result"
    }
   ],
   "source": [
    "len(veterinarios_barcelona)"
   ]
  },
  {
   "cell_type": "code",
   "execution_count": 1028,
   "id": "6b8eeeda",
   "metadata": {},
   "outputs": [],
   "source": [
    "veterinarios_barna = pd.DataFrame(veterinarios_barcelona)"
   ]
  },
  {
   "cell_type": "code",
   "execution_count": 1029,
   "id": "c83c453d",
   "metadata": {},
   "outputs": [
    {
     "data": {
      "text/html": [
       "<div>\n",
       "<style scoped>\n",
       "    .dataframe tbody tr th:only-of-type {\n",
       "        vertical-align: middle;\n",
       "    }\n",
       "\n",
       "    .dataframe tbody tr th {\n",
       "        vertical-align: top;\n",
       "    }\n",
       "\n",
       "    .dataframe thead th {\n",
       "        text-align: right;\n",
       "    }\n",
       "</style>\n",
       "<table border=\"1\" class=\"dataframe\">\n",
       "  <thead>\n",
       "    <tr style=\"text-align: right;\">\n",
       "      <th></th>\n",
       "      <th>name</th>\n",
       "      <th>latitud</th>\n",
       "      <th>longitud</th>\n",
       "    </tr>\n",
       "  </thead>\n",
       "  <tbody>\n",
       "    <tr>\n",
       "      <th>0</th>\n",
       "      <td>Veterinos</td>\n",
       "      <td>41.475354</td>\n",
       "      <td>2.097627</td>\n",
       "    </tr>\n",
       "    <tr>\n",
       "      <th>1</th>\n",
       "      <td>Clínica Veterinària Exòtics</td>\n",
       "      <td>41.407836</td>\n",
       "      <td>2.137312</td>\n",
       "    </tr>\n",
       "    <tr>\n",
       "      <th>2</th>\n",
       "      <td>Veteralia</td>\n",
       "      <td>41.389064</td>\n",
       "      <td>2.170183</td>\n",
       "    </tr>\n",
       "    <tr>\n",
       "      <th>3</th>\n",
       "      <td>Clínica Veterinària Riera Alta</td>\n",
       "      <td>41.380431</td>\n",
       "      <td>2.166224</td>\n",
       "    </tr>\n",
       "    <tr>\n",
       "      <th>4</th>\n",
       "      <td>Hospital Veterinario Balmes</td>\n",
       "      <td>41.390944</td>\n",
       "      <td>2.160410</td>\n",
       "    </tr>\n",
       "  </tbody>\n",
       "</table>\n",
       "</div>"
      ],
      "text/plain": [
       "                             name    latitud  longitud\n",
       "0                       Veterinos  41.475354  2.097627\n",
       "1     Clínica Veterinària Exòtics  41.407836  2.137312\n",
       "2                       Veteralia  41.389064  2.170183\n",
       "3  Clínica Veterinària Riera Alta  41.380431  2.166224\n",
       "4     Hospital Veterinario Balmes  41.390944  2.160410"
      ]
     },
     "execution_count": 1029,
     "metadata": {},
     "output_type": "execute_result"
    }
   ],
   "source": [
    "veterinarios_barna.head()"
   ]
  },
  {
   "cell_type": "code",
   "execution_count": 1030,
   "id": "b2edeca4",
   "metadata": {},
   "outputs": [],
   "source": [
    "lista_veterinarios_barna = td.sacar_coord(veterinarios_barcelona)"
   ]
  },
  {
   "cell_type": "code",
   "execution_count": 1031,
   "id": "98c234ff",
   "metadata": {},
   "outputs": [
    {
     "data": {
      "text/plain": [
       "104"
      ]
     },
     "execution_count": 1031,
     "metadata": {},
     "output_type": "execute_result"
    }
   ],
   "source": [
    "len(lista_veterinarios_barna)"
   ]
  },
  {
   "cell_type": "code",
   "execution_count": 1032,
   "id": "d7648b2f",
   "metadata": {},
   "outputs": [],
   "source": [
    "coleccion_veterinarios_barna = []\n",
    "for elem in veterinarios_barcelona:\n",
    "    entrada = {\n",
    "        \"name\": elem.get(\"name\"),\n",
    "        \"location\": {\"type\": \"Point\", \"coordinates\": [elem.get(\"latitud\"), elem.get(\"longitud\")]}\n",
    "        \n",
    "    }\n",
    "    coleccion_veterinarios_barna.append(entrada)"
   ]
  },
  {
   "cell_type": "code",
   "execution_count": 1033,
   "id": "002b6a39",
   "metadata": {},
   "outputs": [
    {
     "data": {
      "text/plain": [
       "104"
      ]
     },
     "execution_count": 1033,
     "metadata": {},
     "output_type": "execute_result"
    }
   ],
   "source": [
    "len(coleccion_veterinarios_barna)"
   ]
  },
  {
   "cell_type": "code",
   "execution_count": 1034,
   "id": "6bbc47e5",
   "metadata": {},
   "outputs": [
    {
     "data": {
      "text/html": [
       "<div>\n",
       "<style scoped>\n",
       "    .dataframe tbody tr th:only-of-type {\n",
       "        vertical-align: middle;\n",
       "    }\n",
       "\n",
       "    .dataframe tbody tr th {\n",
       "        vertical-align: top;\n",
       "    }\n",
       "\n",
       "    .dataframe thead th {\n",
       "        text-align: right;\n",
       "    }\n",
       "</style>\n",
       "<table border=\"1\" class=\"dataframe\">\n",
       "  <thead>\n",
       "    <tr style=\"text-align: right;\">\n",
       "      <th></th>\n",
       "      <th>name</th>\n",
       "      <th>location</th>\n",
       "    </tr>\n",
       "  </thead>\n",
       "  <tbody>\n",
       "    <tr>\n",
       "      <th>99</th>\n",
       "      <td>Mima'ns</td>\n",
       "      <td>{'type': 'Point', 'coordinates': [41.237987345...</td>\n",
       "    </tr>\n",
       "    <tr>\n",
       "      <th>100</th>\n",
       "      <td>Clínica Sant Jordi Veterinaris</td>\n",
       "      <td>{'type': 'Point', 'coordinates': [41.588035921...</td>\n",
       "    </tr>\n",
       "    <tr>\n",
       "      <th>101</th>\n",
       "      <td>Clínica Veteralia Mascots</td>\n",
       "      <td>{'type': 'Point', 'coordinates': [41.689802971...</td>\n",
       "    </tr>\n",
       "    <tr>\n",
       "      <th>102</th>\n",
       "      <td>Zoo Clinic</td>\n",
       "      <td>{'type': 'Point', 'coordinates': [41.122360167...</td>\n",
       "    </tr>\n",
       "    <tr>\n",
       "      <th>103</th>\n",
       "      <td>Bofarull Veterinari</td>\n",
       "      <td>{'type': 'Point', 'coordinates': [41.121527960...</td>\n",
       "    </tr>\n",
       "  </tbody>\n",
       "</table>\n",
       "</div>"
      ],
      "text/plain": [
       "                               name  \\\n",
       "99                          Mima'ns   \n",
       "100  Clínica Sant Jordi Veterinaris   \n",
       "101       Clínica Veteralia Mascots   \n",
       "102                      Zoo Clinic   \n",
       "103             Bofarull Veterinari   \n",
       "\n",
       "                                              location  \n",
       "99   {'type': 'Point', 'coordinates': [41.237987345...  \n",
       "100  {'type': 'Point', 'coordinates': [41.588035921...  \n",
       "101  {'type': 'Point', 'coordinates': [41.689802971...  \n",
       "102  {'type': 'Point', 'coordinates': [41.122360167...  \n",
       "103  {'type': 'Point', 'coordinates': [41.121527960...  "
      ]
     },
     "execution_count": 1034,
     "metadata": {},
     "output_type": "execute_result"
    }
   ],
   "source": [
    "veterinarios_barna_point = pd.DataFrame(coleccion_veterinarios_barna)\n",
    "veterinarios_barna_point.tail()"
   ]
  },
  {
   "cell_type": "code",
   "execution_count": 1035,
   "id": "882eac9e",
   "metadata": {},
   "outputs": [],
   "source": [
    "veterinarios_barna_point.to_json(\"../data/veterinarios_barcelona_col.json\", orient=\"records\")"
   ]
  },
  {
   "cell_type": "code",
   "execution_count": null,
   "id": "387eccbf",
   "metadata": {},
   "outputs": [],
   "source": []
  },
  {
   "cell_type": "code",
   "execution_count": null,
   "id": "80ec6ee9",
   "metadata": {},
   "outputs": [],
   "source": []
  },
  {
   "cell_type": "code",
   "execution_count": null,
   "id": "c65ef17a",
   "metadata": {},
   "outputs": [],
   "source": []
  },
  {
   "cell_type": "code",
   "execution_count": null,
   "id": "ea2b1151",
   "metadata": {},
   "outputs": [],
   "source": []
  },
  {
   "cell_type": "code",
   "execution_count": null,
   "id": "6b099206",
   "metadata": {},
   "outputs": [],
   "source": []
  },
  {
   "cell_type": "code",
   "execution_count": null,
   "id": "66afb690",
   "metadata": {},
   "outputs": [],
   "source": []
  },
  {
   "cell_type": "code",
   "execution_count": null,
   "id": "310b4b96",
   "metadata": {},
   "outputs": [],
   "source": []
  },
  {
   "cell_type": "code",
   "execution_count": null,
   "id": "87d6c9b5",
   "metadata": {},
   "outputs": [],
   "source": []
  },
  {
   "cell_type": "markdown",
   "id": "dd9d9b73",
   "metadata": {},
   "source": [
    "#### ESTO SE QUEDA POR AHORA AQUÍ PARA RECORDARME CIERTAS COSAS"
   ]
  },
  {
   "cell_type": "code",
   "execution_count": null,
   "id": "f6ab230e",
   "metadata": {},
   "outputs": [],
   "source": [
    "###ESTO ES LO QUE NECESITO PARA IR ALMACENANDO TODAS LAS POSIBLES COINCIDENCIAS\n",
    "# EL HISTÓRICO SIEMPRE SE TIENE QUE DECLARAR CON LAS COORDENADAS DE INICIO\n",
    "\n",
    "historico = [[1, 2]]\n",
    "\n",
    "datos_02 = [[3, 4], [5, 6]]\n",
    "\n",
    "datos_03 = [[[7, 8], [9, 10]] , [[88, 88], [77, 77]]]\n",
    "\n",
    "datos_04 = [[[22, 11], [31, 10]], [[0, 0], [55, 54], [1, 1]], [[33, 33], [45, 46]], [[13, 1], [0, 110]]]\n",
    "\n",
    "# LE IREMOS PASANDO LOS RESULTADOS DE LAS CONSULTAS\n",
    "\n",
    "# HAY QUE DECIRLE EL NÚMERO DE BÚSQUEDA QUE HA SIDO PARA QUE SEPA COMO DIBUJAR EL ARBOL\n",
    "\n",
    "historico = td.guardar_historico(historico, datos_02)\n",
    "\n",
    "historico = td.guardar_historico(historico, datos_03)\n",
    "\n",
    "historico = td.guardar_historico(historico, datos_04)\n",
    "\n",
    "# TIENES QUE GENERAR UNA FUNCIÓN QUE LIMPIE EL HISTÓRICO Y DEVUELVA LA MEDIA DE LAS COORDENADAS DE CADA FILA PARA\n",
    "#LA SIGUIENTE BÚSQUEDA.\n",
    "\n",
    "#ACUERDATE DE QUE TIENES QUE ALMACENAR LOS RESULTADOS EN UNA LISTA MAYOR"
   ]
  },
  {
   "cell_type": "markdown",
   "id": "70f9c2df",
   "metadata": {},
   "source": [
    "hay que hacerlo por elementos"
   ]
  }
 ],
 "metadata": {
  "kernelspec": {
   "display_name": "Python 3",
   "language": "python",
   "name": "python3"
  },
  "language_info": {
   "codemirror_mode": {
    "name": "ipython",
    "version": 3
   },
   "file_extension": ".py",
   "mimetype": "text/x-python",
   "name": "python",
   "nbconvert_exporter": "python",
   "pygments_lexer": "ipython3",
   "version": "3.8.8"
  }
 },
 "nbformat": 4,
 "nbformat_minor": 5
}
