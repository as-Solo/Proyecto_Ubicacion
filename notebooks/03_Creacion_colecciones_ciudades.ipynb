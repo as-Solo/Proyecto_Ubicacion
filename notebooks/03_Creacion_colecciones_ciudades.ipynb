{
 "cells": [
  {
   "cell_type": "code",
   "execution_count": 448,
   "id": "8a37037e",
   "metadata": {},
   "outputs": [],
   "source": [
    "import sys\n",
    "sys.path.append(\"../\")"
   ]
  },
  {
   "cell_type": "code",
   "execution_count": 492,
   "id": "3043d3d1",
   "metadata": {},
   "outputs": [],
   "source": [
    "import src.tratamiento_datos as td"
   ]
  },
  {
   "cell_type": "code",
   "execution_count": 14,
   "id": "a4586f56",
   "metadata": {},
   "outputs": [
    {
     "data": {
      "text/plain": [
       "MongoClient(host=['localhost:27017'], document_class=dict, tz_aware=False, connect=True)"
      ]
     },
     "execution_count": 14,
     "metadata": {},
     "output_type": "execute_result"
    }
   ],
   "source": [
    "from pymongo import MongoClient\n",
    "client = MongoClient(\"localhost:27017\")\n",
    "client"
   ]
  },
  {
   "cell_type": "code",
   "execution_count": 15,
   "id": "c2927d69",
   "metadata": {},
   "outputs": [],
   "source": [
    "db = client.get_database(\"ironhack\")"
   ]
  },
  {
   "cell_type": "code",
   "execution_count": 16,
   "id": "f60c2893",
   "metadata": {},
   "outputs": [],
   "source": [
    "from pymongo import GEOSPHERE"
   ]
  },
  {
   "cell_type": "code",
   "execution_count": 454,
   "id": "252c5052",
   "metadata": {},
   "outputs": [
    {
     "data": {
      "text/plain": [
       "True"
      ]
     },
     "execution_count": 454,
     "metadata": {},
     "output_type": "execute_result"
    }
   ],
   "source": [
    "import requests\n",
    "import json\n",
    "from dotenv import load_dotenv\n",
    "import os\n",
    "import pandas as pd\n",
    "from functools import reduce\n",
    "import operator\n",
    "load_dotenv()"
   ]
  },
  {
   "cell_type": "code",
   "execution_count": 450,
   "id": "9718a247",
   "metadata": {},
   "outputs": [],
   "source": [
    "tok1=\n",
    "tok2="
   ]
  },
  {
   "cell_type": "code",
   "execution_count": 5,
   "id": "380496d6",
   "metadata": {},
   "outputs": [],
   "source": [
    "ranking = pd.read_csv('../data/ranking', index_col = 0)"
   ]
  },
  {
   "cell_type": "code",
   "execution_count": 449,
   "id": "3f33bb8f",
   "metadata": {},
   "outputs": [
    {
     "data": {
      "text/html": [
       "<div>\n",
       "<style scoped>\n",
       "    .dataframe tbody tr th:only-of-type {\n",
       "        vertical-align: middle;\n",
       "    }\n",
       "\n",
       "    .dataframe tbody tr th {\n",
       "        vertical-align: top;\n",
       "    }\n",
       "\n",
       "    .dataframe thead th {\n",
       "        text-align: right;\n",
       "    }\n",
       "</style>\n",
       "<table border=\"1\" class=\"dataframe\">\n",
       "  <thead>\n",
       "    <tr style=\"text-align: right;\">\n",
       "      <th></th>\n",
       "      <th>requirement</th>\n",
       "      <th>requirement_value</th>\n",
       "    </tr>\n",
       "  </thead>\n",
       "  <tbody>\n",
       "    <tr>\n",
       "      <th>8</th>\n",
       "      <td>ocio</td>\n",
       "      <td>44.20</td>\n",
       "    </tr>\n",
       "    <tr>\n",
       "      <th>0</th>\n",
       "      <td>colegio</td>\n",
       "      <td>13.26</td>\n",
       "    </tr>\n",
       "    <tr>\n",
       "      <th>1</th>\n",
       "      <td>Design Companies</td>\n",
       "      <td>8.24</td>\n",
       "    </tr>\n",
       "    <tr>\n",
       "      <th>2</th>\n",
       "      <td>Airport-Train</td>\n",
       "      <td>7.84</td>\n",
       "    </tr>\n",
       "    <tr>\n",
       "      <th>3</th>\n",
       "      <td>1M companies</td>\n",
       "      <td>6.76</td>\n",
       "    </tr>\n",
       "    <tr>\n",
       "      <th>4</th>\n",
       "      <td>Starbuck</td>\n",
       "      <td>6.27</td>\n",
       "    </tr>\n",
       "    <tr>\n",
       "      <th>5</th>\n",
       "      <td>peluqueria_canina</td>\n",
       "      <td>5.00</td>\n",
       "    </tr>\n",
       "    <tr>\n",
       "      <th>6</th>\n",
       "      <td>Vegan</td>\n",
       "      <td>1.96</td>\n",
       "    </tr>\n",
       "    <tr>\n",
       "      <th>7</th>\n",
       "      <td>Basket Stadium</td>\n",
       "      <td>0.37</td>\n",
       "    </tr>\n",
       "  </tbody>\n",
       "</table>\n",
       "</div>"
      ],
      "text/plain": [
       "         requirement  requirement_value\n",
       "8               ocio              44.20\n",
       "0            colegio              13.26\n",
       "1   Design Companies               8.24\n",
       "2      Airport-Train               7.84\n",
       "3       1M companies               6.76\n",
       "4           Starbuck               6.27\n",
       "5  peluqueria_canina               5.00\n",
       "6              Vegan               1.96\n",
       "7     Basket Stadium               0.37"
      ]
     },
     "execution_count": 449,
     "metadata": {},
     "output_type": "execute_result"
    }
   ],
   "source": [
    "ranking"
   ]
  },
  {
   "cell_type": "code",
   "execution_count": 11,
   "id": "8f5ff129",
   "metadata": {},
   "outputs": [],
   "source": [
    "empresas_ciudad = pd.read_csv('../data/empresas_ciudad', index_col = 0)"
   ]
  },
  {
   "cell_type": "code",
   "execution_count": 12,
   "id": "188b388c",
   "metadata": {},
   "outputs": [
    {
     "data": {
      "text/html": [
       "<div>\n",
       "<style scoped>\n",
       "    .dataframe tbody tr th:only-of-type {\n",
       "        vertical-align: middle;\n",
       "    }\n",
       "\n",
       "    .dataframe tbody tr th {\n",
       "        vertical-align: top;\n",
       "    }\n",
       "\n",
       "    .dataframe thead th {\n",
       "        text-align: right;\n",
       "    }\n",
       "</style>\n",
       "<table border=\"1\" class=\"dataframe\">\n",
       "  <thead>\n",
       "    <tr style=\"text-align: right;\">\n",
       "      <th></th>\n",
       "      <th>Madrid</th>\n",
       "      <th>Barcelona</th>\n",
       "      <th>Montreal</th>\n",
       "      <th>Lisboa</th>\n",
       "    </tr>\n",
       "  </thead>\n",
       "  <tbody>\n",
       "    <tr>\n",
       "      <th>0</th>\n",
       "      <td>Fon</td>\n",
       "      <td>Splendia</td>\n",
       "      <td>Airborne Mobile</td>\n",
       "      <td>Nexway</td>\n",
       "    </tr>\n",
       "    <tr>\n",
       "      <th>1</th>\n",
       "      <td>eRepublik</td>\n",
       "      <td>Futurlink</td>\n",
       "      <td>Mobivox</td>\n",
       "      <td>NaN</td>\n",
       "    </tr>\n",
       "    <tr>\n",
       "      <th>2</th>\n",
       "      <td>Busuu</td>\n",
       "      <td>Openbravo</td>\n",
       "      <td>Radialpoint</td>\n",
       "      <td>NaN</td>\n",
       "    </tr>\n",
       "    <tr>\n",
       "      <th>3</th>\n",
       "      <td>Unkasoft Advergaming</td>\n",
       "      <td>UserZoom</td>\n",
       "      <td>Akoha</td>\n",
       "      <td>NaN</td>\n",
       "    </tr>\n",
       "    <tr>\n",
       "      <th>4</th>\n",
       "      <td>Nexway</td>\n",
       "      <td>Veeva</td>\n",
       "      <td>MediaScrape</td>\n",
       "      <td>NaN</td>\n",
       "    </tr>\n",
       "    <tr>\n",
       "      <th>5</th>\n",
       "      <td>Tuenti Technologies</td>\n",
       "      <td>Teambox</td>\n",
       "      <td>StatusNet</td>\n",
       "      <td>NaN</td>\n",
       "    </tr>\n",
       "    <tr>\n",
       "      <th>6</th>\n",
       "      <td>Virgin Play</td>\n",
       "      <td>International Sportsbook</td>\n",
       "      <td>Trellia Networks</td>\n",
       "      <td>NaN</td>\n",
       "    </tr>\n",
       "    <tr>\n",
       "      <th>7</th>\n",
       "      <td>ticketea</td>\n",
       "      <td>NaN</td>\n",
       "      <td>NaN</td>\n",
       "      <td>NaN</td>\n",
       "    </tr>\n",
       "    <tr>\n",
       "      <th>8</th>\n",
       "      <td>Genasys</td>\n",
       "      <td>NaN</td>\n",
       "      <td>NaN</td>\n",
       "      <td>NaN</td>\n",
       "    </tr>\n",
       "    <tr>\n",
       "      <th>9</th>\n",
       "      <td>BuyVIP</td>\n",
       "      <td>NaN</td>\n",
       "      <td>NaN</td>\n",
       "      <td>NaN</td>\n",
       "    </tr>\n",
       "  </tbody>\n",
       "</table>\n",
       "</div>"
      ],
      "text/plain": [
       "                 Madrid                 Barcelona          Montreal  Lisboa\n",
       "0                   Fon                  Splendia   Airborne Mobile  Nexway\n",
       "1             eRepublik                 Futurlink           Mobivox     NaN\n",
       "2                 Busuu                 Openbravo       Radialpoint     NaN\n",
       "3  Unkasoft Advergaming                  UserZoom             Akoha     NaN\n",
       "4                Nexway                     Veeva       MediaScrape     NaN\n",
       "5   Tuenti Technologies                   Teambox         StatusNet     NaN\n",
       "6           Virgin Play  International Sportsbook  Trellia Networks     NaN\n",
       "7              ticketea                       NaN               NaN     NaN\n",
       "8               Genasys                       NaN               NaN     NaN\n",
       "9                BuyVIP                       NaN               NaN     NaN"
      ]
     },
     "execution_count": 12,
     "metadata": {},
     "output_type": "execute_result"
    }
   ],
   "source": [
    "empresas_ciudad"
   ]
  },
  {
   "cell_type": "code",
   "execution_count": 17,
   "id": "120726eb",
   "metadata": {},
   "outputs": [],
   "source": [
    "coordenadas_ciudades = {'madrid' : [40.42741669687324, -3.7042628540907128],\n",
    "                        'barcelona' : [41.38673290105267, 2.1734030691967905],\n",
    "                        'lisboa' : [38.72287648728543, -9.139444396944034],\n",
    "                        'montreal' : [45.51073484608754, -73.56393413888645]}"
   ]
  },
  {
   "cell_type": "code",
   "execution_count": null,
   "id": "41611835",
   "metadata": {},
   "outputs": [],
   "source": []
  },
  {
   "cell_type": "markdown",
   "id": "aea39882",
   "metadata": {},
   "source": [
    "# COLECCIONES MADRID"
   ]
  },
  {
   "cell_type": "markdown",
   "id": "6435a532",
   "metadata": {},
   "source": [
    "## Colección Starbucks"
   ]
  },
  {
   "cell_type": "code",
   "execution_count": 482,
   "id": "f8dd1b5f",
   "metadata": {},
   "outputs": [],
   "source": [
    "url = 'https://api.foursquare.com/v2/venues/explore'\n",
    "\n",
    "params = dict(\n",
    "client_id= tok1,\n",
    "client_secret= tok2,\n",
    "v='20180323',\n",
    "ll='40.42741669687324,-3.7042628540907128',\n",
    "query='Starbucks',\n",
    "limit=70\n",
    ")"
   ]
  },
  {
   "cell_type": "code",
   "execution_count": 483,
   "id": "feb14a84",
   "metadata": {},
   "outputs": [],
   "source": [
    "resp = requests.get(url= url, params = params).json()"
   ]
  },
  {
   "cell_type": "code",
   "execution_count": 484,
   "id": "6384e474",
   "metadata": {},
   "outputs": [],
   "source": [
    "data = resp.get(\"response\").get(\"groups\")[0].get(\"items\")"
   ]
  },
  {
   "cell_type": "code",
   "execution_count": 75,
   "id": "786347e8",
   "metadata": {
    "scrolled": true
   },
   "outputs": [
    {
     "data": {
      "text/plain": [
       "40.423319643246955"
      ]
     },
     "execution_count": 75,
     "metadata": {},
     "output_type": "execute_result"
    }
   ],
   "source": [
    "data[0]['venue']['location']['lat']"
   ]
  },
  {
   "cell_type": "code",
   "execution_count": 77,
   "id": "d12c96ab",
   "metadata": {},
   "outputs": [
    {
     "data": {
      "text/plain": [
       "-3.710882844657412"
      ]
     },
     "execution_count": 77,
     "metadata": {},
     "output_type": "execute_result"
    }
   ],
   "source": [
    "data[0]['venue']['location']['lng']"
   ]
  },
  {
   "cell_type": "code",
   "execution_count": 88,
   "id": "9fd0d62f",
   "metadata": {},
   "outputs": [
    {
     "data": {
      "text/plain": [
       "'Starbucks Plaza de España'"
      ]
     },
     "execution_count": 88,
     "metadata": {},
     "output_type": "execute_result"
    }
   ],
   "source": [
    "data[0]['venue']['name']"
   ]
  },
  {
   "cell_type": "code",
   "execution_count": 485,
   "id": "e732b0fc",
   "metadata": {},
   "outputs": [],
   "source": [
    "def getFromDict(diccionario,mapa):\n",
    "    return reduce(operator.getitem,mapa,diccionario)\n",
    "\n",
    "mapa_nombre =  [\"venue\", \"name\"]\n",
    "mapa_latitud = [\"venue\", \"location\", \"lat\"]\n",
    "mapa_longitud = [\"venue\", \"location\", \"lng\"]\n",
    "\n",
    "starbucks_madrid = []\n",
    "for dic in data:\n",
    "    paralista = {}\n",
    "    paralista[\"name\"] = getFromDict(dic, mapa_nombre)\n",
    "    paralista[\"latitud\"]= getFromDict(dic, mapa_latitud)\n",
    "    paralista[\"longitud\"] = getFromDict(dic,mapa_longitud)\n",
    "    starbucks_madrid.append(paralista)"
   ]
  },
  {
   "cell_type": "code",
   "execution_count": 487,
   "id": "69ca7ed2",
   "metadata": {},
   "outputs": [
    {
     "data": {
      "text/plain": [
       "46"
      ]
     },
     "execution_count": 487,
     "metadata": {},
     "output_type": "execute_result"
    }
   ],
   "source": [
    "len(starbucks_madrid)"
   ]
  },
  {
   "cell_type": "code",
   "execution_count": 488,
   "id": "9a53fc4d",
   "metadata": {},
   "outputs": [],
   "source": [
    "starbucks_mad = pd.DataFrame(starbucks_madrid)"
   ]
  },
  {
   "cell_type": "code",
   "execution_count": 490,
   "id": "ee936a6f",
   "metadata": {},
   "outputs": [
    {
     "data": {
      "text/html": [
       "<div>\n",
       "<style scoped>\n",
       "    .dataframe tbody tr th:only-of-type {\n",
       "        vertical-align: middle;\n",
       "    }\n",
       "\n",
       "    .dataframe tbody tr th {\n",
       "        vertical-align: top;\n",
       "    }\n",
       "\n",
       "    .dataframe thead th {\n",
       "        text-align: right;\n",
       "    }\n",
       "</style>\n",
       "<table border=\"1\" class=\"dataframe\">\n",
       "  <thead>\n",
       "    <tr style=\"text-align: right;\">\n",
       "      <th></th>\n",
       "      <th>name</th>\n",
       "      <th>latitud</th>\n",
       "      <th>longitud</th>\n",
       "    </tr>\n",
       "  </thead>\n",
       "  <tbody>\n",
       "    <tr>\n",
       "      <th>0</th>\n",
       "      <td>Starbucks Plaza de España</td>\n",
       "      <td>40.423320</td>\n",
       "      <td>-3.710883</td>\n",
       "    </tr>\n",
       "    <tr>\n",
       "      <th>1</th>\n",
       "      <td>Starbucks Room Mate Oscar</td>\n",
       "      <td>40.420752</td>\n",
       "      <td>-3.699315</td>\n",
       "    </tr>\n",
       "    <tr>\n",
       "      <th>2</th>\n",
       "      <td>Starbucks Fuencarral 43</td>\n",
       "      <td>40.423113</td>\n",
       "      <td>-3.700798</td>\n",
       "    </tr>\n",
       "    <tr>\n",
       "      <th>3</th>\n",
       "      <td>Starbucks Princesa 40</td>\n",
       "      <td>40.429069</td>\n",
       "      <td>-3.715079</td>\n",
       "    </tr>\n",
       "    <tr>\n",
       "      <th>4</th>\n",
       "      <td>Starbucks Gran Vía 30</td>\n",
       "      <td>40.420140</td>\n",
       "      <td>-3.702886</td>\n",
       "    </tr>\n",
       "  </tbody>\n",
       "</table>\n",
       "</div>"
      ],
      "text/plain": [
       "                        name    latitud  longitud\n",
       "0  Starbucks Plaza de España  40.423320 -3.710883\n",
       "1  Starbucks Room Mate Oscar  40.420752 -3.699315\n",
       "2    Starbucks Fuencarral 43  40.423113 -3.700798\n",
       "3      Starbucks Princesa 40  40.429069 -3.715079\n",
       "4      Starbucks Gran Vía 30  40.420140 -3.702886"
      ]
     },
     "execution_count": 490,
     "metadata": {},
     "output_type": "execute_result"
    }
   ],
   "source": [
    "starbucks_mad.head()"
   ]
  },
  {
   "cell_type": "code",
   "execution_count": 493,
   "id": "db9d6036",
   "metadata": {},
   "outputs": [],
   "source": [
    "lista_starbucks = td.sacar_coord(starbucks_madrid)"
   ]
  },
  {
   "cell_type": "code",
   "execution_count": 495,
   "id": "b47332e4",
   "metadata": {},
   "outputs": [
    {
     "data": {
      "text/plain": [
       "46"
      ]
     },
     "execution_count": 495,
     "metadata": {},
     "output_type": "execute_result"
    }
   ],
   "source": [
    "len(lista_starbucks)"
   ]
  },
  {
   "cell_type": "code",
   "execution_count": 496,
   "id": "3c33eb4a",
   "metadata": {},
   "outputs": [],
   "source": [
    "coleccion_starbucks = []\n",
    "for elem in starbucks_madrid:\n",
    "    entrada = {\n",
    "        \"name\": elem.get(\"name\"),\n",
    "        \"location\": {\"type\": \"Point\", \"coordinates\": [elem.get(\"latitud\"), elem.get(\"longitud\")]}\n",
    "        \n",
    "    }\n",
    "    coleccion_starbucks.append(entrada)"
   ]
  },
  {
   "cell_type": "code",
   "execution_count": 497,
   "id": "7f754789",
   "metadata": {
    "collapsed": true
   },
   "outputs": [
    {
     "data": {
      "text/plain": [
       "[{'name': 'Starbucks Plaza de España',\n",
       "  'location': {'type': 'Point',\n",
       "   'coordinates': [40.423319643246955, -3.710882844657412]}},\n",
       " {'name': 'Starbucks Room Mate Oscar',\n",
       "  'location': {'type': 'Point',\n",
       "   'coordinates': [40.42075183549848, -3.6993145297210788]}},\n",
       " {'name': 'Starbucks Fuencarral 43',\n",
       "  'location': {'type': 'Point',\n",
       "   'coordinates': [40.423112989750564, -3.700798408458431]}},\n",
       " {'name': 'Starbucks Princesa 40',\n",
       "  'location': {'type': 'Point',\n",
       "   'coordinates': [40.42906874005007, -3.7150786671568476]}},\n",
       " {'name': 'Starbucks Gran Vía 30',\n",
       "  'location': {'type': 'Point',\n",
       "   'coordinates': [40.42014039388448, -3.702886033408268]}},\n",
       " {'name': 'Starbucks Preciados 27',\n",
       "  'location': {'type': 'Point',\n",
       "   'coordinates': [40.419667845686355, -3.7061354223688325]}},\n",
       " {'name': 'Starbucks Gran Vía 58',\n",
       "  'location': {'type': 'Point',\n",
       "   'coordinates': [40.421751918201934, -3.7083782102926905]}},\n",
       " {'name': 'Starbucks Quevedo',\n",
       "  'location': {'type': 'Point', 'coordinates': [40.433353, -3.703958]}},\n",
       " {'name': 'Starbucks Alcalá 21',\n",
       "  'location': {'type': 'Point',\n",
       "   'coordinates': [40.418038185194774, -3.699371513099982]}},\n",
       " {'name': 'Starbucks Génova 27',\n",
       "  'location': {'type': 'Point',\n",
       "   'coordinates': [40.425760357264515, -3.691781759262085]}},\n",
       " {'name': 'Starbucks Arenal 14',\n",
       "  'location': {'type': 'Point',\n",
       "   'coordinates': [40.41719516711848, -3.706118548830636]}},\n",
       " {'name': 'Starbucks',\n",
       "  'location': {'type': 'Point', 'coordinates': [40.418054, -3.710009]}},\n",
       " {'name': 'Starbucks',\n",
       "  'location': {'type': 'Point', 'coordinates': [40.417539, -3.702775]}},\n",
       " {'name': 'Starbucks Serrano, 100',\n",
       "  'location': {'type': 'Point',\n",
       "   'coordinates': [40.4335639178076, -3.6868293595360973]}},\n",
       " {'name': 'Starbucks Príncipe Pío',\n",
       "  'location': {'type': 'Point',\n",
       "   'coordinates': [40.421949993513195, -3.7203776278003375]}},\n",
       " {'name': 'Starbucks',\n",
       "  'location': {'type': 'Point',\n",
       "   'coordinates': [40.41532327347708, -3.6949486687744146]}},\n",
       " {'name': 'Starbucks',\n",
       "  'location': {'type': 'Point',\n",
       "   'coordinates': [40.41748942152583, -3.70466514037747]}},\n",
       " {'name': 'Starbucks Teatro Real',\n",
       "  'location': {'type': 'Point',\n",
       "   'coordinates': [40.418106483857194, -3.709606077515513]}},\n",
       " {'name': 'Starbucks',\n",
       "  'location': {'type': 'Point', 'coordinates': [40.421095, -3.70256]}},\n",
       " {'name': 'Starbucks Juan Bravo',\n",
       "  'location': {'type': 'Point',\n",
       "   'coordinates': [40.43296760669224, -3.6832201480865474]}},\n",
       " {'name': 'Starbucks San Miguel',\n",
       "  'location': {'type': 'Point',\n",
       "   'coordinates': [40.41573297582015, -3.708717822655616]}},\n",
       " {'name': 'Starbucks Velázquez, 32',\n",
       "  'location': {'type': 'Point',\n",
       "   'coordinates': [40.424974636524, -3.684107212216363]}},\n",
       " {'name': 'Starbucks ECI Preciados',\n",
       "  'location': {'type': 'Point', 'coordinates': [40.4174674, -3.7043957]}},\n",
       " {'name': 'Starbucks ECI Castellana (Starbucks)',\n",
       "  'location': {'type': 'Point',\n",
       "   'coordinates': [40.44748872381242, -3.6930934929855574]}},\n",
       " {'name': 'Starbucks Reina Sofia',\n",
       "  'location': {'type': 'Point',\n",
       "   'coordinates': [40.40885214578761, -3.693236539287397]}},\n",
       " {'name': 'Starbucks Conde de Peñalver',\n",
       "  'location': {'type': 'Point',\n",
       "   'coordinates': [40.426066801136066, -3.6756167469058876]}},\n",
       " {'name': 'Starbucks',\n",
       "  'location': {'type': 'Point',\n",
       "   'coordinates': [40.420450975922165, -3.6796733064135796]}},\n",
       " {'name': 'Starbucks Velázquez',\n",
       "  'location': {'type': 'Point',\n",
       "   'coordinates': [40.4394314443529, -3.6826531171468173]}},\n",
       " {'name': 'Starbucks Orense 6',\n",
       "  'location': {'type': 'Point',\n",
       "   'coordinates': [40.44772869759542, -3.6951754717412046]}},\n",
       " {'name': 'Starbucks',\n",
       "  'location': {'type': 'Point',\n",
       "   'coordinates': [40.44677599194058, -3.6918291111629657]}},\n",
       " {'name': 'Starbucks Palace',\n",
       "  'location': {'type': 'Point', 'coordinates': [40.414995, -3.695058]}},\n",
       " {'name': 'Starbucks',\n",
       "  'location': {'type': 'Point', 'coordinates': [40.440273, -3.682125]}},\n",
       " {'name': 'Starbucks',\n",
       "  'location': {'type': 'Point',\n",
       "   'coordinates': [40.403120577140534, -3.687687685586035]}},\n",
       " {'name': 'Starbucks Orense 79',\n",
       "  'location': {'type': 'Point', 'coordinates': [40.45957, -3.6943874]}},\n",
       " {'name': 'Starbucks Plaza Río 2',\n",
       "  'location': {'type': 'Point',\n",
       "   'coordinates': [40.39130385405477, -3.701122858987979]}},\n",
       " {'name': 'Starbucks ECI Méndez Álvaro',\n",
       "  'location': {'type': 'Point', 'coordinates': [40.39469, -3.676454]}},\n",
       " {'name': 'Starbucks CC La Vaguada',\n",
       "  'location': {'type': 'Point',\n",
       "   'coordinates': [40.47963598026618, -3.707357285899872]}},\n",
       " {'name': 'Starbucks CC Dreams',\n",
       "  'location': {'type': 'Point',\n",
       "   'coordinates': [40.46282268242124, -3.636758032267253]}},\n",
       " {'name': 'Starbucks Pozuelo',\n",
       "  'location': {'type': 'Point',\n",
       "   'coordinates': [40.43816816158585, -3.793838131943415]}},\n",
       " {'name': 'Starbucks CC Islazul',\n",
       "  'location': {'type': 'Point',\n",
       "   'coordinates': [40.36350271226119, -3.7365511407333716]}},\n",
       " {'name': 'Starbucks La Finca',\n",
       "  'location': {'type': 'Point',\n",
       "   'coordinates': [40.41888867283295, -3.800662722672292]}},\n",
       " {'name': 'Starbucks ECI Sanchinarro',\n",
       "  'location': {'type': 'Point',\n",
       "   'coordinates': [40.49768721643861, -3.660368141302403]}},\n",
       " {'name': 'Starbucks ECI Pozuelo',\n",
       "  'location': {'type': 'Point',\n",
       "   'coordinates': [40.463101058172825, -3.806382840888177]}},\n",
       " {'name': 'Starbucks Parquesur',\n",
       "  'location': {'type': 'Point',\n",
       "   'coordinates': [40.3393318306369, -3.7333420586110004]}},\n",
       " {'name': 'Starbucks CC Plenilunio',\n",
       "  'location': {'type': 'Point',\n",
       "   'coordinates': [40.44638591027995, -3.587592789104539]}},\n",
       " {'name': 'Starbucks',\n",
       "  'location': {'type': 'Point', 'coordinates': [40.455039, -3.583356]}}]"
      ]
     },
     "execution_count": 497,
     "metadata": {},
     "output_type": "execute_result"
    }
   ],
   "source": [
    "coleccion_starbucks"
   ]
  },
  {
   "cell_type": "code",
   "execution_count": 551,
   "id": "8c9ee3e9",
   "metadata": {
    "collapsed": true
   },
   "outputs": [
    {
     "data": {
      "text/html": [
       "<div>\n",
       "<style scoped>\n",
       "    .dataframe tbody tr th:only-of-type {\n",
       "        vertical-align: middle;\n",
       "    }\n",
       "\n",
       "    .dataframe tbody tr th {\n",
       "        vertical-align: top;\n",
       "    }\n",
       "\n",
       "    .dataframe thead th {\n",
       "        text-align: right;\n",
       "    }\n",
       "</style>\n",
       "<table border=\"1\" class=\"dataframe\">\n",
       "  <thead>\n",
       "    <tr style=\"text-align: right;\">\n",
       "      <th></th>\n",
       "      <th>name</th>\n",
       "      <th>location</th>\n",
       "    </tr>\n",
       "  </thead>\n",
       "  <tbody>\n",
       "    <tr>\n",
       "      <th>0</th>\n",
       "      <td>Starbucks Plaza de España</td>\n",
       "      <td>{'type': 'Point', 'coordinates': [40.423319643...</td>\n",
       "    </tr>\n",
       "    <tr>\n",
       "      <th>1</th>\n",
       "      <td>Starbucks Room Mate Oscar</td>\n",
       "      <td>{'type': 'Point', 'coordinates': [40.420751835...</td>\n",
       "    </tr>\n",
       "    <tr>\n",
       "      <th>2</th>\n",
       "      <td>Starbucks Fuencarral 43</td>\n",
       "      <td>{'type': 'Point', 'coordinates': [40.423112989...</td>\n",
       "    </tr>\n",
       "    <tr>\n",
       "      <th>3</th>\n",
       "      <td>Starbucks Princesa 40</td>\n",
       "      <td>{'type': 'Point', 'coordinates': [40.429068740...</td>\n",
       "    </tr>\n",
       "    <tr>\n",
       "      <th>4</th>\n",
       "      <td>Starbucks Gran Vía 30</td>\n",
       "      <td>{'type': 'Point', 'coordinates': [40.420140393...</td>\n",
       "    </tr>\n",
       "    <tr>\n",
       "      <th>5</th>\n",
       "      <td>Starbucks Preciados 27</td>\n",
       "      <td>{'type': 'Point', 'coordinates': [40.419667845...</td>\n",
       "    </tr>\n",
       "    <tr>\n",
       "      <th>6</th>\n",
       "      <td>Starbucks Gran Vía 58</td>\n",
       "      <td>{'type': 'Point', 'coordinates': [40.421751918...</td>\n",
       "    </tr>\n",
       "    <tr>\n",
       "      <th>7</th>\n",
       "      <td>Starbucks Quevedo</td>\n",
       "      <td>{'type': 'Point', 'coordinates': [40.433353, -...</td>\n",
       "    </tr>\n",
       "    <tr>\n",
       "      <th>8</th>\n",
       "      <td>Starbucks Alcalá 21</td>\n",
       "      <td>{'type': 'Point', 'coordinates': [40.418038185...</td>\n",
       "    </tr>\n",
       "    <tr>\n",
       "      <th>9</th>\n",
       "      <td>Starbucks Génova 27</td>\n",
       "      <td>{'type': 'Point', 'coordinates': [40.425760357...</td>\n",
       "    </tr>\n",
       "    <tr>\n",
       "      <th>10</th>\n",
       "      <td>Starbucks Arenal 14</td>\n",
       "      <td>{'type': 'Point', 'coordinates': [40.417195167...</td>\n",
       "    </tr>\n",
       "    <tr>\n",
       "      <th>11</th>\n",
       "      <td>Starbucks</td>\n",
       "      <td>{'type': 'Point', 'coordinates': [40.418054, -...</td>\n",
       "    </tr>\n",
       "    <tr>\n",
       "      <th>12</th>\n",
       "      <td>Starbucks</td>\n",
       "      <td>{'type': 'Point', 'coordinates': [40.417539, -...</td>\n",
       "    </tr>\n",
       "    <tr>\n",
       "      <th>13</th>\n",
       "      <td>Starbucks Serrano, 100</td>\n",
       "      <td>{'type': 'Point', 'coordinates': [40.433563917...</td>\n",
       "    </tr>\n",
       "    <tr>\n",
       "      <th>14</th>\n",
       "      <td>Starbucks Príncipe Pío</td>\n",
       "      <td>{'type': 'Point', 'coordinates': [40.421949993...</td>\n",
       "    </tr>\n",
       "    <tr>\n",
       "      <th>15</th>\n",
       "      <td>Starbucks</td>\n",
       "      <td>{'type': 'Point', 'coordinates': [40.415323273...</td>\n",
       "    </tr>\n",
       "    <tr>\n",
       "      <th>16</th>\n",
       "      <td>Starbucks</td>\n",
       "      <td>{'type': 'Point', 'coordinates': [40.417489421...</td>\n",
       "    </tr>\n",
       "    <tr>\n",
       "      <th>17</th>\n",
       "      <td>Starbucks Teatro Real</td>\n",
       "      <td>{'type': 'Point', 'coordinates': [40.418106483...</td>\n",
       "    </tr>\n",
       "    <tr>\n",
       "      <th>18</th>\n",
       "      <td>Starbucks</td>\n",
       "      <td>{'type': 'Point', 'coordinates': [40.421095, -...</td>\n",
       "    </tr>\n",
       "    <tr>\n",
       "      <th>19</th>\n",
       "      <td>Starbucks Juan Bravo</td>\n",
       "      <td>{'type': 'Point', 'coordinates': [40.432967606...</td>\n",
       "    </tr>\n",
       "    <tr>\n",
       "      <th>20</th>\n",
       "      <td>Starbucks San Miguel</td>\n",
       "      <td>{'type': 'Point', 'coordinates': [40.415732975...</td>\n",
       "    </tr>\n",
       "    <tr>\n",
       "      <th>21</th>\n",
       "      <td>Starbucks Velázquez, 32</td>\n",
       "      <td>{'type': 'Point', 'coordinates': [40.424974636...</td>\n",
       "    </tr>\n",
       "    <tr>\n",
       "      <th>22</th>\n",
       "      <td>Starbucks ECI Preciados</td>\n",
       "      <td>{'type': 'Point', 'coordinates': [40.4174674, ...</td>\n",
       "    </tr>\n",
       "    <tr>\n",
       "      <th>23</th>\n",
       "      <td>Starbucks ECI Castellana (Starbucks)</td>\n",
       "      <td>{'type': 'Point', 'coordinates': [40.447488723...</td>\n",
       "    </tr>\n",
       "    <tr>\n",
       "      <th>24</th>\n",
       "      <td>Starbucks Reina Sofia</td>\n",
       "      <td>{'type': 'Point', 'coordinates': [40.408852145...</td>\n",
       "    </tr>\n",
       "    <tr>\n",
       "      <th>25</th>\n",
       "      <td>Starbucks Conde de Peñalver</td>\n",
       "      <td>{'type': 'Point', 'coordinates': [40.426066801...</td>\n",
       "    </tr>\n",
       "    <tr>\n",
       "      <th>26</th>\n",
       "      <td>Starbucks</td>\n",
       "      <td>{'type': 'Point', 'coordinates': [40.420450975...</td>\n",
       "    </tr>\n",
       "    <tr>\n",
       "      <th>27</th>\n",
       "      <td>Starbucks Velázquez</td>\n",
       "      <td>{'type': 'Point', 'coordinates': [40.439431444...</td>\n",
       "    </tr>\n",
       "    <tr>\n",
       "      <th>28</th>\n",
       "      <td>Starbucks Orense 6</td>\n",
       "      <td>{'type': 'Point', 'coordinates': [40.447728697...</td>\n",
       "    </tr>\n",
       "    <tr>\n",
       "      <th>29</th>\n",
       "      <td>Starbucks</td>\n",
       "      <td>{'type': 'Point', 'coordinates': [40.446775991...</td>\n",
       "    </tr>\n",
       "    <tr>\n",
       "      <th>30</th>\n",
       "      <td>Starbucks Palace</td>\n",
       "      <td>{'type': 'Point', 'coordinates': [40.414995, -...</td>\n",
       "    </tr>\n",
       "    <tr>\n",
       "      <th>31</th>\n",
       "      <td>Starbucks</td>\n",
       "      <td>{'type': 'Point', 'coordinates': [40.440273, -...</td>\n",
       "    </tr>\n",
       "    <tr>\n",
       "      <th>32</th>\n",
       "      <td>Starbucks</td>\n",
       "      <td>{'type': 'Point', 'coordinates': [40.403120577...</td>\n",
       "    </tr>\n",
       "    <tr>\n",
       "      <th>33</th>\n",
       "      <td>Starbucks Orense 79</td>\n",
       "      <td>{'type': 'Point', 'coordinates': [40.45957, -3...</td>\n",
       "    </tr>\n",
       "    <tr>\n",
       "      <th>34</th>\n",
       "      <td>Starbucks Plaza Río 2</td>\n",
       "      <td>{'type': 'Point', 'coordinates': [40.391303854...</td>\n",
       "    </tr>\n",
       "    <tr>\n",
       "      <th>35</th>\n",
       "      <td>Starbucks ECI Méndez Álvaro</td>\n",
       "      <td>{'type': 'Point', 'coordinates': [40.39469, -3...</td>\n",
       "    </tr>\n",
       "    <tr>\n",
       "      <th>36</th>\n",
       "      <td>Starbucks CC La Vaguada</td>\n",
       "      <td>{'type': 'Point', 'coordinates': [40.479635980...</td>\n",
       "    </tr>\n",
       "    <tr>\n",
       "      <th>37</th>\n",
       "      <td>Starbucks CC Dreams</td>\n",
       "      <td>{'type': 'Point', 'coordinates': [40.462822682...</td>\n",
       "    </tr>\n",
       "    <tr>\n",
       "      <th>38</th>\n",
       "      <td>Starbucks Pozuelo</td>\n",
       "      <td>{'type': 'Point', 'coordinates': [40.438168161...</td>\n",
       "    </tr>\n",
       "    <tr>\n",
       "      <th>39</th>\n",
       "      <td>Starbucks CC Islazul</td>\n",
       "      <td>{'type': 'Point', 'coordinates': [40.363502712...</td>\n",
       "    </tr>\n",
       "    <tr>\n",
       "      <th>40</th>\n",
       "      <td>Starbucks La Finca</td>\n",
       "      <td>{'type': 'Point', 'coordinates': [40.418888672...</td>\n",
       "    </tr>\n",
       "    <tr>\n",
       "      <th>41</th>\n",
       "      <td>Starbucks ECI Sanchinarro</td>\n",
       "      <td>{'type': 'Point', 'coordinates': [40.497687216...</td>\n",
       "    </tr>\n",
       "    <tr>\n",
       "      <th>42</th>\n",
       "      <td>Starbucks ECI Pozuelo</td>\n",
       "      <td>{'type': 'Point', 'coordinates': [40.463101058...</td>\n",
       "    </tr>\n",
       "    <tr>\n",
       "      <th>43</th>\n",
       "      <td>Starbucks Parquesur</td>\n",
       "      <td>{'type': 'Point', 'coordinates': [40.339331830...</td>\n",
       "    </tr>\n",
       "    <tr>\n",
       "      <th>44</th>\n",
       "      <td>Starbucks CC Plenilunio</td>\n",
       "      <td>{'type': 'Point', 'coordinates': [40.446385910...</td>\n",
       "    </tr>\n",
       "    <tr>\n",
       "      <th>45</th>\n",
       "      <td>Starbucks</td>\n",
       "      <td>{'type': 'Point', 'coordinates': [40.455039, -...</td>\n",
       "    </tr>\n",
       "  </tbody>\n",
       "</table>\n",
       "</div>"
      ],
      "text/plain": [
       "                                    name  \\\n",
       "0              Starbucks Plaza de España   \n",
       "1              Starbucks Room Mate Oscar   \n",
       "2                Starbucks Fuencarral 43   \n",
       "3                  Starbucks Princesa 40   \n",
       "4                  Starbucks Gran Vía 30   \n",
       "5                 Starbucks Preciados 27   \n",
       "6                  Starbucks Gran Vía 58   \n",
       "7                      Starbucks Quevedo   \n",
       "8                    Starbucks Alcalá 21   \n",
       "9                    Starbucks Génova 27   \n",
       "10                   Starbucks Arenal 14   \n",
       "11                             Starbucks   \n",
       "12                             Starbucks   \n",
       "13                Starbucks Serrano, 100   \n",
       "14                Starbucks Príncipe Pío   \n",
       "15                             Starbucks   \n",
       "16                             Starbucks   \n",
       "17                 Starbucks Teatro Real   \n",
       "18                             Starbucks   \n",
       "19                  Starbucks Juan Bravo   \n",
       "20                  Starbucks San Miguel   \n",
       "21               Starbucks Velázquez, 32   \n",
       "22               Starbucks ECI Preciados   \n",
       "23  Starbucks ECI Castellana (Starbucks)   \n",
       "24                 Starbucks Reina Sofia   \n",
       "25           Starbucks Conde de Peñalver   \n",
       "26                             Starbucks   \n",
       "27                   Starbucks Velázquez   \n",
       "28                    Starbucks Orense 6   \n",
       "29                             Starbucks   \n",
       "30                      Starbucks Palace   \n",
       "31                             Starbucks   \n",
       "32                             Starbucks   \n",
       "33                   Starbucks Orense 79   \n",
       "34                 Starbucks Plaza Río 2   \n",
       "35           Starbucks ECI Méndez Álvaro   \n",
       "36               Starbucks CC La Vaguada   \n",
       "37                   Starbucks CC Dreams   \n",
       "38                     Starbucks Pozuelo   \n",
       "39                  Starbucks CC Islazul   \n",
       "40                    Starbucks La Finca   \n",
       "41             Starbucks ECI Sanchinarro   \n",
       "42                 Starbucks ECI Pozuelo   \n",
       "43                   Starbucks Parquesur   \n",
       "44               Starbucks CC Plenilunio   \n",
       "45                             Starbucks   \n",
       "\n",
       "                                             location  \n",
       "0   {'type': 'Point', 'coordinates': [40.423319643...  \n",
       "1   {'type': 'Point', 'coordinates': [40.420751835...  \n",
       "2   {'type': 'Point', 'coordinates': [40.423112989...  \n",
       "3   {'type': 'Point', 'coordinates': [40.429068740...  \n",
       "4   {'type': 'Point', 'coordinates': [40.420140393...  \n",
       "5   {'type': 'Point', 'coordinates': [40.419667845...  \n",
       "6   {'type': 'Point', 'coordinates': [40.421751918...  \n",
       "7   {'type': 'Point', 'coordinates': [40.433353, -...  \n",
       "8   {'type': 'Point', 'coordinates': [40.418038185...  \n",
       "9   {'type': 'Point', 'coordinates': [40.425760357...  \n",
       "10  {'type': 'Point', 'coordinates': [40.417195167...  \n",
       "11  {'type': 'Point', 'coordinates': [40.418054, -...  \n",
       "12  {'type': 'Point', 'coordinates': [40.417539, -...  \n",
       "13  {'type': 'Point', 'coordinates': [40.433563917...  \n",
       "14  {'type': 'Point', 'coordinates': [40.421949993...  \n",
       "15  {'type': 'Point', 'coordinates': [40.415323273...  \n",
       "16  {'type': 'Point', 'coordinates': [40.417489421...  \n",
       "17  {'type': 'Point', 'coordinates': [40.418106483...  \n",
       "18  {'type': 'Point', 'coordinates': [40.421095, -...  \n",
       "19  {'type': 'Point', 'coordinates': [40.432967606...  \n",
       "20  {'type': 'Point', 'coordinates': [40.415732975...  \n",
       "21  {'type': 'Point', 'coordinates': [40.424974636...  \n",
       "22  {'type': 'Point', 'coordinates': [40.4174674, ...  \n",
       "23  {'type': 'Point', 'coordinates': [40.447488723...  \n",
       "24  {'type': 'Point', 'coordinates': [40.408852145...  \n",
       "25  {'type': 'Point', 'coordinates': [40.426066801...  \n",
       "26  {'type': 'Point', 'coordinates': [40.420450975...  \n",
       "27  {'type': 'Point', 'coordinates': [40.439431444...  \n",
       "28  {'type': 'Point', 'coordinates': [40.447728697...  \n",
       "29  {'type': 'Point', 'coordinates': [40.446775991...  \n",
       "30  {'type': 'Point', 'coordinates': [40.414995, -...  \n",
       "31  {'type': 'Point', 'coordinates': [40.440273, -...  \n",
       "32  {'type': 'Point', 'coordinates': [40.403120577...  \n",
       "33  {'type': 'Point', 'coordinates': [40.45957, -3...  \n",
       "34  {'type': 'Point', 'coordinates': [40.391303854...  \n",
       "35  {'type': 'Point', 'coordinates': [40.39469, -3...  \n",
       "36  {'type': 'Point', 'coordinates': [40.479635980...  \n",
       "37  {'type': 'Point', 'coordinates': [40.462822682...  \n",
       "38  {'type': 'Point', 'coordinates': [40.438168161...  \n",
       "39  {'type': 'Point', 'coordinates': [40.363502712...  \n",
       "40  {'type': 'Point', 'coordinates': [40.418888672...  \n",
       "41  {'type': 'Point', 'coordinates': [40.497687216...  \n",
       "42  {'type': 'Point', 'coordinates': [40.463101058...  \n",
       "43  {'type': 'Point', 'coordinates': [40.339331830...  \n",
       "44  {'type': 'Point', 'coordinates': [40.446385910...  \n",
       "45  {'type': 'Point', 'coordinates': [40.455039, -...  "
      ]
     },
     "execution_count": 551,
     "metadata": {},
     "output_type": "execute_result"
    }
   ],
   "source": [
    "starbucks_mad_point = pd.DataFrame(coleccion_starbucks)\n",
    "starbucks_mad_point"
   ]
  },
  {
   "cell_type": "code",
   "execution_count": 555,
   "id": "b8f5da33",
   "metadata": {},
   "outputs": [
    {
     "ename": "PermissionError",
     "evalue": "[Errno 13] Permission denied: '../data/starbucks_madrid.json'",
     "output_type": "error",
     "traceback": [
      "\u001b[1;31m---------------------------------------------------------------------------\u001b[0m",
      "\u001b[1;31mPermissionError\u001b[0m                           Traceback (most recent call last)",
      "\u001b[1;32m<ipython-input-555-a4fb286d3f03>\u001b[0m in \u001b[0;36m<module>\u001b[1;34m\u001b[0m\n\u001b[1;32m----> 1\u001b[1;33m \u001b[0mstarbucks_mad_point\u001b[0m\u001b[1;33m.\u001b[0m\u001b[0mto_json\u001b[0m\u001b[1;33m(\u001b[0m\u001b[1;34m\"../data/starbucks_madrid.json\"\u001b[0m\u001b[1;33m,\u001b[0m \u001b[0morient\u001b[0m\u001b[1;33m=\u001b[0m\u001b[1;34m\"records\"\u001b[0m\u001b[1;33m)\u001b[0m\u001b[1;33m\u001b[0m\u001b[1;33m\u001b[0m\u001b[0m\n\u001b[0m",
      "\u001b[1;32m~\\anaconda3\\envs\\geopandas\\lib\\site-packages\\pandas\\core\\generic.py\u001b[0m in \u001b[0;36mto_json\u001b[1;34m(self, path_or_buf, orient, date_format, double_precision, force_ascii, date_unit, default_handler, lines, compression, index, indent, storage_options)\u001b[0m\n\u001b[0;32m   2464\u001b[0m         \u001b[0mindent\u001b[0m \u001b[1;33m=\u001b[0m \u001b[0mindent\u001b[0m \u001b[1;32mor\u001b[0m \u001b[1;36m0\u001b[0m\u001b[1;33m\u001b[0m\u001b[1;33m\u001b[0m\u001b[0m\n\u001b[0;32m   2465\u001b[0m \u001b[1;33m\u001b[0m\u001b[0m\n\u001b[1;32m-> 2466\u001b[1;33m         return json.to_json(\n\u001b[0m\u001b[0;32m   2467\u001b[0m             \u001b[0mpath_or_buf\u001b[0m\u001b[1;33m=\u001b[0m\u001b[0mpath_or_buf\u001b[0m\u001b[1;33m,\u001b[0m\u001b[1;33m\u001b[0m\u001b[1;33m\u001b[0m\u001b[0m\n\u001b[0;32m   2468\u001b[0m             \u001b[0mobj\u001b[0m\u001b[1;33m=\u001b[0m\u001b[0mself\u001b[0m\u001b[1;33m,\u001b[0m\u001b[1;33m\u001b[0m\u001b[1;33m\u001b[0m\u001b[0m\n",
      "\u001b[1;32m~\\anaconda3\\envs\\geopandas\\lib\\site-packages\\pandas\\io\\json\\_json.py\u001b[0m in \u001b[0;36mto_json\u001b[1;34m(path_or_buf, obj, orient, date_format, double_precision, force_ascii, date_unit, default_handler, lines, compression, index, indent, storage_options)\u001b[0m\n\u001b[0;32m    100\u001b[0m     \u001b[1;32mif\u001b[0m \u001b[0mpath_or_buf\u001b[0m \u001b[1;32mis\u001b[0m \u001b[1;32mnot\u001b[0m \u001b[1;32mNone\u001b[0m\u001b[1;33m:\u001b[0m\u001b[1;33m\u001b[0m\u001b[1;33m\u001b[0m\u001b[0m\n\u001b[0;32m    101\u001b[0m         \u001b[1;31m# apply compression and byte/text conversion\u001b[0m\u001b[1;33m\u001b[0m\u001b[1;33m\u001b[0m\u001b[1;33m\u001b[0m\u001b[0m\n\u001b[1;32m--> 102\u001b[1;33m         with get_handle(\n\u001b[0m\u001b[0;32m    103\u001b[0m             \u001b[0mpath_or_buf\u001b[0m\u001b[1;33m,\u001b[0m \u001b[1;34m\"w\"\u001b[0m\u001b[1;33m,\u001b[0m \u001b[0mcompression\u001b[0m\u001b[1;33m=\u001b[0m\u001b[0mcompression\u001b[0m\u001b[1;33m,\u001b[0m \u001b[0mstorage_options\u001b[0m\u001b[1;33m=\u001b[0m\u001b[0mstorage_options\u001b[0m\u001b[1;33m\u001b[0m\u001b[1;33m\u001b[0m\u001b[0m\n\u001b[0;32m    104\u001b[0m         ) as handles:\n",
      "\u001b[1;32m~\\anaconda3\\envs\\geopandas\\lib\\site-packages\\pandas\\io\\common.py\u001b[0m in \u001b[0;36mget_handle\u001b[1;34m(path_or_buf, mode, encoding, compression, memory_map, is_text, errors, storage_options)\u001b[0m\n\u001b[0;32m    640\u001b[0m                 \u001b[0merrors\u001b[0m \u001b[1;33m=\u001b[0m \u001b[1;34m\"replace\"\u001b[0m\u001b[1;33m\u001b[0m\u001b[1;33m\u001b[0m\u001b[0m\n\u001b[0;32m    641\u001b[0m             \u001b[1;31m# Encoding\u001b[0m\u001b[1;33m\u001b[0m\u001b[1;33m\u001b[0m\u001b[1;33m\u001b[0m\u001b[0m\n\u001b[1;32m--> 642\u001b[1;33m             handle = open(\n\u001b[0m\u001b[0;32m    643\u001b[0m                 \u001b[0mhandle\u001b[0m\u001b[1;33m,\u001b[0m\u001b[1;33m\u001b[0m\u001b[1;33m\u001b[0m\u001b[0m\n\u001b[0;32m    644\u001b[0m                 \u001b[0mioargs\u001b[0m\u001b[1;33m.\u001b[0m\u001b[0mmode\u001b[0m\u001b[1;33m,\u001b[0m\u001b[1;33m\u001b[0m\u001b[1;33m\u001b[0m\u001b[0m\n",
      "\u001b[1;31mPermissionError\u001b[0m: [Errno 13] Permission denied: '../data/starbucks_madrid.json'"
     ]
    }
   ],
   "source": [
    "starbucks_mad_point.to_json(\"../data/starbucks_madrid.json\", orient=\"records\")"
   ]
  },
  {
   "cell_type": "code",
   "execution_count": null,
   "id": "b9b606ef",
   "metadata": {},
   "outputs": [],
   "source": []
  },
  {
   "cell_type": "code",
   "execution_count": null,
   "id": "71f543d4",
   "metadata": {},
   "outputs": [],
   "source": []
  },
  {
   "cell_type": "code",
   "execution_count": null,
   "id": "5085bacf",
   "metadata": {},
   "outputs": [],
   "source": []
  },
  {
   "cell_type": "markdown",
   "id": "bef8c27c",
   "metadata": {},
   "source": [
    "## Colección Escuelas"
   ]
  },
  {
   "cell_type": "code",
   "execution_count": 545,
   "id": "6ce2a0d5",
   "metadata": {},
   "outputs": [],
   "source": [
    "url = 'https://api.foursquare.com/v2/venues/explore'\n",
    "\n",
    "params = dict(\n",
    "client_id= tok1,\n",
    "client_secret= tok2,\n",
    "v='20180323',\n",
    "ll='40.42741669687324,-3.7042628540907128',\n",
    "query='school',\n",
    "limit=3000\n",
    ")     # instituto"
   ]
  },
  {
   "cell_type": "code",
   "execution_count": 546,
   "id": "a62665cb",
   "metadata": {},
   "outputs": [],
   "source": [
    "resp = requests.get(url= url, params = params).json()"
   ]
  },
  {
   "cell_type": "code",
   "execution_count": 547,
   "id": "532f2f2e",
   "metadata": {},
   "outputs": [],
   "source": [
    "data = resp.get(\"response\").get(\"groups\")[0].get(\"items\")"
   ]
  },
  {
   "cell_type": "code",
   "execution_count": 548,
   "id": "175d9cb5",
   "metadata": {},
   "outputs": [],
   "source": [
    "def getFromDict(diccionario,mapa):\n",
    "    return reduce(operator.getitem,mapa,diccionario)\n",
    "\n",
    "mapa_nombre =  [\"venue\", \"name\"]\n",
    "mapa_latitud = [\"venue\", \"location\", \"lat\"]\n",
    "mapa_longitud = [\"venue\", \"location\", \"lng\"]\n",
    "\n",
    "escuelas_madrid = []\n",
    "for dic in data:\n",
    "    paralista = {}\n",
    "    paralista[\"name\"] = getFromDict(dic, mapa_nombre)\n",
    "    paralista[\"latitud\"]= getFromDict(dic, mapa_latitud)\n",
    "    paralista[\"longitud\"] = getFromDict(dic,mapa_longitud)\n",
    "    escuelas_madrid.append(paralista)"
   ]
  },
  {
   "cell_type": "code",
   "execution_count": 549,
   "id": "e4f99d7c",
   "metadata": {},
   "outputs": [
    {
     "data": {
      "text/plain": [
       "[{'name': 'escuela restaura',\n",
       "  'latitud': 40.4260684,\n",
       "  'longitud': -3.703749000000016},\n",
       " {'name': 'La Piscifactoría Laboratorio de Creación',\n",
       "  'latitud': 40.428569847199334,\n",
       "  'longitud': -3.7033045291900635},\n",
       " {'name': 'Enforex - Escuela',\n",
       "  'latitud': 40.429489606628735,\n",
       "  'longitud': -3.7098631494758605},\n",
       " {'name': 'La Posada de Hojalata',\n",
       "  'latitud': 40.4294241,\n",
       "  'longitud': -3.698964700000033},\n",
       " {'name': 'Enforex Head Office',\n",
       "  'latitud': 40.42945674796501,\n",
       "  'longitud': -3.7098049657373955},\n",
       " {'name': 'Colegio Madres Concepcionistas',\n",
       "  'latitud': 40.42622508788577,\n",
       "  'longitud': -3.7131554713265724},\n",
       " {'name': 'International House',\n",
       "  'latitud': 40.42723918657325,\n",
       "  'longitud': -3.6949899009748393},\n",
       " {'name': 'I.E.S. Lope de Vega',\n",
       "  'latitud': 40.427047133724855,\n",
       "  'longitud': -3.705437247913203},\n",
       " {'name': 'Centro educativo Maria Inmaculada Fuencarral',\n",
       "  'latitud': 40.4278666,\n",
       "  'longitud': -3.7034308},\n",
       " {'name': 'Academia Contacto',\n",
       "  'latitud': 40.43268647684853,\n",
       "  'longitud': -3.699153159324687}]"
      ]
     },
     "execution_count": 549,
     "metadata": {},
     "output_type": "execute_result"
    }
   ],
   "source": [
    "escuelas_madrid"
   ]
  },
  {
   "cell_type": "code",
   "execution_count": 488,
   "id": "6a4ca815",
   "metadata": {},
   "outputs": [],
   "source": [
    "starbucks_mad = pd.DataFrame(starbucks_madrid)"
   ]
  },
  {
   "cell_type": "code",
   "execution_count": 490,
   "id": "ba4675ce",
   "metadata": {},
   "outputs": [
    {
     "data": {
      "text/html": [
       "<div>\n",
       "<style scoped>\n",
       "    .dataframe tbody tr th:only-of-type {\n",
       "        vertical-align: middle;\n",
       "    }\n",
       "\n",
       "    .dataframe tbody tr th {\n",
       "        vertical-align: top;\n",
       "    }\n",
       "\n",
       "    .dataframe thead th {\n",
       "        text-align: right;\n",
       "    }\n",
       "</style>\n",
       "<table border=\"1\" class=\"dataframe\">\n",
       "  <thead>\n",
       "    <tr style=\"text-align: right;\">\n",
       "      <th></th>\n",
       "      <th>name</th>\n",
       "      <th>latitud</th>\n",
       "      <th>longitud</th>\n",
       "    </tr>\n",
       "  </thead>\n",
       "  <tbody>\n",
       "    <tr>\n",
       "      <th>0</th>\n",
       "      <td>Starbucks Plaza de España</td>\n",
       "      <td>40.423320</td>\n",
       "      <td>-3.710883</td>\n",
       "    </tr>\n",
       "    <tr>\n",
       "      <th>1</th>\n",
       "      <td>Starbucks Room Mate Oscar</td>\n",
       "      <td>40.420752</td>\n",
       "      <td>-3.699315</td>\n",
       "    </tr>\n",
       "    <tr>\n",
       "      <th>2</th>\n",
       "      <td>Starbucks Fuencarral 43</td>\n",
       "      <td>40.423113</td>\n",
       "      <td>-3.700798</td>\n",
       "    </tr>\n",
       "    <tr>\n",
       "      <th>3</th>\n",
       "      <td>Starbucks Princesa 40</td>\n",
       "      <td>40.429069</td>\n",
       "      <td>-3.715079</td>\n",
       "    </tr>\n",
       "    <tr>\n",
       "      <th>4</th>\n",
       "      <td>Starbucks Gran Vía 30</td>\n",
       "      <td>40.420140</td>\n",
       "      <td>-3.702886</td>\n",
       "    </tr>\n",
       "  </tbody>\n",
       "</table>\n",
       "</div>"
      ],
      "text/plain": [
       "                        name    latitud  longitud\n",
       "0  Starbucks Plaza de España  40.423320 -3.710883\n",
       "1  Starbucks Room Mate Oscar  40.420752 -3.699315\n",
       "2    Starbucks Fuencarral 43  40.423113 -3.700798\n",
       "3      Starbucks Princesa 40  40.429069 -3.715079\n",
       "4      Starbucks Gran Vía 30  40.420140 -3.702886"
      ]
     },
     "execution_count": 490,
     "metadata": {},
     "output_type": "execute_result"
    }
   ],
   "source": [
    "starbucks_mad.head()"
   ]
  },
  {
   "cell_type": "code",
   "execution_count": 493,
   "id": "9678379a",
   "metadata": {},
   "outputs": [],
   "source": [
    "lista_starbucks = td.sacar_coord(starbucks_madrid)"
   ]
  },
  {
   "cell_type": "code",
   "execution_count": 495,
   "id": "fdb2bde0",
   "metadata": {},
   "outputs": [
    {
     "data": {
      "text/plain": [
       "46"
      ]
     },
     "execution_count": 495,
     "metadata": {},
     "output_type": "execute_result"
    }
   ],
   "source": [
    "len(lista_starbucks)"
   ]
  },
  {
   "cell_type": "code",
   "execution_count": 496,
   "id": "13f6f2a6",
   "metadata": {},
   "outputs": [],
   "source": [
    "coleccion_starbucks = []\n",
    "for elem in starbucks_madrid:\n",
    "    entrada = {\n",
    "        \"name\": elem.get(\"name\"),\n",
    "        \"location\": {\"type\": \"Point\", \"coordinates\": [elem.get(\"latitud\"), elem.get(\"longitud\")]}\n",
    "        \n",
    "    }\n",
    "    coleccion_starbucks.append(entrada)"
   ]
  },
  {
   "cell_type": "code",
   "execution_count": 497,
   "id": "a8df1c57",
   "metadata": {
    "collapsed": true
   },
   "outputs": [
    {
     "data": {
      "text/plain": [
       "[{'name': 'Starbucks Plaza de España',\n",
       "  'location': {'type': 'Point',\n",
       "   'coordinates': [40.423319643246955, -3.710882844657412]}},\n",
       " {'name': 'Starbucks Room Mate Oscar',\n",
       "  'location': {'type': 'Point',\n",
       "   'coordinates': [40.42075183549848, -3.6993145297210788]}},\n",
       " {'name': 'Starbucks Fuencarral 43',\n",
       "  'location': {'type': 'Point',\n",
       "   'coordinates': [40.423112989750564, -3.700798408458431]}},\n",
       " {'name': 'Starbucks Princesa 40',\n",
       "  'location': {'type': 'Point',\n",
       "   'coordinates': [40.42906874005007, -3.7150786671568476]}},\n",
       " {'name': 'Starbucks Gran Vía 30',\n",
       "  'location': {'type': 'Point',\n",
       "   'coordinates': [40.42014039388448, -3.702886033408268]}},\n",
       " {'name': 'Starbucks Preciados 27',\n",
       "  'location': {'type': 'Point',\n",
       "   'coordinates': [40.419667845686355, -3.7061354223688325]}},\n",
       " {'name': 'Starbucks Gran Vía 58',\n",
       "  'location': {'type': 'Point',\n",
       "   'coordinates': [40.421751918201934, -3.7083782102926905]}},\n",
       " {'name': 'Starbucks Quevedo',\n",
       "  'location': {'type': 'Point', 'coordinates': [40.433353, -3.703958]}},\n",
       " {'name': 'Starbucks Alcalá 21',\n",
       "  'location': {'type': 'Point',\n",
       "   'coordinates': [40.418038185194774, -3.699371513099982]}},\n",
       " {'name': 'Starbucks Génova 27',\n",
       "  'location': {'type': 'Point',\n",
       "   'coordinates': [40.425760357264515, -3.691781759262085]}},\n",
       " {'name': 'Starbucks Arenal 14',\n",
       "  'location': {'type': 'Point',\n",
       "   'coordinates': [40.41719516711848, -3.706118548830636]}},\n",
       " {'name': 'Starbucks',\n",
       "  'location': {'type': 'Point', 'coordinates': [40.418054, -3.710009]}},\n",
       " {'name': 'Starbucks',\n",
       "  'location': {'type': 'Point', 'coordinates': [40.417539, -3.702775]}},\n",
       " {'name': 'Starbucks Serrano, 100',\n",
       "  'location': {'type': 'Point',\n",
       "   'coordinates': [40.4335639178076, -3.6868293595360973]}},\n",
       " {'name': 'Starbucks Príncipe Pío',\n",
       "  'location': {'type': 'Point',\n",
       "   'coordinates': [40.421949993513195, -3.7203776278003375]}},\n",
       " {'name': 'Starbucks',\n",
       "  'location': {'type': 'Point',\n",
       "   'coordinates': [40.41532327347708, -3.6949486687744146]}},\n",
       " {'name': 'Starbucks',\n",
       "  'location': {'type': 'Point',\n",
       "   'coordinates': [40.41748942152583, -3.70466514037747]}},\n",
       " {'name': 'Starbucks Teatro Real',\n",
       "  'location': {'type': 'Point',\n",
       "   'coordinates': [40.418106483857194, -3.709606077515513]}},\n",
       " {'name': 'Starbucks',\n",
       "  'location': {'type': 'Point', 'coordinates': [40.421095, -3.70256]}},\n",
       " {'name': 'Starbucks Juan Bravo',\n",
       "  'location': {'type': 'Point',\n",
       "   'coordinates': [40.43296760669224, -3.6832201480865474]}},\n",
       " {'name': 'Starbucks San Miguel',\n",
       "  'location': {'type': 'Point',\n",
       "   'coordinates': [40.41573297582015, -3.708717822655616]}},\n",
       " {'name': 'Starbucks Velázquez, 32',\n",
       "  'location': {'type': 'Point',\n",
       "   'coordinates': [40.424974636524, -3.684107212216363]}},\n",
       " {'name': 'Starbucks ECI Preciados',\n",
       "  'location': {'type': 'Point', 'coordinates': [40.4174674, -3.7043957]}},\n",
       " {'name': 'Starbucks ECI Castellana (Starbucks)',\n",
       "  'location': {'type': 'Point',\n",
       "   'coordinates': [40.44748872381242, -3.6930934929855574]}},\n",
       " {'name': 'Starbucks Reina Sofia',\n",
       "  'location': {'type': 'Point',\n",
       "   'coordinates': [40.40885214578761, -3.693236539287397]}},\n",
       " {'name': 'Starbucks Conde de Peñalver',\n",
       "  'location': {'type': 'Point',\n",
       "   'coordinates': [40.426066801136066, -3.6756167469058876]}},\n",
       " {'name': 'Starbucks',\n",
       "  'location': {'type': 'Point',\n",
       "   'coordinates': [40.420450975922165, -3.6796733064135796]}},\n",
       " {'name': 'Starbucks Velázquez',\n",
       "  'location': {'type': 'Point',\n",
       "   'coordinates': [40.4394314443529, -3.6826531171468173]}},\n",
       " {'name': 'Starbucks Orense 6',\n",
       "  'location': {'type': 'Point',\n",
       "   'coordinates': [40.44772869759542, -3.6951754717412046]}},\n",
       " {'name': 'Starbucks',\n",
       "  'location': {'type': 'Point',\n",
       "   'coordinates': [40.44677599194058, -3.6918291111629657]}},\n",
       " {'name': 'Starbucks Palace',\n",
       "  'location': {'type': 'Point', 'coordinates': [40.414995, -3.695058]}},\n",
       " {'name': 'Starbucks',\n",
       "  'location': {'type': 'Point', 'coordinates': [40.440273, -3.682125]}},\n",
       " {'name': 'Starbucks',\n",
       "  'location': {'type': 'Point',\n",
       "   'coordinates': [40.403120577140534, -3.687687685586035]}},\n",
       " {'name': 'Starbucks Orense 79',\n",
       "  'location': {'type': 'Point', 'coordinates': [40.45957, -3.6943874]}},\n",
       " {'name': 'Starbucks Plaza Río 2',\n",
       "  'location': {'type': 'Point',\n",
       "   'coordinates': [40.39130385405477, -3.701122858987979]}},\n",
       " {'name': 'Starbucks ECI Méndez Álvaro',\n",
       "  'location': {'type': 'Point', 'coordinates': [40.39469, -3.676454]}},\n",
       " {'name': 'Starbucks CC La Vaguada',\n",
       "  'location': {'type': 'Point',\n",
       "   'coordinates': [40.47963598026618, -3.707357285899872]}},\n",
       " {'name': 'Starbucks CC Dreams',\n",
       "  'location': {'type': 'Point',\n",
       "   'coordinates': [40.46282268242124, -3.636758032267253]}},\n",
       " {'name': 'Starbucks Pozuelo',\n",
       "  'location': {'type': 'Point',\n",
       "   'coordinates': [40.43816816158585, -3.793838131943415]}},\n",
       " {'name': 'Starbucks CC Islazul',\n",
       "  'location': {'type': 'Point',\n",
       "   'coordinates': [40.36350271226119, -3.7365511407333716]}},\n",
       " {'name': 'Starbucks La Finca',\n",
       "  'location': {'type': 'Point',\n",
       "   'coordinates': [40.41888867283295, -3.800662722672292]}},\n",
       " {'name': 'Starbucks ECI Sanchinarro',\n",
       "  'location': {'type': 'Point',\n",
       "   'coordinates': [40.49768721643861, -3.660368141302403]}},\n",
       " {'name': 'Starbucks ECI Pozuelo',\n",
       "  'location': {'type': 'Point',\n",
       "   'coordinates': [40.463101058172825, -3.806382840888177]}},\n",
       " {'name': 'Starbucks Parquesur',\n",
       "  'location': {'type': 'Point',\n",
       "   'coordinates': [40.3393318306369, -3.7333420586110004]}},\n",
       " {'name': 'Starbucks CC Plenilunio',\n",
       "  'location': {'type': 'Point',\n",
       "   'coordinates': [40.44638591027995, -3.587592789104539]}},\n",
       " {'name': 'Starbucks',\n",
       "  'location': {'type': 'Point', 'coordinates': [40.455039, -3.583356]}}]"
      ]
     },
     "execution_count": 497,
     "metadata": {},
     "output_type": "execute_result"
    }
   ],
   "source": [
    "coleccion_starbucks"
   ]
  },
  {
   "cell_type": "code",
   "execution_count": 500,
   "id": "2a39dc2f",
   "metadata": {},
   "outputs": [
    {
     "data": {
      "text/html": [
       "<div>\n",
       "<style scoped>\n",
       "    .dataframe tbody tr th:only-of-type {\n",
       "        vertical-align: middle;\n",
       "    }\n",
       "\n",
       "    .dataframe tbody tr th {\n",
       "        vertical-align: top;\n",
       "    }\n",
       "\n",
       "    .dataframe thead th {\n",
       "        text-align: right;\n",
       "    }\n",
       "</style>\n",
       "<table border=\"1\" class=\"dataframe\">\n",
       "  <thead>\n",
       "    <tr style=\"text-align: right;\">\n",
       "      <th></th>\n",
       "      <th>name</th>\n",
       "      <th>location</th>\n",
       "    </tr>\n",
       "  </thead>\n",
       "  <tbody>\n",
       "    <tr>\n",
       "      <th>0</th>\n",
       "      <td>Starbucks Plaza de España</td>\n",
       "      <td>{'type': 'Point', 'coordinates': [40.423319643...</td>\n",
       "    </tr>\n",
       "    <tr>\n",
       "      <th>1</th>\n",
       "      <td>Starbucks Room Mate Oscar</td>\n",
       "      <td>{'type': 'Point', 'coordinates': [40.420751835...</td>\n",
       "    </tr>\n",
       "    <tr>\n",
       "      <th>2</th>\n",
       "      <td>Starbucks Fuencarral 43</td>\n",
       "      <td>{'type': 'Point', 'coordinates': [40.423112989...</td>\n",
       "    </tr>\n",
       "    <tr>\n",
       "      <th>3</th>\n",
       "      <td>Starbucks Princesa 40</td>\n",
       "      <td>{'type': 'Point', 'coordinates': [40.429068740...</td>\n",
       "    </tr>\n",
       "    <tr>\n",
       "      <th>4</th>\n",
       "      <td>Starbucks Gran Vía 30</td>\n",
       "      <td>{'type': 'Point', 'coordinates': [40.420140393...</td>\n",
       "    </tr>\n",
       "  </tbody>\n",
       "</table>\n",
       "</div>"
      ],
      "text/plain": [
       "                        name  \\\n",
       "0  Starbucks Plaza de España   \n",
       "1  Starbucks Room Mate Oscar   \n",
       "2    Starbucks Fuencarral 43   \n",
       "3      Starbucks Princesa 40   \n",
       "4      Starbucks Gran Vía 30   \n",
       "\n",
       "                                            location  \n",
       "0  {'type': 'Point', 'coordinates': [40.423319643...  \n",
       "1  {'type': 'Point', 'coordinates': [40.420751835...  \n",
       "2  {'type': 'Point', 'coordinates': [40.423112989...  \n",
       "3  {'type': 'Point', 'coordinates': [40.429068740...  \n",
       "4  {'type': 'Point', 'coordinates': [40.420140393...  "
      ]
     },
     "execution_count": 500,
     "metadata": {},
     "output_type": "execute_result"
    }
   ],
   "source": [
    "starbucks_mad_point = pd.DataFrame(coleccion_starbucks)\n",
    "starbucks_mad_point.head()"
   ]
  },
  {
   "cell_type": "code",
   "execution_count": 501,
   "id": "375c4449",
   "metadata": {},
   "outputs": [],
   "source": [
    "df.to_json(\"../data/starbucks_madrid_col.json\", orient=\"records\")"
   ]
  },
  {
   "cell_type": "code",
   "execution_count": null,
   "id": "de214d61",
   "metadata": {},
   "outputs": [],
   "source": []
  },
  {
   "cell_type": "code",
   "execution_count": null,
   "id": "1fceb912",
   "metadata": {},
   "outputs": [],
   "source": []
  },
  {
   "cell_type": "code",
   "execution_count": null,
   "id": "129e9de9",
   "metadata": {},
   "outputs": [],
   "source": []
  },
  {
   "cell_type": "code",
   "execution_count": null,
   "id": "d4498795",
   "metadata": {},
   "outputs": [],
   "source": []
  },
  {
   "cell_type": "markdown",
   "id": "ff67d76e",
   "metadata": {},
   "source": [
    "#### ESTO SE QUEDA POR AHORA AQUÍ PARA RECORDARME CIERTAS COSAS"
   ]
  },
  {
   "cell_type": "code",
   "execution_count": null,
   "id": "e16dc9f0",
   "metadata": {},
   "outputs": [],
   "source": [
    "###ESTO ES LO QUE NECESITO PARA IR ALMACENANDO TODAS LAS POSIBLES COINCIDENCIAS\n",
    "# EL HISTÓRICO SIEMPRE SE TIENE QUE DECLARAR CON LAS COORDENADAS DE INICIO\n",
    "\n",
    "historico = [[1, 2]]\n",
    "\n",
    "datos_02 = [[3, 4], [5, 6]]\n",
    "\n",
    "datos_03 = [[[7, 8], [9, 10]] , [[88, 88], [77, 77]]]\n",
    "\n",
    "datos_04 = [[[22, 11], [31, 10]], [[0, 0], [55, 54], [1, 1]], [[33, 33], [45, 46]], [[13, 1], [0, 110]]]\n",
    "\n",
    "# LE IREMOS PASANDO LOS RESULTADOS DE LAS CONSULTAS\n",
    "\n",
    "# HAY QUE DECIRLE EL NÚMERO DE BÚSQUEDA QUE HA SIDO PARA QUE SEPA COMO DIBUJAR EL ARBOL\n",
    "\n",
    "historico = td.guardar_historico(historico, datos_02)\n",
    "\n",
    "historico = td.guardar_historico(historico, datos_03)\n",
    "\n",
    "historico = td.guardar_historico(historico, datos_04)\n",
    "\n",
    "# TIENES QUE GENERAR UNA FUNCIÓN QUE LIMPIE EL HISTÓRICO Y DEVUELVA LA MEDIA DE LAS COORDENADAS DE CADA FILA PARA\n",
    "#LA SIGUIENTE BÚSQUEDA.\n",
    "\n",
    "#ACUERDATE DE QUE TIENES QUE ALMACENAR LOS RESULTADOS EN UNA LISTA MAYOR"
   ]
  },
  {
   "cell_type": "markdown",
   "id": "04d65971",
   "metadata": {},
   "source": [
    "hay que hacerlo por elementos"
   ]
  }
 ],
 "metadata": {
  "kernelspec": {
   "display_name": "Python 3",
   "language": "python",
   "name": "python3"
  },
  "language_info": {
   "codemirror_mode": {
    "name": "ipython",
    "version": 3
   },
   "file_extension": ".py",
   "mimetype": "text/x-python",
   "name": "python",
   "nbconvert_exporter": "python",
   "pygments_lexer": "ipython3",
   "version": "3.8.8"
  }
 },
 "nbformat": 4,
 "nbformat_minor": 5
}
